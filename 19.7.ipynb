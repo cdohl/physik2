{
 "cells": [
  {
   "cell_type": "markdown",
   "metadata": {},
   "source": [
    "### 19.7 Der Magnetische Fluss\n",
    "\n",
    "<img src=\"figures/19.7_1.png\" alt=\"19.7_1\" style=\"width: 350px;\"/>   \n",
    "\n",
    "\n",
    "* Magnetische Fluss $\\Phi$ ist das Produkt der Fläche $A$ mit dem senkrecht durch die Fläche gehendes Magnetfeld $B_\\perp$. Für die obige Abbildung mit Fläche $A=l^2$ ist das $\\Phi = B_\\perp A = B\\,A \\cos \\Theta$, oder allgemein $\\Phi=\\vec{B}\\cdot\\vec{A}$.\n",
    "\n",
    "* Für eine beliebige Fläche muss das Integral über die Fläche gebildet werden:\n",
    "\n",
    "$$\\Phi = \\int \\vec{B}\\cdot\\mathrm{d}\\vec{A}$$\n",
    "$$\\Phi = \\int \\left|\\vec{B}\\right|\\, \\left|\\mathrm{d}\\vec{A}\\right| \\,\n",
    "\\cos(\\vec{B},\\mathrm{d}\\vec{A})$$\n",
    "\n",
    "* Magnetische Fluss wird maximal, wenn $B\\parallel \\mathrm{d}\\vec{A}$.\n",
    "* Magnetische Fluss: $\\Phi =0$, wenn $B\\perp \\mathrm{d}\\vec{A}$.\n",
    "* Die Einheit des magnetischen Flusses ist $\\mathsf{T \\cdot m^2}$, diese Einheit wird auch *Weber* genannt."
   ]
  },
  {
   "cell_type": "code",
   "execution_count": null,
   "metadata": {},
   "outputs": [],
   "source": []
  }
 ],
 "metadata": {
  "kernelspec": {
   "display_name": "Python [conda env:anaconda2]",
   "language": "python",
   "name": "conda-env-anaconda2-py"
  },
  "language_info": {
   "codemirror_mode": {
    "name": "ipython",
    "version": 2
   },
   "file_extension": ".py",
   "mimetype": "text/x-python",
   "name": "python",
   "nbconvert_exporter": "python",
   "pygments_lexer": "ipython2",
   "version": "2.7.14"
  }
 },
 "nbformat": 4,
 "nbformat_minor": 2
}
