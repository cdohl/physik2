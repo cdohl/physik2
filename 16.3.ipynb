{
 "cells": [
  {
   "cell_type": "markdown",
   "metadata": {},
   "source": [
    "### 16.3 Ladungen als Quellen des elektrischen Feldes\n",
    "\n",
    "* Definition der elektrischen Feldstärke $\\vec{E}$\n",
    "\n",
    "$$ \\left[\\vec{E}\\right]=1\\,\\mathsf{V\\,m^{-1}} $$\n",
    "\n",
    "<img src=\"figures/16.2_1.png\" alt=\"16.2_1\" style=\"width: 200px;\"/>\n",
    "\n",
    "$$\\vec{F}_C=\\vec{F}_{12}=\\frac{1}{4\\pi\\epsilon_0} \\cdot \\frac{Q_1 \\cdot Q_2}{r^2}\\cdot \\vec{e}_r$$ \n",
    "\n",
    "* Wir bringen die Ladung $Q_2$ in das elektrische Feld der Ladung $Q_1$\n",
    "\n",
    "$$\\vec{E}=\\frac{1}{Q_2}\\vec{F}_{12}$$\n",
    "\n",
    "⇨ das elektrische Feld der Ladung $Q_1$ ist\n",
    "\n",
    "$$\\vec{E}=\\frac{1}{4\\pi\\epsilon_0} \\cdot \\frac{Q_1}{r^2}\\cdot \\vec{e}_r$$\n",
    "\n",
    "* Feldverteilung einer positiven Punktladung $Q_1^+=+ N_1\\cdot e$ wobei die Anzahl der Ladungen $N_1=1,2,3, \\dotsc$ angibt.\n",
    "\n",
    "<img src=\"figures/16.3_2.png\" alt=\"16.2_1\" style=\"width: 200px;\"/>\n",
    "\n",
    "\n",
    "* Übergang zu einem beliebigen Koordinatensytem\n",
    "\n",
    "<img src=\"figures/16.3_3.png\" alt=\"16.3_3\" style=\"width: 200px;\"/>\n",
    "\n",
    "\n",
    "\n",
    "$$\\vec{E}(\\vec{r})=\\frac{1}{4\\pi\\epsilon_0} \\cdot \\frac{Q_1}{\\left|\\vec{r}-\\vec{r_1}\\right|^3}\\cdot \\left(\\vec{r}-\\vec{r_1}\\right)$$\n",
    "\n",
    "\n",
    "* Für mehrere Ladungen ⇨ Superposition der Feldstärken \n",
    "\n",
    "$$ \\vec{E}(\\vec{r})=\\frac{1}{4\\pi\\epsilon_0} \\left(\\frac{Q_1\\cdot \\left(\\vec{r}-\\vec{r_1}\\right)}{\\left|\\vec{r}-\\vec{r_1}\\right|^3} + \\frac{Q_2\\cdot \\left(\\vec{r}-\\vec{r_2}\\right)}{\\left|\\vec{r}-\\vec{r_2}\\right|^3} + \\dotsc\\right)$$\n"
   ]
  },
  {
   "cell_type": "markdown",
   "metadata": {},
   "source": [
    "* elektrischer Dipol\n",
    "\n",
    "\n",
    "\n"
   ]
  }
 ],
 "metadata": {
  "kernelspec": {
   "display_name": "Python 2",
   "language": "python",
   "name": "python2"
  },
  "language_info": {
   "codemirror_mode": {
    "name": "ipython",
    "version": 2
   },
   "file_extension": ".py",
   "mimetype": "text/x-python",
   "name": "python",
   "nbconvert_exporter": "python",
   "pygments_lexer": "ipython2",
   "version": "2.7.14"
  }
 },
 "nbformat": 4,
 "nbformat_minor": 2
}
