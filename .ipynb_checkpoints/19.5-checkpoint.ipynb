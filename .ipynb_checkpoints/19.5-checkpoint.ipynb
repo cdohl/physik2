{
 "cells": [
  {
   "cell_type": "markdown",
   "metadata": {},
   "source": [
    "### 19.5 Magnetfelder bestimmter Stromverteilungen\n",
    "\n",
    "Das Ampère'sche Gesetz erlaubt es Magnetfelder einfacher Ströme zu bestimmen. Hier schauen wir uns zwei Beispiele an, nämlich von einem dicken Leiter und innerhalb einer langen Spule.\n",
    "\n",
    "#### A) Magnetisches Feld inner- und ausserhalb eines Leiters\n",
    "\n",
    "\n",
    "Bei der Berechnung des Magnetfeldes innerhalb und ausserhaln eines dicken Leiters muss der eingeschlossene Strom innnerhalb der Fläche berücksichtigt werden. \n",
    "\n",
    "<img src=\"figures/19.5_1.png\" alt=\"19.5_1\" style=\"width: 250px;\"/>   \n",
    "\n",
    "\n",
    "Für $r>R$ ist es der komplette Strom $I$\n",
    "\n",
    "$$\\oint \\vec{B}\\cdot\\mathrm{d}\\vec{s}=B \\, 2 \\pi r = \\mu_0 \\, I$$ \n",
    "\n",
    "und damit\n",
    "\n",
    "$$B=\\frac{\\mu_0}{2\\pi}\\,\\frac{I}{r}$$\n",
    "\n",
    "für $r<R$ ist der Strom $I_{r<R}$ kleiner, nämlich:\n",
    "\n",
    "$$I_{r<R}=I\\left(\\frac{\\pi r^2}{\\pi R^2}\\right)$$\n",
    "\n",
    "Damit ist\n",
    "\n",
    "$$\\oint \\vec{B}\\cdot\\mathrm{d}\\vec{s}=\\mu_0 \\, \\frac{r^2}{R^2}$$\n",
    "und wir erhalten \n",
    "$$B=\\frac{\\mu_0 I\\, r}{2\\pi\\,R^2}$$\n",
    "\n",
    "Beispielplot für einen Strom von 1A durche einen Leiter mit $R=2\\,$mm Radius. Das Magnetfeld wird in der Einheit Gauss ($10^{-4}\\,$T) angegeben."
   ]
  },
  {
   "cell_type": "code",
   "execution_count": 12,
   "metadata": {
    "hide_input": true
   },
   "outputs": [
    {
     "data": {
      "image/png": "[encoded data removed]",
      "text/plain": [
       "<matplotlib.figure.Figure at 0x1124bfc90>"
      ]
     },
     "metadata": {},
     "output_type": "display_data"
    }
   ],
   "source": [
    "%matplotlib inline\n",
    "import numpy as np \n",
    "import matplotlib.pyplot as plt\n",
    "import matplotlib as mpl\n",
    "mpl.rcParams['font.size'] = 15\n",
    "\n",
    "mu0=4*np.pi*1e-7\n",
    "R=2e-3 #2mm\n",
    "I=1 #1 Ampere\n",
    "\n",
    "ri = np.linspace(0.,R,100)\n",
    "ro = np.linspace(R,3.*R,100)\n",
    "\n",
    "fig = plt.figure(figsize=(6,4))\n",
    "\n",
    "plt.plot(ri,mu0*I*ri/(2*np.pi*R**2)*1e4,'r')\n",
    "plt.plot(ro,mu0*I/(2*np.pi*ro)*1e4,'r') #plot in Gauss\n",
    "ax=plt.gca()\n",
    "ax.set_xlabel('r (m)')\n",
    "ax.axes.get_xaxis().set_ticks([])\n",
    "\n",
    "ax.set_xticklabels('R')\n",
    "ax.set_xticks([R])\n",
    "ax.set_ylabel('B (G)')\n",
    "ax.spines['top'].set_visible(False)\n",
    "ax.spines['right'].set_visible(False)\n",
    "plt.show()"
   ]
  },
  {
   "cell_type": "markdown",
   "metadata": {},
   "source": [
    "#### B) Magnetfeld einer unendlich langen Spule\n",
    "\n",
    "<img src=\"figures/19.5_2.png\" alt=\"19.5_2\" style=\"width: 300px;\"/>   \n",
    "\n",
    "\n",
    "\n",
    "$$\\oint \\vec{B}\\cdot \\mathrm{d}\\vec{s} = \\int_a^b \\vec{B}\\cdot \\mathrm{d}\\vec{s}+\\int_b^c \\vec{B}\\cdot \\mathrm{d}\\vec{s}+ \\int_c^d \\vec{B}\\cdot \\mathrm{d}\\vec{s}+ \\int_d^a \\vec{B}\\cdot \\mathrm{d}\\vec{s}$$\n",
    "\n",
    "* Feld ausserhalb der Spule vernachlässigbar ⇨ $\\int_a^b \\vec{B}\\cdot \\mathrm{d}\\vec{s} = 0$\n",
    "* Magnetfeld $\\vec{B}$ ist parallel zu $\\overline{b\\,c}$, daher sind die Integrale $\\int_b^c \\vec{B}\\cdot \\mathrm{d}\\vec{s}= \\int_d^a \\vec{B}\\cdot \\mathrm{d}\\vec{s}=0$\n",
    "\n",
    "Es bleibt nur das Integral von $c$ nach $d$\n",
    "\n",
    "$$\\oint \\vec{B}\\cdot \\mathrm{d}\\vec{s} = \\int_c^d \\vec{B}\\cdot \\mathrm{d}\\vec{s} = B\\,s$$\n",
    "\n",
    "Mit dem Ampére'schen Gesetz ist das Integral gleich \n",
    "\n",
    "$$B\\, s = \\mu_0\\, N\\, I\\quad.$$\n",
    "\n",
    "Die magentische Induktion in einer unendlich langen Spule ist daher nur von der Anzahl der Windungen pro Länge $n=N/s$ und der Stromstärke abhängig:\n",
    "\n",
    "$$B = \\mu_0 \\, n\\, I $$"
   ]
  },
  {
   "cell_type": "code",
   "execution_count": null,
   "metadata": {},
   "outputs": [],
   "source": []
  }
 ],
 "metadata": {
  "kernelspec": {
   "display_name": "Python [default]",
   "language": "python",
   "name": "python2"
  },
  "language_info": {
   "codemirror_mode": {
    "name": "ipython",
    "version": 2
   },
   "file_extension": ".py",
   "mimetype": "text/x-python",
   "name": "python",
   "nbconvert_exporter": "python",
   "pygments_lexer": "ipython2",
   "version": "2.7.14"
  }
 },
 "nbformat": 4,
 "nbformat_minor": 2
}
