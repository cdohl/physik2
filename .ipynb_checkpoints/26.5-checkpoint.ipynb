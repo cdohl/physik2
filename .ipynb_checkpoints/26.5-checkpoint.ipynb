{
 "cells": [
  {
   "cell_type": "markdown",
   "metadata": {},
   "source": [
    "### 26.5 Beugung\n",
    "\n",
    "#### 26.5.1 Beschreibung des Effektes\n",
    "\n",
    "* Beugung ist neben der Interferenz ein typische Welleneigenschaft\n",
    "\n",
    "* Unterscheidung zum geometrischen Schatten\n",
    " \n",
    "  ⇨ Betrachtung von Ebenen Wellen\n",
    "  \n",
    "  \n",
    "  SKIZZE\n",
    "  \n",
    "  \n",
    "  Schatten, wenn Abmessungen des Hindernisses >> $\\lambda_0$\n",
    "\n",
    "\n",
    "* Bei Abnahme der Dimensionen\n",
    "\n",
    "  ⇨ Randeffekte werden dominant\n",
    "  \n",
    "  SKIZZE\n",
    "  \n",
    "  \n",
    "  Ausbreitung von Elementarwellen im Bereich des geometrischen Schattens\n",
    "  \n",
    "  ⇨ Huygens-Prinzip\n",
    "  \n",
    "  \n",
    "* Beugung\n",
    "\n",
    "  * Fraunhofersche Beugung: Abstand Quelle-Schirm $\\rightarrow\\infty$ (Fernfeld)\n",
    "  \n",
    "  * Fresnelsche Näherung: Schirmabstand im Bereich von $\\lambda_0$ (Nahfeld) und nahe der optischen Achse\n",
    "  \n",
    "  * Kirchhofsche Beugung: Allgemeine Beugungsbeschreibung aus den Maxwell-Gleichungen\n",
    "  \n",
    "  \n",
    "  \n",
    "* Beugungsbilder als Funktion Abstand: Quelle-Schirm\n",
    "\n",
    "\n"
   ]
  },
  {
   "attachments": {},
   "cell_type": "markdown",
   "metadata": {},
   "source": [
    "#### 26.5.2 Beugung am Einzelspalt\n",
    "\n",
    "* Wo liegt das 1. Beugungsminimum\n",
    "  <img src=\"figures/26.5_1.png\" alt=\"26.5_1\" style=\"width: 350px;\"/>\n",
    "  \n",
    "  für $\\Delta = \\frac{\\lambda_0}{2}$ haben wir vollständige Auslöschung für die zwei Teilstrahlen.\n",
    "  \n",
    "  $$\\sin \\alpha = \\frac{\\Delta}{\\frac{d}{2}}\\quad\\rightarrow\\quad 2\\Delta=d \\sin \\alpha$$\n",
    "  \n",
    "  Vollständige Auslöschung \n",
    "  \n",
    "  $$\\lambda_0 = d \\sin\\alpha$$\n",
    "  \n",
    "* Alle Beugungsminima lassen sich durch \n",
    "\n",
    "  $$m \\lambda_0 = d \\sin\\alpha\\quad m=1,2,3,\\dots$$\n",
    "  \n",
    "  angeben.\n",
    "  \n",
    "* Beugungsmaxima sind nur näherungsweise beschreibbar\n",
    "\n",
    "  $$(2m-1)\\frac{\\lambda_0}{2} = d \\sin\\alpha$$\n",
    "  \n",
    "* Für die Berechnung der Intensitätsverteilung\n",
    "\n",
    "  ⇨ Aufteilung in unendlich viele Teilspalte\n",
    "  \n",
    "  ⇨ Intensität bei einem Winkel $\\alpha$\n",
    "  \n",
    "  $$I_\\alpha=\\frac{\\sin^2\\left(\\frac{\\pi d \\sin \\alpha}{\\lambda_0}\\right)}\n",
    "  {\\left(\\frac{\\pi d\\sin\\alpha}{\\lambda_0}\\right)^2}$$"
   ]
  },
  {
   "cell_type": "code",
   "execution_count": 24,
   "metadata": {
    "hide_input": true,
    "scrolled": false
   },
   "outputs": [
    {
     "data": {
      "application/vnd.jupyter.widget-view+json": {
       "model_id": "e0398a8fe5d64315a90501adf216e525",
       "version_major": 2,
       "version_minor": 0
      },
      "text/html": [
       "<p>Failed to display Jupyter Widget of type <code>interactive</code>.</p>\n",
       "<p>\n",
       "  If you're reading this message in the Jupyter Notebook or JupyterLab Notebook, it may mean\n",
       "  that the widgets JavaScript is still loading. If this message persists, it\n",
       "  likely means that the widgets JavaScript library is either not installed or\n",
       "  not enabled. See the <a href=\"https://ipywidgets.readthedocs.io/en/stable/user_install.html\">Jupyter\n",
       "  Widgets Documentation</a> for setup instructions.\n",
       "</p>\n",
       "<p>\n",
       "  If you're reading this message in another frontend (for example, a static\n",
       "  rendering on GitHub or <a href=\"https://nbviewer.jupyter.org/\">NBViewer</a>),\n",
       "  it may mean that your frontend doesn't currently support widgets.\n",
       "</p>\n"
      ],
      "text/plain": [
       "interactive(children=(FloatSlider(value=5.0, description=u'$d\\\\,(\\\\mu$m)', max=20.0, min=1.0, step=1.0), FloatSlider(value=400.0, description=u'$\\\\lambda_0\\\\,$(nm)', max=900.0, min=200.0, step=100.0), Output()), _dom_classes=('widget-interact',))"
      ]
     },
     "metadata": {},
     "output_type": "display_data"
    }
   ],
   "source": [
    "%matplotlib inline\n",
    "import numpy as np\n",
    "import matplotlib.pyplot as plt\n",
    "from ipywidgets import interact, interactive, fixed, interact_manual\n",
    "import ipywidgets as widgets\n",
    "np.seterr(divide='ignore', invalid='ignore')\n",
    "\n",
    "def update(d=10, l0=400):\n",
    "    alpha = np.linspace(0, np.pi/2.,500)\n",
    "    l0=l0*1e-9\n",
    "    d=d*1e-6\n",
    "    arg = np.pi*d*np.sin(alpha)/l0\n",
    "    I=np.sin(arg)**2./arg**2.\n",
    "\n",
    "    fig = plt.figure(figsize=(9,4))\n",
    "\n",
    "    plt.plot(np.sin(alpha),I)\n",
    "    plt.xlabel(r'$\\sin\\,\\alpha$',fontsize=15)\n",
    "    plt.ylabel(u'Intensität',fontsize=15)\n",
    "    plt.xticks((np.arange(3)+1)*l0/d, (r'$\\frac{\\lambda_0}{d}$', r'$\\frac{2\\lambda_0}{d}$', r'$\\frac{3\\lambda_0}{d}$'),fontsize=15)\n",
    "    plt.yticks((np.arange(2)), (r'$I_{min}$', r'$I_{max}$'),fontsize=15)\n",
    "    plt.show()\n",
    "\n",
    "\n",
    "interact(update,d=widgets.FloatSlider(min=1.,max=20.,step=1.,value=5.,\n",
    "                                      description =r'$d\\,(\\mu$m)'),\n",
    "         l0=widgets.FloatSlider(min=200.,max=900.,step=100.,value=400,\n",
    "                               description=r'$\\lambda_0\\,$(nm)'));"
   ]
  },
  {
   "cell_type": "markdown",
   "metadata": {},
   "source": [
    "#### 26.5.3 Beugung am Doppelspalt und Gitter\n",
    "\n",
    "<img src=\"figures/26.5_2.png\" alt=\"26.5_2\" style=\"width: 350px;\"/>\n",
    "\n",
    "$$\\sin\\alpha=\\frac{\\Delta}{D}\\quad\\rightarrow\\quad \\Delta =D\\sin\\alpha$$\n",
    "\n",
    "* Interferenzmaxima: $D\\sin\\alpha=m\\lambda_0$\n",
    "<p>\n",
    "* Interferenzminima: $D\\sin\\alpha=(2m+1)\\frac{\\lambda_0}{2}$\n",
    "  \n",
    "  $m=0,1,2,\\dots$\n",
    "  \n",
    "* Die Intensitaätsverteilung ist \n",
    "\n",
    "  $$I=I_0\\cos^2\\left(\\frac{\\pi d \\sin\\alpha}{\\lambda_0}\\right)$$\n",
    "  \n",
    "  \n",
    "Bei endlicher Spaltbreite $d$ hat man eine Intensitätsverteilung die eine Überlagerung des Einzelspaltes und des Doppelspaltes darstellt:\n",
    "\n",
    "\n",
    "$$I=I_0\\cos^2\\left(\\frac{\\pi D\\sin\\alpha}{\\lambda_0}\\right)\n",
    "\\left[\\frac{\\sin(\\frac{\\pi d\\sin\\alpha}{\\lambda_0})}{\\frac{\\pi d\\sin\\alpha}{\\lambda_0}}\\right]^2$$ \n",
    "\n"
   ]
  },
  {
   "cell_type": "code",
   "execution_count": 29,
   "metadata": {
    "hide_input": false
   },
   "outputs": [
    {
     "data": {
      "application/vnd.jupyter.widget-view+json": {
       "model_id": "ff3eaf91ea50496eb92edc565a2c55ab",
       "version_major": 2,
       "version_minor": 0
      },
      "text/html": [
       "<p>Failed to display Jupyter Widget of type <code>interactive</code>.</p>\n",
       "<p>\n",
       "  If you're reading this message in the Jupyter Notebook or JupyterLab Notebook, it may mean\n",
       "  that the widgets JavaScript is still loading. If this message persists, it\n",
       "  likely means that the widgets JavaScript library is either not installed or\n",
       "  not enabled. See the <a href=\"https://ipywidgets.readthedocs.io/en/stable/user_install.html\">Jupyter\n",
       "  Widgets Documentation</a> for setup instructions.\n",
       "</p>\n",
       "<p>\n",
       "  If you're reading this message in another frontend (for example, a static\n",
       "  rendering on GitHub or <a href=\"https://nbviewer.jupyter.org/\">NBViewer</a>),\n",
       "  it may mean that your frontend doesn't currently support widgets.\n",
       "</p>\n"
      ],
      "text/plain": [
       "interactive(children=(FloatSlider(value=2.0, description=u'$d\\\\,(\\\\mu$m)', max=20.0, min=1.0, step=1.0), FloatSlider(value=50.0, description=u'$D\\\\,(\\\\mu$m)', max=200.0, min=10.0, step=10.0), FloatSlider(value=400.0, description=u'$\\\\lambda_0\\\\,$(nm)', max=900.0, min=200.0, step=100.0), Output()), _dom_classes=('widget-interact',))"
      ]
     },
     "metadata": {},
     "output_type": "display_data"
    }
   ],
   "source": [
    "%matplotlib inline\n",
    "import numpy as np\n",
    "import matplotlib.pyplot as plt\n",
    "from ipywidgets import interact, interactive, fixed, interact_manual\n",
    "import ipywidgets as widgets\n",
    "np.seterr(divide='ignore', invalid='ignore')\n",
    "\n",
    "def update(d=10, D=100., l0=400):\n",
    "    alpha = np.linspace(0, np.pi/2.,5000)\n",
    "    l0=l0*1e-9\n",
    "    d=d*1e-6\n",
    "    D=D*1e-6\n",
    "    arg = np.pi*d*np.sin(alpha)/l0\n",
    "    I=np.sin(arg)**2./arg**2.\n",
    "    I=I*np.cos(np.pi*D*np.sin(alpha)/l0)**2.\n",
    "\n",
    "    fig = plt.figure(figsize=(9,4))\n",
    "\n",
    "    plt.plot(np.sin(alpha),I)\n",
    "    plt.xlabel(r'$\\sin\\,\\alpha$',fontsize=15)\n",
    "    plt.ylabel(u'Intensität',fontsize=15)\n",
    "    plt.xticks((np.arange(3)+1)*l0/d, (r'$\\frac{\\lambda_0}{d}$', r'$\\frac{2\\lambda_0}{d}$', r'$\\frac{3\\lambda_0}{d}$'),fontsize=15)\n",
    "    plt.yticks((np.arange(2)), (r'$I_{min}$', r'$I_{max}$'),fontsize=15)\n",
    "    plt.show()\n",
    "\n",
    "\n",
    "interact(update,d=widgets.FloatSlider(min=1.,max=20.,step=1.,value=2.,\n",
    "                                      description =r'$d\\,(\\mu$m)'),\n",
    "         D=widgets.FloatSlider(min=10.,max=200.,step=10.,value=50.,\n",
    "                                      description =r'$D\\,(\\mu$m)'),\n",
    "         l0=widgets.FloatSlider(min=200.,max=900.,step=100.,value=400,\n",
    "                               description=r'$\\lambda_0\\,$(nm)'));"
   ]
  },
  {
   "cell_type": "markdown",
   "metadata": {},
   "source": [
    "#### 26.5.4 Beugung am Gitter\n",
    "\n",
    "<img src=\"figures/26.5_3.png\" alt=\"26.5_3\" style=\"width: 350px;\"/>\n",
    "\n",
    "* Überlagerung der $N$ Teilwellen, die von den $N$ Strichen eines Gitters ausgehen.\n",
    "\n",
    "$$I=I_0\\left[\\frac{\\sin\\left(\\frac{N\\pi D\\sin\\alpha}{\\lambda_0}\\right)}{N\\sin\\left(\\frac{\\pi D \\sin\\alpha}{\\lambda_0}\\right)}\\right]^2$$\n"
   ]
  },
  {
   "cell_type": "code",
   "execution_count": 59,
   "metadata": {
    "hide_input": true
   },
   "outputs": [
    {
     "data": {
      "application/vnd.jupyter.widget-view+json": {
       "model_id": "e1cad031dc9b4799becfe84a97832f34",
       "version_major": 2,
       "version_minor": 0
      },
      "text/html": [
       "<p>Failed to display Jupyter Widget of type <code>interactive</code>.</p>\n",
       "<p>\n",
       "  If you're reading this message in the Jupyter Notebook or JupyterLab Notebook, it may mean\n",
       "  that the widgets JavaScript is still loading. If this message persists, it\n",
       "  likely means that the widgets JavaScript library is either not installed or\n",
       "  not enabled. See the <a href=\"https://ipywidgets.readthedocs.io/en/stable/user_install.html\">Jupyter\n",
       "  Widgets Documentation</a> for setup instructions.\n",
       "</p>\n",
       "<p>\n",
       "  If you're reading this message in another frontend (for example, a static\n",
       "  rendering on GitHub or <a href=\"https://nbviewer.jupyter.org/\">NBViewer</a>),\n",
       "  it may mean that your frontend doesn't currently support widgets.\n",
       "</p>\n"
      ],
      "text/plain": [
       "interactive(children=(IntSlider(value=10, description=u'$N$', max=20, min=1), FloatSlider(value=2.0, description=u'$D\\\\,(\\\\mu$m)', max=10.0, min=1.0, step=1.0), FloatSlider(value=400.0, description=u'$\\\\lambda_0\\\\,$(nm)', max=900.0, min=200.0, step=100.0), Output()), _dom_classes=('widget-interact',))"
      ]
     },
     "metadata": {},
     "output_type": "display_data"
    }
   ],
   "source": [
    "%matplotlib inline\n",
    "import numpy as np\n",
    "import matplotlib.pyplot as plt\n",
    "from ipywidgets import interact, interactive, fixed, interact_manual\n",
    "import ipywidgets as widgets\n",
    "np.seterr(divide='ignore', invalid='ignore')\n",
    "\n",
    "def update(N=4, D=100., l0=400):\n",
    "    par = np.linspace(0, 3.,5000)\n",
    "    \n",
    "    d=.1e-6\n",
    "    l0=l0*1e-9\n",
    "    D=D*1e-6\n",
    "    alpha=np.arcsin(par*d/l0)\n",
    "    arg = np.pi*D*np.sin(alpha)/l0\n",
    "    I=(np.sin(N*arg)/(N*np.sin(arg)))**2.\n",
    "    I=I*np.cos(np.pi*D*np.sin(alpha)/l0)**2\n",
    "    fig = plt.figure(figsize=(9,4))\n",
    "\n",
    "    plt.plot(par,I)\n",
    "    plt.xlabel(r'$\\lambda_0/d\\,\\sin\\,\\alpha$',fontsize=15)\n",
    "    plt.ylabel(u'Intensität',fontsize=15)\n",
    "    plt.yticks((np.arange(2)), (r'$I_{min}$', r'$I_{max}$'),fontsize=15)\n",
    "   \n",
    "    plt.show()\n",
    "\n",
    "\n",
    "interact(update,N=widgets.IntSlider(min=1,max=20.,step=1,value=10,\n",
    "                                      description =r'$N$'),\n",
    "         D=widgets.FloatSlider(min=1.,max=10.,step=1.,value=2.,\n",
    "                                      description =r'$D\\,(\\mu$m)'),\n",
    "         l0=widgets.FloatSlider(min=200.,max=900.,step=100.,value=400,\n",
    "                               description=r'$\\lambda_0\\,$(nm)'));"
   ]
  },
  {
   "cell_type": "code",
   "execution_count": null,
   "metadata": {
    "hide_input": true
   },
   "outputs": [],
   "source": []
  },
  {
   "cell_type": "markdown",
   "metadata": {},
   "source": [
    "* für eine hohe spektrale Auflösung \n",
    "  \n",
    "  ⇨ Anzahl der beugenden Strukturen sollte groß gewählt werden\n",
    "  \n",
    "* spektrales Auflösungsvermögen eines Gitters\n",
    "\n",
    "  ⇨ Welche minimale Wellenlaängendifferenz zwischen zwei Spektrallinien kann noch sicher getrennt werden ($\\Delta \\lambda$):\n",
    "  \n",
    "  $$A=\\frac{\\lambda}{\\Delta\\lambda}=m\\,\\cdot N$$\n",
    "  \n",
    "  $m$: Beugungsordnung und $N$: Strichanzahl"
   ]
  },
  {
   "cell_type": "code",
   "execution_count": 85,
   "metadata": {
    "hide_input": true
   },
   "outputs": [
    {
     "data": {
      "image/png": "[encoded data removed]",
      "text/plain": [
       "<matplotlib.figure.Figure at 0x1124795d0>"
      ]
     },
     "metadata": {},
     "output_type": "display_data"
    }
   ],
   "source": [
    "%matplotlib inline\n",
    "import numpy as np\n",
    "import matplotlib.pyplot as plt\n",
    "\n",
    "np.seterr(divide='ignore', invalid='ignore')\n",
    "d=.1e-6\n",
    "D=1e-6\n",
    "N=100\n",
    "\n",
    "def spectrum(l0):\n",
    "    par = np.linspace(1.5,1.7,5000)\n",
    "    l0=l0*1e-9\n",
    "    alpha=np.arcsin(par*d/l0)\n",
    "    arg = np.pi*D*np.sin(alpha)/l0\n",
    "    I=(np.sin(N*arg)/(N*np.sin(arg)))**2.\n",
    "    I=I*np.cos(np.pi*D*np.sin(alpha)/l0)**2\n",
    "    return par,I\n",
    "    \n",
    "fig = plt.figure(figsize=(9,4))\n",
    "x,y=spectrum(400)\n",
    "plt.plot(x,y,label=r'$\\lambda_1=400\\,$nm')\n",
    "x,y=spectrum(402)\n",
    "plt.plot(x,y,label='$\\lambda_2=401.5\\,$nm')\n",
    "plt.legend(fontsize=15)\n",
    "plt.xlabel(r'$\\lambda_0/d\\,\\sin\\,\\alpha$',fontsize=15)\n",
    "plt.ylabel(u'Intensität',fontsize=15)\n",
    "plt.yticks((np.arange(2)), (r'$I_{min}$', r'$I_{max}$'),fontsize=15)\n",
    "\n",
    "plt.show()\n"
   ]
  }
 ],
 "metadata": {
  "kernelspec": {
   "display_name": "Python [default]",
   "language": "python",
   "name": "python2"
  },
  "language_info": {
   "codemirror_mode": {
    "name": "ipython",
    "version": 2
   },
   "file_extension": ".py",
   "mimetype": "text/x-python",
   "name": "python",
   "nbconvert_exporter": "python",
   "pygments_lexer": "ipython2",
   "version": "2.7.14"
  }
 },
 "nbformat": 4,
 "nbformat_minor": 2
}
