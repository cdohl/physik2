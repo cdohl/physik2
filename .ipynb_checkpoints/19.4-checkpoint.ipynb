{
 "cells": [
  {
   "cell_type": "markdown",
   "metadata": {},
   "source": [
    "### 19.4 Das Ampèr'sche Gesetz (Durchflutungsgesetz)\n",
    "\n",
    "#### Oerstedt-Versuch\n",
    "\n",
    "<img src=\"figures/19.4_1.png\" alt=\"19.4_1\" style=\"width: 150px;\"/>\n",
    "\n",
    "  * Drehung des Magneten bei Stromfluss\n",
    "  ⇨ Ströme erzeugen Magnetfelder. \n",
    "  \n",
    "  * Orientierung der Magnetfelder\n",
    "  * Feldlinie in $\\vec{e}_t$ Richtung \n",
    "  * Feldlinien sind geschlossen\n",
    "  * auf einer Feldlinie ist $B=\\mathrm{konst.}$\n",
    "  * Richtung von $\\vec{e}_t$: *Rechte-Hand-Regel*\n",
    "\n",
    "Oerstedt findet heraus, dass das Magnetfeld mit dem Abstand abnimmt und mit dem Strom zunimmt:\n",
    "$$ B\\propto \\frac{I}{r} $$\n",
    "\n",
    "mit der Proportionalitätskonstante $\\frac{\\mu_0}{2\\pi}$ ergibt sich\n",
    "$$ B = \\frac{\\mu_0}{2\\pi}\\frac{I}{r}\\tag{19.4.1}$$  \n",
    "\n",
    "#### Ampère'sche Gesetz\n",
    "\n",
    "Es gebe einen beliebigen aber geschlossener Weg um eine Strom der aus vielen kleinen Teilstrecken $\\Delta s$ besteht. Dann gilt für das Magentfeld, dass parallel zur Strecke $\\Delta s$ liegt\n",
    "\n",
    "$$\\sum B_\\parallel \\, \\Delta s = \\mu_0 \\, I_{umf}\\quad ,$$\n",
    "\n",
    "wobei die Strecke $\\Delta s$ so klein ist, dass $B_\\parallel$ im wesentlichen konstant ist.\n",
    "Im Grenzfall $\\Delta s\\rightarrow 0$ ergibt sich\n",
    "\n",
    "$$\\oint_\\mathrm{\\substack{bel. geschl.\\\\ Fläche}} \\vec{B}\\cdot\\mathrm{d}\\vec{s} = \\mu_0 \\, I_{umf}\\quad .\\tag{19.4.2}$$\n",
    "\n",
    "Diese Gleichung (19.4.2) auf einen Leiter angewandt ergibt Gleichung (19.4.1).\n",
    "\n",
    "<img src=\"figures/19.4_2.png\" alt=\"19.4_2\" style=\"width: 250px;\"/>"
   ]
  },
  {
   "cell_type": "markdown",
   "metadata": {},
   "source": [
    "#### Kraft zwischen zwei parallel Drähten\n",
    "\n",
    "\n",
    "<img src=\"figures/19.3_2.png\" alt=\"19.3_2\" style=\"width: 250px;\"/>\n",
    "\n",
    "* Zwei lange parallele Leiter im Abstand von $d$ voneinander entfernt. Es fließen Ströme $I_1$ und $I_2$. \n",
    "* Jeder Leiter erzeugt ein Magnetfeld, das der andere Leiter spürt. \n",
    "* Es wirkt eine Kraft zwischen den beiden Leitern. Für Leiter 2 ist der Betrag des Magnetfeldes von Leiter 1 mit $I_1$ \n",
    "\n",
    "$$B_1=\\frac{\\mu_0}{2\\pi}\\frac{I_1}{d}$$\n",
    "\n",
    "Wenn Strom und Magnetfeld senkrecht zueinander stehen\n",
    "\n",
    "$$\\frac{F}{l}=I_2\\,B_1$$\n",
    "\n",
    "Das Magentfeld $B_1$ in obige Gleichung eingesetzt ergibt\n",
    "\n",
    "$$\\frac{F}{l}=\\frac{\\mu_0}{2\\pi}\\frac{I_1\\,I_2}{d}$$\n",
    "\n",
    "\n",
    "Die Richtung der Kraft ergibt sich über die rechte-Hand Regel:\n",
    "\n",
    "<img src=\"figures/19.3_3.png\" alt=\"19.3_3\" style=\"width: 250px;\"/>"
   ]
  },
  {
   "cell_type": "markdown",
   "metadata": {},
   "source": [
    "#### Messvorschrift für das Ampere\n",
    "\n",
    "Warum is $\\mu_0$ genau $4\\pi \\cdot 10^{-7}\\,\\mathsf{T\\,m/A}$?\n",
    "\n",
    "Ein Ampere wird mit dem von ihm erzeugten Magnetfelds $B$ definiert. Dazu wird die Kraft zwischen zwei parallelen stromführenden Drähten gemessen. Die Definition ist folgende:\n",
    "Wenn $I_1=I_2=1\\,\\mathsf{A}$ und die beiden Drähte $d=1\\,\\mathsf{m}$ entfernt voneinander sind, dann ist die Kraft pro Leiterlänge $2 \\cdot 10^{-7}\\mathsf{N/m}$.\n",
    "\n",
    "$$\\frac{F}{l}=\\frac{4\\pi \\cdot 10^{-7}\\,\\mathsf{T\\,m/A}}{2\\pi}\\frac{1\\mathsf{A}\\,1\\mathsf{A}}{1\\mathsf{m}}=2\\cdot10^{-7}\\mathsf{N/m}$$\n",
    "\n",
    "Damit ist ein *Ampere* der Strom, der durch die beiden einen Meter voneinander entfernten Leiter fließt und dadurhc auf jeden Leiter eine Kraft von exakt $2 \\cdot 10^{-7}\\mathsf{N/m}$ ausübt.\n",
    "\n",
    "\n",
    "Das *Coulomb* ist damit als exakt eine Amperesekunde: $1\\,\\mathsf{C}=1\\,\\mathsf{A\\cdot s}$.\n",
    "Der Wert für $\\epsilon_0$ im Coulomb'schen Gesetz wird experimentell ermittelt."
   ]
  },
  {
   "cell_type": "code",
   "execution_count": null,
   "metadata": {},
   "outputs": [],
   "source": []
  }
 ],
 "metadata": {
  "kernelspec": {
   "display_name": "Python [default]",
   "language": "python",
   "name": "python2"
  },
  "language_info": {
   "codemirror_mode": {
    "name": "ipython",
    "version": 2
   },
   "file_extension": ".py",
   "mimetype": "text/x-python",
   "name": "python",
   "nbconvert_exporter": "python",
   "pygments_lexer": "ipython2",
   "version": "2.7.14"
  }
 },
 "nbformat": 4,
 "nbformat_minor": 2
}
