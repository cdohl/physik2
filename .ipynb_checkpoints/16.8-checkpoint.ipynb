{
 "cells": [
  {
   "cell_type": "markdown",
   "metadata": {},
   "source": [
    "### 16.8  Energie des elektrostatischen Feldes\n",
    "\n",
    "SKIZZE\n",
    "\n",
    "Eine kleine Ladungsmenge $\\mathrm{d}Q$ soll zusätzlich auf die geladene Oberfläche gebracht werden. Dazu muss Arbeit im elektrischen Feld verrichtet werden.\n",
    "\n",
    "$$\\mathrm{d}W=\\mathrm{d}Q\\left[ \\varphi(R) - \\varphi(\\infty)\\right] $$\n",
    "\n",
    "$\\varphi(R)$ ist das Potential an der Oberfläche.\n",
    "\n",
    "$$\\varphi(R)=\\frac{Q}{4\\pi\\epsilon_0\\,R}$$\n",
    "\n",
    "\n",
    "Gesamtarbeit um die Ladung $Q$ auf die Oberfläche zu bringen ist gleich der gespeicherten elektrischen Energie.\n",
    "\n",
    "$$W_{el}=\\int_0^Q \\frac{Q'}{4\\pi\\epsilon\\,R} \\mathrm{d}Q'$$\n",
    "\n",
    "$$W_{el}=\\frac{Q^2}{2\\cdot 4\\pi\\epsilon\\, R}$$\n",
    "\n",
    "* Kapazität des Kugelkondensators:\n",
    "\n",
    "$$C_0=4\\pi\\epsilon_0 \\, R$$\n",
    "\n",
    "Damit ist die elektrische Arbeit (gespeicherte Energie):\n",
    "\n",
    "$$W_{el}=\\frac{1}{2} \\,\\frac{Q^2}{C_0}= \\frac{1}{2} C_0 \\, U^2$$\n",
    "\n",
    "Im allgemeinen gilt \n",
    "\n",
    "$$W_{el}\\propto U^2$$"
   ]
  },
  {
   "cell_type": "code",
   "execution_count": null,
   "metadata": {},
   "outputs": [],
   "source": []
  }
 ],
 "metadata": {
  "kernelspec": {
   "display_name": "Python [default]",
   "language": "python",
   "name": "python2"
  },
  "language_info": {
   "codemirror_mode": {
    "name": "ipython",
    "version": 2
   },
   "file_extension": ".py",
   "mimetype": "text/x-python",
   "name": "python",
   "nbconvert_exporter": "python",
   "pygments_lexer": "ipython2",
   "version": "2.7.14"
  }
 },
 "nbformat": 4,
 "nbformat_minor": 2
}
