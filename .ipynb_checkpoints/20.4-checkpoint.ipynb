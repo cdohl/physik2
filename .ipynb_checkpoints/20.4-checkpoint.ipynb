{
 "cells": [
  {
   "cell_type": "markdown",
   "metadata": {},
   "source": [
    "### 20.4 Energieinhalt magnetischer Felder\n",
    "\n",
    "Einer Induktionsspule mit Induktivität $L$ wird mit einer Rate $P$ Energie von einem sich zeitlich ändernden Strom zugeführt.\n",
    "\n",
    "$$P=U\\,I=\\frac{\\mathrm{d}W_m}{\\mathrm{d}t}=\\,L\\frac{\\mathrm{d}I}{\\mathrm{d}t}\\,I$$\n",
    "\n",
    "Die Änderung der Energie die in dem Magnetfeld steckt $\\mathrm{d}W_m$ hängt mit der Stromaänderung $\\mathrm{d}I$ wie folgt zusammen:\n",
    "\n",
    "$$\\mathrm{d}W_m=L\\,I\\, \\mathrm{d}I\\quad .$$\n",
    "\n",
    "Die Arbeit, die nötig ist um den Strom von null auf $I_0$ zu erhöhen, ist damit:\n",
    "\n",
    "$$W_m=\\int \\mathrm{d}W_m=\\int_0^{I_0} L\\,I\\mathrm{d}I=\\frac{1}{2}L\\,I_0^2$$\n",
    "\n",
    "und das ist gleich der Energie des Magnetfeldes.\n",
    "\n",
    "$$W_m=\\frac{1}{2}L\\,I_0^2\\tag{20.4.1}$$\n",
    "\n",
    "Diese Energie können wir mit der Energie die in einem Kondensator mit Kapazität $C$ gespeichert ist vergleichen, wenn an diesem eine Potentialdifferenz $U_0$ anliegt:\n",
    "\n",
    "$$W_{el}=\\frac{1}{2}C\\,U_0^2$$\n",
    "\n",
    "\n",
    "Beim Kondensator ist der Träger der Energie das elektrische Feld, bei der Spule ist es das Magnetfeld. Wir können  die Energie in Gleichung (20.4.1) auch durch das Magnetfeld ausdrücken:\n",
    "\n",
    "$$W_m=\\frac{1}{2}L\\,I_0^2=\\frac{1}{2}\\left(\\frac{\\mu_0\\, N^2 A_s}{l_s}\\right)\\,\\left(\\frac{B\\,l_s}{\\mu_0\\, N}\\right)^2=\n",
    "\\frac{1}{2}\\frac{B^2}{\\mu_0}\\,A_s\\, l_s=\\frac{1}{2}\\frac{B^2}{\\mu_0}\\,V_s\\quad,$$\n",
    "wobei $V_s$ das Volumen der Spule respektive des Magnetfeldes ist. \n",
    "\n",
    "Die Energiedichte (Energie pro Volumen) des Magnetfeldes einer langen Spule ist daher\n",
    "\n",
    "$$w_m=\\frac{W_M}{V_s}=\\frac{1}{2}\\,\\frac{B^2}{\\mu_0}\\quad .$$\n",
    "\n",
    "In inhomgenen Feldern gilt\n",
    "\n",
    "$$W_m=\\int w_m\\, \\mathrm{d}V = \\frac{1}{2}\\int \\frac{B^2}{\\mu_0} \\mathrm{d} V\\quad .$$"
   ]
  }
 ],
 "metadata": {
  "kernelspec": {
   "display_name": "Python [conda env:anaconda2]",
   "language": "python",
   "name": "conda-env-anaconda2-py"
  },
  "language_info": {
   "codemirror_mode": {
    "name": "ipython",
    "version": 2
   },
   "file_extension": ".py",
   "mimetype": "text/x-python",
   "name": "python",
   "nbconvert_exporter": "python",
   "pygments_lexer": "ipython2",
   "version": "2.7.14"
  }
 },
 "nbformat": 4,
 "nbformat_minor": 2
}
