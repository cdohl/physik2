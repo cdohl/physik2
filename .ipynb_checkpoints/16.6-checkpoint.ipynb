{
 "cells": [
  {
   "cell_type": "markdown",
   "metadata": {},
   "source": [
    "### 16.6 Verschiebungsdichte und elektrischer Fluss\n",
    "\n",
    "* Gesamtheit aller Feldlinien, die ein Flächenstück senkrecht durchsetzen, nennt man elektrischen Fluss $\\psi_{el}$\n",
    "\n",
    "* Feldlinien entstehen und enden an Ladungen ⇨  $\\Psi_{el}=Q$\n",
    "\n",
    "* Verschiebungsdichte (elektrische Flussdichte)\n",
    "\n",
    "$$\\vec{D}=\\frac{\\mathrm{d}\\Psi_{el}}{\\mathrm{d}A} \\cdot \\vec{e}_n$$\n",
    "\n",
    "$\\vec{e}_n$ ist der Normalenvektor einer Fläche\n",
    "\n",
    "<img src=\"figures/16.6_1.png\" alt=\"16.6_1\" style=\"width: 200px;\"/>\n",
    "\n"
   ]
  },
  {
   "cell_type": "markdown",
   "metadata": {},
   "source": [
    "<img src=\"figures/16.6_2.png\" alt=\"16.6_2\" style=\"width: 200px;\"/>\n",
    "mit\n",
    "$$\\mathrm{d}\\vec{A}=\\mathrm{d}A\\cdot\\vec{e}_n$$\n",
    "\n",
    "können wir die Verschiebungsdichte definieren\n",
    "\n",
    "$$\\vec{D}=\\frac{\\mathrm{d}\\Psi_{el}}{\\mathrm{d}A}\\cdot\\vec{e}_n$$"
   ]
  },
  {
   "cell_type": "markdown",
   "metadata": {},
   "source": [
    "* Ermittlung von $\\Psi_{el}$\n",
    "\n",
    "$$\\Psi_{el}=\\int \\vec{D}\\cdot \\mathrm{d}\\vec{A}$$\n",
    "\n",
    "* Zusammenhang mit der elektrischen Feldstärke\n",
    "\n",
    "im Vakuum gilt:\n",
    "\n",
    "$$\\vec{D}=\\epsilon_0 \\cdot \\vec{E}$$\n",
    "\n",
    "daher $\\vec{D}\\parallel \\vec{E}$. $\\epsilon_0$ ist die Influenzkonstante oder elektrische Feldkonstante.\n",
    "\n"
   ]
  },
  {
   "cell_type": "code",
   "execution_count": null,
   "metadata": {},
   "outputs": [],
   "source": []
  }
 ],
 "metadata": {
  "kernelspec": {
   "display_name": "Python [default]",
   "language": "python",
   "name": "python2"
  },
  "language_info": {
   "codemirror_mode": {
    "name": "ipython",
    "version": 2
   },
   "file_extension": ".py",
   "mimetype": "text/x-python",
   "name": "python",
   "nbconvert_exporter": "python",
   "pygments_lexer": "ipython2",
   "version": "2.7.14"
  }
 },
 "nbformat": 4,
 "nbformat_minor": 2
}
