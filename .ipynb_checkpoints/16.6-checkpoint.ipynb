{
 "cells": [
  {
   "cell_type": "markdown",
   "metadata": {},
   "source": [
    "### 16.6 Elektrischer Fluss und Gauß'sches Gesetz\n",
    "\n",
    "#### Elektrischer Fluss\n",
    "\n",
    "* Gesamtheit aller Feldlinien, die ein Flächenstück senkrecht durchsetzen, nennt man elektrischen Fluss $\\Phi_{el}$\n",
    "\n",
    "* Der Fluss ist abhängig von der Ausrichtung der Fläche zu den elektrischen Feldvektoren und wird mit den Normalenvektor und der Flächengröße mit dem Vektor $\\vec{A}$ beschrieben:\n",
    "\n",
    "<img src=\"figures/16.6_1a.png\" alt=\"16.6_1a\" style=\"width: 400px;\"/>\n",
    "\n",
    "* Ein homogenes Feld $\\vec{E}$ durchdringt eine Fläche $A$ die links senkrecht zu $\\vec{E}$ bzw. rechts unter einem Winkel $\\Theta$ gekippt ist. Die gestrichelte Linie $A_\\perp$ ist die Projektion von $\\vec{A}$ senkrecht zum Feld $\\vec{E}$\n",
    "\n",
    "<img src=\"figures/16.6_1.png\" alt=\"16.6_1\" style=\"width: 200px;\"/>\n",
    "\n",
    "* Der elektrische Fluss ist  \n",
    "\n",
    "$$\\Phi_E = E \\, A_\\perp = E \\, A \\cos\\Theta= \\vec{E} \\cdot \\vec{A}$$\n",
    "\n",
    "wobei hier das Skalarprodukt zwischen der Ausrichtung der Fläche $A$ und des elektrischen Feldes $E$ eingeführt wurde.\n",
    "\n",
    "* Ist die Oberfläche komplizierter können wir die Oberfläche in kleine Oberflächenelemente aufteilen über die wir addieren, bzw. integrieren\n",
    "\n",
    "$$\\Phi_E=\\sum_i^n \\vec{E}_i \\cdot \\Delta\\vec{A}_i =  \\int \\vec{E} \\cdot \\mathrm{d}\\vec{A}$$\n"
   ]
  },
  {
   "cell_type": "markdown",
   "metadata": {},
   "source": [
    "#### Gauß'sches Gesetz \n",
    "\n",
    "* Jetzt berechnen wir den elektrischen Fluss der von einer Punktladung $Q$ ausgeht und durch eine *geschlossene* Oberfläche geht, also $\\Phi_E=\\oint \\vec{E}\\cdot\\mathrm{d}\\vec{A}$\n",
    "\n",
    "  * Die Rechnung wird deutlich erleichtert wenn wir eine Kugeloberfläche benutzten. Deren Radius is $R$. \n",
    "  \n",
    "<img src=\"figures/16.6_3.png\" alt=\"16.6_3\" style=\"width: 200px;\"/>\n",
    "  \n",
    "  \n",
    "  \n",
    "  * Das elektrische Feld der Punktladung ist\n",
    "  \n",
    "  $$ \\vec{E}=\\frac{Q}{4\\pi\\epsilon_0}\\frac{1}{R^2}\\vec{e}_r$$\n",
    "  \n",
    "  * damit erhalten wir \n",
    "  $$\\oint \\frac{Q}{4\\pi\\epsilon_0}\\frac{1}{R^2}\\vec{e}_r \\mathrm{d}\\vec{A}=\n",
    "  \\frac{Q}{4\\pi\\epsilon_0}\\frac{1}{R^2}\\underbrace{\\vec{e}_r \\cdot \\vec{e}_r}_{=1}  4 \\pi R^2$$\n",
    "\n",
    "  und der Fluss durch eine geschlossene Fläche ist somit die umfasste Gesamtladung geteilt durch die Feldkonstante $\\epsilon_0$.\n",
    "  \n",
    "  \n",
    "Der Gauß'sche Satz ist gültig für eine beliebige Ladungsverteilung in einem von der Fläche $\\vec{A}$ eingeschlossenem Volumen:\n",
    "\n",
    "$$\\oint \\vec{E} \\cdot \\mathrm{d}\\vec{A} = \\sum_i \\frac{Q_i}{\\epsilon_0}=\\frac{Q_{umg}}{\\epsilon_0}$$\n",
    "\n",
    "\n",
    "\n",
    "\n"
   ]
  },
  {
   "cell_type": "markdown",
   "metadata": {},
   "source": [
    "##### Beispiel: Ladung auf einer Hohlkugel\n",
    "\n",
    "<img src=\"figures/16.6_4.png\" alt=\"16.6_4\" style=\"width: 300px;\"/>\n",
    "\n",
    "Bestimmung des elektrischen Feldes einer Hohlkugel mit Radius $R$ und positiver Ladung $Q$ auf der Oberfläche. Die elektrischen Feldvektoren stehen senktrecht auf der Oberfläche und sind wegen der Kugelsymmetrie an jedem Ort auf der Kugel gleich.\n",
    "\n",
    "Deswegen ist das Oberflächenintegral\n",
    "\n",
    "$$\\oint \\vec{E} \\cdot \\mathrm{d}\\vec{A}= E \\, A=\\frac{Q_{umg}}{\\epsilon_0}$$\n",
    "\n",
    "* Die innere Gauß'sche Fläche mit $r<R$ enthält keine Ladung, deswegen, ist das Feld im Inneren der Hohlkugel feldfrei. \n",
    "\n",
    "* Die äussere Gauß'sche Fläche mit $r>R$ enthält $Q_{umf}=Q$ als Ladung, damit ist \n",
    "\n",
    "$$E\\,A=E 4 \\pi r^2=\\frac{Q_{umf}}{\\epsilon_0}$$\n",
    "oder\n",
    "\n",
    "$$E(r)=\\frac{Q}{4 \\pi \\epsilon_0 r^2} $$\n",
    "\n",
    "Ausserhalb der Kugel ist das Feld identisch zu einer Punktladung $Q$ am Ort $r=0$."
   ]
  },
  {
   "cell_type": "markdown",
   "metadata": {},
   "source": [
    "##### Beispiel: Feld einer unendlich grossen geladenen Fläche\n",
    "\n",
    "Die Ladung auf einem unendlich ausgedehnten elektrischen Leiter wird über die Flächenladungsdichte $\\sigma$ angegeben:\n",
    "\n",
    "$$\\sigma=\\frac{Q}{A}$$\n",
    "\n",
    "<img src=\"figures/16.6_5.png\" alt=\"16.6_5\" style=\"width: 300px;\"/>\n",
    "\n",
    "Der Zylinder in der Abbildung umgibt eine Ladung $Q_{umg}=\\sigma\\,A_1$. \n",
    "\n",
    "$$\\frac{\\sigma A_1}{\\epsilon_0} = \\oint \\vec{E} \\cdot \\mathrm{d}\\vec{A}$$\n",
    "\n",
    "Wenn wir die Länge des Zylinders $l \\rightarrow 0$ gehen lassen, gibt es nur Beiträge im Integral durch die Flächen $A_2$ und $A_3$. Diese stehen senkrecht auf $\\mathrm{d}\\vec{A}$, daher\n",
    "\n",
    "$$\\frac{\\sigma A_1}{\\epsilon_0} = E \\cdot (A_2 + A_3)$$\n",
    "\n",
    "Die Flächen $A_1$, $A_2$ und $A_3$ sind alle gleich groß, $A_1=A_2=A_3=A$. Damit ergibt sich\n",
    "\n",
    "$$E=\\frac{\\sigma}{2 \\epsilon_0}\\quad .$$\n",
    "\n",
    "Aus Symmetriegründen ist das elektrische Feld überall gleich stark und senkrecht zur Fläche:\n",
    "\n",
    "\n",
    "$$\\vec{E}=\\frac{\\sigma}{2 \\epsilon_0} \\vec{e}_x$$\n",
    "\n"
   ]
  }
 ],
 "metadata": {
  "kernelspec": {
   "display_name": "Python [default]",
   "language": "python",
   "name": "python2"
  },
  "language_info": {
   "codemirror_mode": {
    "name": "ipython",
    "version": 2
   },
   "file_extension": ".py",
   "mimetype": "text/x-python",
   "name": "python",
   "nbconvert_exporter": "python",
   "pygments_lexer": "ipython2",
   "version": "2.7.14"
  }
 },
 "nbformat": 4,
 "nbformat_minor": 2
}
