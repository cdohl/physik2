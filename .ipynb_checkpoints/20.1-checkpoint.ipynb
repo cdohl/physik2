{
 "cells": [
  {
   "cell_type": "markdown",
   "metadata": {},
   "source": [
    "## 20. Elektromagnetische Induktion\n",
    "### 20.1 Das Faradaysche Induktionsgesetz\n",
    "\n",
    "* Was passiert in einer Leiterschlafe, wenn wir $\\Phi$ zeitlich ändern ⇨ \n",
    "$$\\frac{\\mathrm{d}\\Phi}{\\mathrm{d}t}\\neq 0$$\n",
    "\n",
    "* Änderung von $\\Phi$ bedeutet:\n",
    "  * Änderung von $\\vec{B}$\n",
    "  * Änderung von $\\vec{A}$\n",
    "  * Änderung des Winkels zwischen $\\vec{B}$ und $\\vec{A}$. \n",
    "\n",
    "* Experiment: Spannung an einer Leiterschleife bei\n",
    "$$\\frac{\\mathrm{d}\\Phi}{\\mathrm{d}t}\\neq 0 $$\n",
    "⇨ Induktionsspannung $U_{ind}$\n",
    "\n",
    "⇨ zeitliche Änderung "
   ]
  },
  {
   "cell_type": "code",
   "execution_count": null,
   "metadata": {},
   "outputs": [],
   "source": []
  }
 ],
 "metadata": {
  "kernelspec": {
   "display_name": "Python [conda env:anaconda2]",
   "language": "python",
   "name": "conda-env-anaconda2-py"
  },
  "language_info": {
   "codemirror_mode": {
    "name": "ipython",
    "version": 2
   },
   "file_extension": ".py",
   "mimetype": "text/x-python",
   "name": "python",
   "nbconvert_exporter": "python",
   "pygments_lexer": "ipython2",
   "version": "2.7.14"
  }
 },
 "nbformat": 4,
 "nbformat_minor": 2
}
