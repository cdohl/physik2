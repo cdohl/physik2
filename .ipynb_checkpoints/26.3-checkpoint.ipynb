{
 "cells": [
  {
   "cell_type": "markdown",
   "metadata": {},
   "source": [
    "### 26.3 Polarisation\n",
    "\n",
    "\n",
    "* EM-Wellen sind Transversalwellen\n",
    "\n",
    " $$\\vec{E}=\\vec{E_0}\\,\\cos (\\omega t - \\vec{k}\\cdot \\vec{r})$$\n",
    " \n",
    " $\\vec{E}_0\\perp \\vec{k}$ analog $\\vec{B}_0\\perp \\vec{k}$\n",
    "<p> \n",
    "* unpolarisiertes Licht:\n",
    "\n",
    "  wenn jede Richtung von $\\vec{E_0}$ senkrecht zu $\\vec{k}$ in gleichen Anteilen auftritt\n",
    "\n",
    "* Beispiel für unpolarisierte Strahlung\n",
    "  ⇨ Glühlampe (spontane Emission)\n",
    "  \n",
    "  \n",
    "  "
   ]
  },
  {
   "cell_type": "code",
   "execution_count": null,
   "metadata": {},
   "outputs": [],
   "source": []
  }
 ],
 "metadata": {
  "kernelspec": {
   "display_name": "Python [default]",
   "language": "python",
   "name": "python2"
  },
  "language_info": {
   "codemirror_mode": {
    "name": "ipython",
    "version": 2
   },
   "file_extension": ".py",
   "mimetype": "text/x-python",
   "name": "python",
   "nbconvert_exporter": "python",
   "pygments_lexer": "ipython2",
   "version": "2.7.14"
  }
 },
 "nbformat": 4,
 "nbformat_minor": 2
}
