{
 "cells": [
  {
   "cell_type": "markdown",
   "metadata": {},
   "source": [
    "### 20.2 Selbstinduktion\n",
    "\n",
    "$$\\phi = \\vec{B}\\cdot\\vec{A}$$\n",
    "\n",
    "Für eine Leiterschleife mit konstantem Querschnitt $A$ ist $B\\propto I$\n",
    "\n",
    "$$\\phi \\propto I$$\n",
    "\n",
    "und die Proportionalitätskonstante wird Selbstinduktivität oder kurz Induktivität $L$ genannt.\n",
    "\n",
    "$$\\phi = L \\,I\\quad \\left[ L\\right] =\\mathsf{\\frac{V\\cdot s }{A}=\\frac{Wb}{A}=H\\quad Henry}\\tag{20.2.1}$$\n",
    "\n",
    "\n",
    "\n",
    "$$U_{ind}=-N\\,\\frac{\\mathrm{d}\\phi}{\\mathrm{d}t}=-N\\,\\frac{\\mathrm{d}(\\vec{B}\\cdot\\vec{A})}{\\mathrm{d}t}\\tag{20.2.2}$$\n",
    "\n",
    "Vom Ampèreschen Gesetz wissen wir, dass \n",
    "$$B=\\mu_0\\,n\\,I=\\mu_0\\frac{N}{l_s}\\,I\\quad,$$\n",
    "wobei $N$ die Anzahl der Windungen und $l_s$ die Länge der Spule ist.\n",
    "\n",
    "Aus Gleichung (20.2.2) und mit $A_s$ der Querschnitt der Spule der senkrecht zum Magnetfeld liegt folgt\n",
    "\n",
    "$$U_{ind}=-\\frac{\\mu_0\\,N^2\\,A_s}{l_s}\\,\\frac{\\mathrm{d}I}{\\mathrm{d}t}\\quad .\\tag{20.2.3}$$\n",
    "\n",
    "Da mit der Defintion der Selbstinduktivität $L$, Gleichung (20.2.1), folg:\n",
    "\n",
    "$$U_{ind}=-L\\,\\frac{\\mathrm{d}I}{\\mathrm{d}t}\\tag{20.2.4}$$\n",
    "\n",
    "Die Selbstinduktivität einer Spule ergibt sich aus dem Vergleich von Gl. (20.2.4) mit (20.2.3) zu\n",
    "\n",
    "$$L=\\frac{\\mu_0\\,N^2\\,A_s}{l_s}$$\n",
    "\n"
   ]
  }
 ],
 "metadata": {
  "kernelspec": {
   "display_name": "Python [conda env:anaconda2]",
   "language": "python",
   "name": "conda-env-anaconda2-py"
  },
  "language_info": {
   "codemirror_mode": {
    "name": "ipython",
    "version": 2
   },
   "file_extension": ".py",
   "mimetype": "text/x-python",
   "name": "python",
   "nbconvert_exporter": "python",
   "pygments_lexer": "ipython2",
   "version": "2.7.14"
  }
 },
 "nbformat": 4,
 "nbformat_minor": 2
}
