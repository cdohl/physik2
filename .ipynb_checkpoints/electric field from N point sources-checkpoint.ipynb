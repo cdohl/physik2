{
 "cells": [
  {
   "cell_type": "code",
   "execution_count": 2,
   "metadata": {
    "hide_input": false,
    "scrolled": false
   },
   "outputs": [
    {
     "data": {
      "application/javascript": [
       "/* Put everything inside the global mpl namespace */\n",
       "window.mpl = {};\n",
       "\n",
       "mpl.get_websocket_type = function() {\n",
       "    if (typeof(WebSocket) !== 'undefined') {\n",
       "        return WebSocket;\n",
       "    } else if (typeof(MozWebSocket) !== 'undefined') {\n",
       "        return MozWebSocket;\n",
       "    } else {\n",
       "        alert('Your browser does not have WebSocket support.' +\n",
       "              'Please try Chrome, Safari or Firefox ≥ 6. ' +\n",
       "              'Firefox 4 and 5 are also supported but you ' +\n",
       "              'have to enable WebSockets in about:config.');\n",
       "    };\n",
       "}\n",
       "\n",
       "mpl.figure = function(figure_id, websocket, ondownload, parent_element) {\n",
       "    this.id = figure_id;\n",
       "\n",
       "    this.ws = websocket;\n",
       "\n",
       "    this.supports_binary = (this.ws.binaryType != undefined);\n",
       "\n",
       "    if (!this.supports_binary) {\n",
       "        var warnings = document.getElementById(\"mpl-warnings\");\n",
       "        if (warnings) {\n",
       "            warnings.style.display = 'block';\n",
       "            warnings.textContent = (\n",
       "                \"This browser does not support binary websocket messages. \" +\n",
       "                    \"Performance may be slow.\");\n",
       "        }\n",
       "    }\n",
       "\n",
       "    this.imageObj = new Image();\n",
       "\n",
       "    this.context = undefined;\n",
       "    this.message = undefined;\n",
       "    this.canvas = undefined;\n",
       "    this.rubberband_canvas = undefined;\n",
       "    this.rubberband_context = undefined;\n",
       "    this.format_dropdown = undefined;\n",
       "\n",
       "    this.image_mode = 'full';\n",
       "\n",
       "    this.root = $('<div/>');\n",
       "    this._root_extra_style(this.root)\n",
       "    this.root.attr('style', 'display: inline-block');\n",
       "\n",
       "    $(parent_element).append(this.root);\n",
       "\n",
       "    this._init_header(this);\n",
       "    this._init_canvas(this);\n",
       "    this._init_toolbar(this);\n",
       "\n",
       "    var fig = this;\n",
       "\n",
       "    this.waiting = false;\n",
       "\n",
       "    this.ws.onopen =  function () {\n",
       "            fig.send_message(\"supports_binary\", {value: fig.supports_binary});\n",
       "            fig.send_message(\"send_image_mode\", {});\n",
       "            fig.send_message(\"refresh\", {});\n",
       "        }\n",
       "\n",
       "    this.imageObj.onload = function() {\n",
       "            if (fig.image_mode == 'full') {\n",
       "                // Full images could contain transparency (where diff images\n",
       "                // almost always do), so we need to clear the canvas so that\n",
       "                // there is no ghosting.\n",
       "                fig.context.clearRect(0, 0, fig.canvas.width, fig.canvas.height);\n",
       "            }\n",
       "            fig.context.drawImage(fig.imageObj, 0, 0);\n",
       "        };\n",
       "\n",
       "    this.imageObj.onunload = function() {\n",
       "        this.ws.close();\n",
       "    }\n",
       "\n",
       "    this.ws.onmessage = this._make_on_message_function(this);\n",
       "\n",
       "    this.ondownload = ondownload;\n",
       "}\n",
       "\n",
       "mpl.figure.prototype._init_header = function() {\n",
       "    var titlebar = $(\n",
       "        '<div class=\"ui-dialog-titlebar ui-widget-header ui-corner-all ' +\n",
       "        'ui-helper-clearfix\"/>');\n",
       "    var titletext = $(\n",
       "        '<div class=\"ui-dialog-title\" style=\"width: 100%; ' +\n",
       "        'text-align: center; padding: 3px;\"/>');\n",
       "    titlebar.append(titletext)\n",
       "    this.root.append(titlebar);\n",
       "    this.header = titletext[0];\n",
       "}\n",
       "\n",
       "\n",
       "\n",
       "mpl.figure.prototype._canvas_extra_style = function(canvas_div) {\n",
       "\n",
       "}\n",
       "\n",
       "\n",
       "mpl.figure.prototype._root_extra_style = function(canvas_div) {\n",
       "\n",
       "}\n",
       "\n",
       "mpl.figure.prototype._init_canvas = function() {\n",
       "    var fig = this;\n",
       "\n",
       "    var canvas_div = $('<div/>');\n",
       "\n",
       "    canvas_div.attr('style', 'position: relative; clear: both; outline: 0');\n",
       "\n",
       "    function canvas_keyboard_event(event) {\n",
       "        return fig.key_event(event, event['data']);\n",
       "    }\n",
       "\n",
       "    canvas_div.keydown('key_press', canvas_keyboard_event);\n",
       "    canvas_div.keyup('key_release', canvas_keyboard_event);\n",
       "    this.canvas_div = canvas_div\n",
       "    this._canvas_extra_style(canvas_div)\n",
       "    this.root.append(canvas_div);\n",
       "\n",
       "    var canvas = $('<canvas/>');\n",
       "    canvas.addClass('mpl-canvas');\n",
       "    canvas.attr('style', \"left: 0; top: 0; z-index: 0; outline: 0\")\n",
       "\n",
       "    this.canvas = canvas[0];\n",
       "    this.context = canvas[0].getContext(\"2d\");\n",
       "\n",
       "    var rubberband = $('<canvas/>');\n",
       "    rubberband.attr('style', \"position: absolute; left: 0; top: 0; z-index: 1;\")\n",
       "\n",
       "    var pass_mouse_events = true;\n",
       "\n",
       "    canvas_div.resizable({\n",
       "        start: function(event, ui) {\n",
       "            pass_mouse_events = false;\n",
       "        },\n",
       "        resize: function(event, ui) {\n",
       "            fig.request_resize(ui.size.width, ui.size.height);\n",
       "        },\n",
       "        stop: function(event, ui) {\n",
       "            pass_mouse_events = true;\n",
       "            fig.request_resize(ui.size.width, ui.size.height);\n",
       "        },\n",
       "    });\n",
       "\n",
       "    function mouse_event_fn(event) {\n",
       "        if (pass_mouse_events)\n",
       "            return fig.mouse_event(event, event['data']);\n",
       "    }\n",
       "\n",
       "    rubberband.mousedown('button_press', mouse_event_fn);\n",
       "    rubberband.mouseup('button_release', mouse_event_fn);\n",
       "    // Throttle sequential mouse events to 1 every 20ms.\n",
       "    rubberband.mousemove('motion_notify', mouse_event_fn);\n",
       "\n",
       "    rubberband.mouseenter('figure_enter', mouse_event_fn);\n",
       "    rubberband.mouseleave('figure_leave', mouse_event_fn);\n",
       "\n",
       "    canvas_div.on(\"wheel\", function (event) {\n",
       "        event = event.originalEvent;\n",
       "        event['data'] = 'scroll'\n",
       "        if (event.deltaY < 0) {\n",
       "            event.step = 1;\n",
       "        } else {\n",
       "            event.step = -1;\n",
       "        }\n",
       "        mouse_event_fn(event);\n",
       "    });\n",
       "\n",
       "    canvas_div.append(canvas);\n",
       "    canvas_div.append(rubberband);\n",
       "\n",
       "    this.rubberband = rubberband;\n",
       "    this.rubberband_canvas = rubberband[0];\n",
       "    this.rubberband_context = rubberband[0].getContext(\"2d\");\n",
       "    this.rubberband_context.strokeStyle = \"#000000\";\n",
       "\n",
       "    this._resize_canvas = function(width, height) {\n",
       "        // Keep the size of the canvas, canvas container, and rubber band\n",
       "        // canvas in synch.\n",
       "        canvas_div.css('width', width)\n",
       "        canvas_div.css('height', height)\n",
       "\n",
       "        canvas.attr('width', width);\n",
       "        canvas.attr('height', height);\n",
       "\n",
       "        rubberband.attr('width', width);\n",
       "        rubberband.attr('height', height);\n",
       "    }\n",
       "\n",
       "    // Set the figure to an initial 600x600px, this will subsequently be updated\n",
       "    // upon first draw.\n",
       "    this._resize_canvas(600, 600);\n",
       "\n",
       "    // Disable right mouse context menu.\n",
       "    $(this.rubberband_canvas).bind(\"contextmenu\",function(e){\n",
       "        return false;\n",
       "    });\n",
       "\n",
       "    function set_focus () {\n",
       "        canvas.focus();\n",
       "        canvas_div.focus();\n",
       "    }\n",
       "\n",
       "    window.setTimeout(set_focus, 100);\n",
       "}\n",
       "\n",
       "mpl.figure.prototype._init_toolbar = function() {\n",
       "    var fig = this;\n",
       "\n",
       "    var nav_element = $('<div/>')\n",
       "    nav_element.attr('style', 'width: 100%');\n",
       "    this.root.append(nav_element);\n",
       "\n",
       "    // Define a callback function for later on.\n",
       "    function toolbar_event(event) {\n",
       "        return fig.toolbar_button_onclick(event['data']);\n",
       "    }\n",
       "    function toolbar_mouse_event(event) {\n",
       "        return fig.toolbar_button_onmouseover(event['data']);\n",
       "    }\n",
       "\n",
       "    for(var toolbar_ind in mpl.toolbar_items) {\n",
       "        var name = mpl.toolbar_items[toolbar_ind][0];\n",
       "        var tooltip = mpl.toolbar_items[toolbar_ind][1];\n",
       "        var image = mpl.toolbar_items[toolbar_ind][2];\n",
       "        var method_name = mpl.toolbar_items[toolbar_ind][3];\n",
       "\n",
       "        if (!name) {\n",
       "            // put a spacer in here.\n",
       "            continue;\n",
       "        }\n",
       "        var button = $('<button/>');\n",
       "        button.addClass('ui-button ui-widget ui-state-default ui-corner-all ' +\n",
       "                        'ui-button-icon-only');\n",
       "        button.attr('role', 'button');\n",
       "        button.attr('aria-disabled', 'false');\n",
       "        button.click(method_name, toolbar_event);\n",
       "        button.mouseover(tooltip, toolbar_mouse_event);\n",
       "\n",
       "        var icon_img = $('<span/>');\n",
       "        icon_img.addClass('ui-button-icon-primary ui-icon');\n",
       "        icon_img.addClass(image);\n",
       "        icon_img.addClass('ui-corner-all');\n",
       "\n",
       "        var tooltip_span = $('<span/>');\n",
       "        tooltip_span.addClass('ui-button-text');\n",
       "        tooltip_span.html(tooltip);\n",
       "\n",
       "        button.append(icon_img);\n",
       "        button.append(tooltip_span);\n",
       "\n",
       "        nav_element.append(button);\n",
       "    }\n",
       "\n",
       "    var fmt_picker_span = $('<span/>');\n",
       "\n",
       "    var fmt_picker = $('<select/>');\n",
       "    fmt_picker.addClass('mpl-toolbar-option ui-widget ui-widget-content');\n",
       "    fmt_picker_span.append(fmt_picker);\n",
       "    nav_element.append(fmt_picker_span);\n",
       "    this.format_dropdown = fmt_picker[0];\n",
       "\n",
       "    for (var ind in mpl.extensions) {\n",
       "        var fmt = mpl.extensions[ind];\n",
       "        var option = $(\n",
       "            '<option/>', {selected: fmt === mpl.default_extension}).html(fmt);\n",
       "        fmt_picker.append(option)\n",
       "    }\n",
       "\n",
       "    // Add hover states to the ui-buttons\n",
       "    $( \".ui-button\" ).hover(\n",
       "        function() { $(this).addClass(\"ui-state-hover\");},\n",
       "        function() { $(this).removeClass(\"ui-state-hover\");}\n",
       "    );\n",
       "\n",
       "    var status_bar = $('<span class=\"mpl-message\"/>');\n",
       "    nav_element.append(status_bar);\n",
       "    this.message = status_bar[0];\n",
       "}\n",
       "\n",
       "mpl.figure.prototype.request_resize = function(x_pixels, y_pixels) {\n",
       "    // Request matplotlib to resize the figure. Matplotlib will then trigger a resize in the client,\n",
       "    // which will in turn request a refresh of the image.\n",
       "    this.send_message('resize', {'width': x_pixels, 'height': y_pixels});\n",
       "}\n",
       "\n",
       "mpl.figure.prototype.send_message = function(type, properties) {\n",
       "    properties['type'] = type;\n",
       "    properties['figure_id'] = this.id;\n",
       "    this.ws.send(JSON.stringify(properties));\n",
       "}\n",
       "\n",
       "mpl.figure.prototype.send_draw_message = function() {\n",
       "    if (!this.waiting) {\n",
       "        this.waiting = true;\n",
       "        this.ws.send(JSON.stringify({type: \"draw\", figure_id: this.id}));\n",
       "    }\n",
       "}\n",
       "\n",
       "\n",
       "mpl.figure.prototype.handle_save = function(fig, msg) {\n",
       "    var format_dropdown = fig.format_dropdown;\n",
       "    var format = format_dropdown.options[format_dropdown.selectedIndex].value;\n",
       "    fig.ondownload(fig, format);\n",
       "}\n",
       "\n",
       "\n",
       "mpl.figure.prototype.handle_resize = function(fig, msg) {\n",
       "    var size = msg['size'];\n",
       "    if (size[0] != fig.canvas.width || size[1] != fig.canvas.height) {\n",
       "        fig._resize_canvas(size[0], size[1]);\n",
       "        fig.send_message(\"refresh\", {});\n",
       "    };\n",
       "}\n",
       "\n",
       "mpl.figure.prototype.handle_rubberband = function(fig, msg) {\n",
       "    var x0 = msg['x0'];\n",
       "    var y0 = fig.canvas.height - msg['y0'];\n",
       "    var x1 = msg['x1'];\n",
       "    var y1 = fig.canvas.height - msg['y1'];\n",
       "    x0 = Math.floor(x0) + 0.5;\n",
       "    y0 = Math.floor(y0) + 0.5;\n",
       "    x1 = Math.floor(x1) + 0.5;\n",
       "    y1 = Math.floor(y1) + 0.5;\n",
       "    var min_x = Math.min(x0, x1);\n",
       "    var min_y = Math.min(y0, y1);\n",
       "    var width = Math.abs(x1 - x0);\n",
       "    var height = Math.abs(y1 - y0);\n",
       "\n",
       "    fig.rubberband_context.clearRect(\n",
       "        0, 0, fig.canvas.width, fig.canvas.height);\n",
       "\n",
       "    fig.rubberband_context.strokeRect(min_x, min_y, width, height);\n",
       "}\n",
       "\n",
       "mpl.figure.prototype.handle_figure_label = function(fig, msg) {\n",
       "    // Updates the figure title.\n",
       "    fig.header.textContent = msg['label'];\n",
       "}\n",
       "\n",
       "mpl.figure.prototype.handle_cursor = function(fig, msg) {\n",
       "    var cursor = msg['cursor'];\n",
       "    switch(cursor)\n",
       "    {\n",
       "    case 0:\n",
       "        cursor = 'pointer';\n",
       "        break;\n",
       "    case 1:\n",
       "        cursor = 'default';\n",
       "        break;\n",
       "    case 2:\n",
       "        cursor = 'crosshair';\n",
       "        break;\n",
       "    case 3:\n",
       "        cursor = 'move';\n",
       "        break;\n",
       "    }\n",
       "    fig.rubberband_canvas.style.cursor = cursor;\n",
       "}\n",
       "\n",
       "mpl.figure.prototype.handle_message = function(fig, msg) {\n",
       "    fig.message.textContent = msg['message'];\n",
       "}\n",
       "\n",
       "mpl.figure.prototype.handle_draw = function(fig, msg) {\n",
       "    // Request the server to send over a new figure.\n",
       "    fig.send_draw_message();\n",
       "}\n",
       "\n",
       "mpl.figure.prototype.handle_image_mode = function(fig, msg) {\n",
       "    fig.image_mode = msg['mode'];\n",
       "}\n",
       "\n",
       "mpl.figure.prototype.updated_canvas_event = function() {\n",
       "    // Called whenever the canvas gets updated.\n",
       "    this.send_message(\"ack\", {});\n",
       "}\n",
       "\n",
       "// A function to construct a web socket function for onmessage handling.\n",
       "// Called in the figure constructor.\n",
       "mpl.figure.prototype._make_on_message_function = function(fig) {\n",
       "    return function socket_on_message(evt) {\n",
       "        if (evt.data instanceof Blob) {\n",
       "            /* FIXME: We get \"Resource interpreted as Image but\n",
       "             * transferred with MIME type text/plain:\" errors on\n",
       "             * Chrome.  But how to set the MIME type?  It doesn't seem\n",
       "             * to be part of the websocket stream */\n",
       "            evt.data.type = \"image/png\";\n",
       "\n",
       "            /* Free the memory for the previous frames */\n",
       "            if (fig.imageObj.src) {\n",
       "                (window.URL || window.webkitURL).revokeObjectURL(\n",
       "                    fig.imageObj.src);\n",
       "            }\n",
       "\n",
       "            fig.imageObj.src = (window.URL || window.webkitURL).createObjectURL(\n",
       "                evt.data);\n",
       "            fig.updated_canvas_event();\n",
       "            fig.waiting = false;\n",
       "            return;\n",
       "        }\n",
       "        else if (typeof evt.data === 'string' && evt.data.slice(0, 21) == \"data:image/png;base64\") {\n",
       "            fig.imageObj.src = evt.data;\n",
       "            fig.updated_canvas_event();\n",
       "            fig.waiting = false;\n",
       "            return;\n",
       "        }\n",
       "\n",
       "        var msg = JSON.parse(evt.data);\n",
       "        var msg_type = msg['type'];\n",
       "\n",
       "        // Call the  \"handle_{type}\" callback, which takes\n",
       "        // the figure and JSON message as its only arguments.\n",
       "        try {\n",
       "            var callback = fig[\"handle_\" + msg_type];\n",
       "        } catch (e) {\n",
       "            console.log(\"No handler for the '\" + msg_type + \"' message type: \", msg);\n",
       "            return;\n",
       "        }\n",
       "\n",
       "        if (callback) {\n",
       "            try {\n",
       "                // console.log(\"Handling '\" + msg_type + \"' message: \", msg);\n",
       "                callback(fig, msg);\n",
       "            } catch (e) {\n",
       "                console.log(\"Exception inside the 'handler_\" + msg_type + \"' callback:\", e, e.stack, msg);\n",
       "            }\n",
       "        }\n",
       "    };\n",
       "}\n",
       "\n",
       "// from http://stackoverflow.com/questions/1114465/getting-mouse-location-in-canvas\n",
       "mpl.findpos = function(e) {\n",
       "    //this section is from http://www.quirksmode.org/js/events_properties.html\n",
       "    var targ;\n",
       "    if (!e)\n",
       "        e = window.event;\n",
       "    if (e.target)\n",
       "        targ = e.target;\n",
       "    else if (e.srcElement)\n",
       "        targ = e.srcElement;\n",
       "    if (targ.nodeType == 3) // defeat Safari bug\n",
       "        targ = targ.parentNode;\n",
       "\n",
       "    // jQuery normalizes the pageX and pageY\n",
       "    // pageX,Y are the mouse positions relative to the document\n",
       "    // offset() returns the position of the element relative to the document\n",
       "    var x = e.pageX - $(targ).offset().left;\n",
       "    var y = e.pageY - $(targ).offset().top;\n",
       "\n",
       "    return {\"x\": x, \"y\": y};\n",
       "};\n",
       "\n",
       "/*\n",
       " * return a copy of an object with only non-object keys\n",
       " * we need this to avoid circular references\n",
       " * http://stackoverflow.com/a/24161582/3208463\n",
       " */\n",
       "function simpleKeys (original) {\n",
       "  return Object.keys(original).reduce(function (obj, key) {\n",
       "    if (typeof original[key] !== 'object')\n",
       "        obj[key] = original[key]\n",
       "    return obj;\n",
       "  }, {});\n",
       "}\n",
       "\n",
       "mpl.figure.prototype.mouse_event = function(event, name) {\n",
       "    var canvas_pos = mpl.findpos(event)\n",
       "\n",
       "    if (name === 'button_press')\n",
       "    {\n",
       "        this.canvas.focus();\n",
       "        this.canvas_div.focus();\n",
       "    }\n",
       "\n",
       "    var x = canvas_pos.x;\n",
       "    var y = canvas_pos.y;\n",
       "\n",
       "    this.send_message(name, {x: x, y: y, button: event.button,\n",
       "                             step: event.step,\n",
       "                             guiEvent: simpleKeys(event)});\n",
       "\n",
       "    /* This prevents the web browser from automatically changing to\n",
       "     * the text insertion cursor when the button is pressed.  We want\n",
       "     * to control all of the cursor setting manually through the\n",
       "     * 'cursor' event from matplotlib */\n",
       "    event.preventDefault();\n",
       "    return false;\n",
       "}\n",
       "\n",
       "mpl.figure.prototype._key_event_extra = function(event, name) {\n",
       "    // Handle any extra behaviour associated with a key event\n",
       "}\n",
       "\n",
       "mpl.figure.prototype.key_event = function(event, name) {\n",
       "\n",
       "    // Prevent repeat events\n",
       "    if (name == 'key_press')\n",
       "    {\n",
       "        if (event.which === this._key)\n",
       "            return;\n",
       "        else\n",
       "            this._key = event.which;\n",
       "    }\n",
       "    if (name == 'key_release')\n",
       "        this._key = null;\n",
       "\n",
       "    var value = '';\n",
       "    if (event.ctrlKey && event.which != 17)\n",
       "        value += \"ctrl+\";\n",
       "    if (event.altKey && event.which != 18)\n",
       "        value += \"alt+\";\n",
       "    if (event.shiftKey && event.which != 16)\n",
       "        value += \"shift+\";\n",
       "\n",
       "    value += 'k';\n",
       "    value += event.which.toString();\n",
       "\n",
       "    this._key_event_extra(event, name);\n",
       "\n",
       "    this.send_message(name, {key: value,\n",
       "                             guiEvent: simpleKeys(event)});\n",
       "    return false;\n",
       "}\n",
       "\n",
       "mpl.figure.prototype.toolbar_button_onclick = function(name) {\n",
       "    if (name == 'download') {\n",
       "        this.handle_save(this, null);\n",
       "    } else {\n",
       "        this.send_message(\"toolbar_button\", {name: name});\n",
       "    }\n",
       "};\n",
       "\n",
       "mpl.figure.prototype.toolbar_button_onmouseover = function(tooltip) {\n",
       "    this.message.textContent = tooltip;\n",
       "};\n",
       "mpl.toolbar_items = [[\"Home\", \"Reset original view\", \"fa fa-home icon-home\", \"home\"], [\"Back\", \"Back to  previous view\", \"fa fa-arrow-left icon-arrow-left\", \"back\"], [\"Forward\", \"Forward to next view\", \"fa fa-arrow-right icon-arrow-right\", \"forward\"], [\"\", \"\", \"\", \"\"], [\"Pan\", \"Pan axes with left mouse, zoom with right\", \"fa fa-arrows icon-move\", \"pan\"], [\"Zoom\", \"Zoom to rectangle\", \"fa fa-square-o icon-check-empty\", \"zoom\"], [\"\", \"\", \"\", \"\"], [\"Download\", \"Download plot\", \"fa fa-floppy-o icon-save\", \"download\"]];\n",
       "\n",
       "mpl.extensions = [\"eps\", \"jpeg\", \"pdf\", \"png\", \"ps\", \"raw\", \"svg\", \"tif\"];\n",
       "\n",
       "mpl.default_extension = \"png\";var comm_websocket_adapter = function(comm) {\n",
       "    // Create a \"websocket\"-like object which calls the given IPython comm\n",
       "    // object with the appropriate methods. Currently this is a non binary\n",
       "    // socket, so there is still some room for performance tuning.\n",
       "    var ws = {};\n",
       "\n",
       "    ws.close = function() {\n",
       "        comm.close()\n",
       "    };\n",
       "    ws.send = function(m) {\n",
       "        //console.log('sending', m);\n",
       "        comm.send(m);\n",
       "    };\n",
       "    // Register the callback with on_msg.\n",
       "    comm.on_msg(function(msg) {\n",
       "        //console.log('receiving', msg['content']['data'], msg);\n",
       "        // Pass the mpl event to the overriden (by mpl) onmessage function.\n",
       "        ws.onmessage(msg['content']['data'])\n",
       "    });\n",
       "    return ws;\n",
       "}\n",
       "\n",
       "mpl.mpl_figure_comm = function(comm, msg) {\n",
       "    // This is the function which gets called when the mpl process\n",
       "    // starts-up an IPython Comm through the \"matplotlib\" channel.\n",
       "\n",
       "    var id = msg.content.data.id;\n",
       "    // Get hold of the div created by the display call when the Comm\n",
       "    // socket was opened in Python.\n",
       "    var element = $(\"#\" + id);\n",
       "    var ws_proxy = comm_websocket_adapter(comm)\n",
       "\n",
       "    function ondownload(figure, format) {\n",
       "        window.open(figure.imageObj.src);\n",
       "    }\n",
       "\n",
       "    var fig = new mpl.figure(id, ws_proxy,\n",
       "                           ondownload,\n",
       "                           element.get(0));\n",
       "\n",
       "    // Call onopen now - mpl needs it, as it is assuming we've passed it a real\n",
       "    // web socket which is closed, not our websocket->open comm proxy.\n",
       "    ws_proxy.onopen();\n",
       "\n",
       "    fig.parent_element = element.get(0);\n",
       "    fig.cell_info = mpl.find_output_cell(\"<div id='\" + id + \"'></div>\");\n",
       "    if (!fig.cell_info) {\n",
       "        console.error(\"Failed to find cell for figure\", id, fig);\n",
       "        return;\n",
       "    }\n",
       "\n",
       "    var output_index = fig.cell_info[2]\n",
       "    var cell = fig.cell_info[0];\n",
       "\n",
       "};\n",
       "\n",
       "mpl.figure.prototype.handle_close = function(fig, msg) {\n",
       "    fig.root.unbind('remove')\n",
       "\n",
       "    // Update the output cell to use the data from the current canvas.\n",
       "    fig.push_to_output();\n",
       "    var dataURL = fig.canvas.toDataURL();\n",
       "    // Re-enable the keyboard manager in IPython - without this line, in FF,\n",
       "    // the notebook keyboard shortcuts fail.\n",
       "    IPython.keyboard_manager.enable()\n",
       "    $(fig.parent_element).html('<img src=\"' + dataURL + '\">');\n",
       "    fig.close_ws(fig, msg);\n",
       "}\n",
       "\n",
       "mpl.figure.prototype.close_ws = function(fig, msg){\n",
       "    fig.send_message('closing', msg);\n",
       "    // fig.ws.close()\n",
       "}\n",
       "\n",
       "mpl.figure.prototype.push_to_output = function(remove_interactive) {\n",
       "    // Turn the data on the canvas into data in the output cell.\n",
       "    var dataURL = this.canvas.toDataURL();\n",
       "    this.cell_info[1]['text/html'] = '<img src=\"' + dataURL + '\">';\n",
       "}\n",
       "\n",
       "mpl.figure.prototype.updated_canvas_event = function() {\n",
       "    // Tell IPython that the notebook contents must change.\n",
       "    IPython.notebook.set_dirty(true);\n",
       "    this.send_message(\"ack\", {});\n",
       "    var fig = this;\n",
       "    // Wait a second, then push the new image to the DOM so\n",
       "    // that it is saved nicely (might be nice to debounce this).\n",
       "    setTimeout(function () { fig.push_to_output() }, 1000);\n",
       "}\n",
       "\n",
       "mpl.figure.prototype._init_toolbar = function() {\n",
       "    var fig = this;\n",
       "\n",
       "    var nav_element = $('<div/>')\n",
       "    nav_element.attr('style', 'width: 100%');\n",
       "    this.root.append(nav_element);\n",
       "\n",
       "    // Define a callback function for later on.\n",
       "    function toolbar_event(event) {\n",
       "        return fig.toolbar_button_onclick(event['data']);\n",
       "    }\n",
       "    function toolbar_mouse_event(event) {\n",
       "        return fig.toolbar_button_onmouseover(event['data']);\n",
       "    }\n",
       "\n",
       "    for(var toolbar_ind in mpl.toolbar_items){\n",
       "        var name = mpl.toolbar_items[toolbar_ind][0];\n",
       "        var tooltip = mpl.toolbar_items[toolbar_ind][1];\n",
       "        var image = mpl.toolbar_items[toolbar_ind][2];\n",
       "        var method_name = mpl.toolbar_items[toolbar_ind][3];\n",
       "\n",
       "        if (!name) { continue; };\n",
       "\n",
       "        var button = $('<button class=\"btn btn-default\" href=\"#\" title=\"' + name + '\"><i class=\"fa ' + image + ' fa-lg\"></i></button>');\n",
       "        button.click(method_name, toolbar_event);\n",
       "        button.mouseover(tooltip, toolbar_mouse_event);\n",
       "        nav_element.append(button);\n",
       "    }\n",
       "\n",
       "    // Add the status bar.\n",
       "    var status_bar = $('<span class=\"mpl-message\" style=\"text-align:right; float: right;\"/>');\n",
       "    nav_element.append(status_bar);\n",
       "    this.message = status_bar[0];\n",
       "\n",
       "    // Add the close button to the window.\n",
       "    var buttongrp = $('<div class=\"btn-group inline pull-right\"></div>');\n",
       "    var button = $('<button class=\"btn btn-mini btn-primary\" href=\"#\" title=\"Stop Interaction\"><i class=\"fa fa-power-off icon-remove icon-large\"></i></button>');\n",
       "    button.click(function (evt) { fig.handle_close(fig, {}); } );\n",
       "    button.mouseover('Stop Interaction', toolbar_mouse_event);\n",
       "    buttongrp.append(button);\n",
       "    var titlebar = this.root.find($('.ui-dialog-titlebar'));\n",
       "    titlebar.prepend(buttongrp);\n",
       "}\n",
       "\n",
       "mpl.figure.prototype._root_extra_style = function(el){\n",
       "    var fig = this\n",
       "    el.on(\"remove\", function(){\n",
       "\tfig.close_ws(fig, {});\n",
       "    });\n",
       "}\n",
       "\n",
       "mpl.figure.prototype._canvas_extra_style = function(el){\n",
       "    // this is important to make the div 'focusable\n",
       "    el.attr('tabindex', 0)\n",
       "    // reach out to IPython and tell the keyboard manager to turn it's self\n",
       "    // off when our div gets focus\n",
       "\n",
       "    // location in version 3\n",
       "    if (IPython.notebook.keyboard_manager) {\n",
       "        IPython.notebook.keyboard_manager.register_events(el);\n",
       "    }\n",
       "    else {\n",
       "        // location in version 2\n",
       "        IPython.keyboard_manager.register_events(el);\n",
       "    }\n",
       "\n",
       "}\n",
       "\n",
       "mpl.figure.prototype._key_event_extra = function(event, name) {\n",
       "    var manager = IPython.notebook.keyboard_manager;\n",
       "    if (!manager)\n",
       "        manager = IPython.keyboard_manager;\n",
       "\n",
       "    // Check for shift+enter\n",
       "    if (event.shiftKey && event.which == 13) {\n",
       "        this.canvas_div.blur();\n",
       "        event.shiftKey = false;\n",
       "        // Send a \"J\" for go to next cell\n",
       "        event.which = 74;\n",
       "        event.keyCode = 74;\n",
       "        manager.command_mode();\n",
       "        manager.handle_keydown(event);\n",
       "    }\n",
       "}\n",
       "\n",
       "mpl.figure.prototype.handle_save = function(fig, msg) {\n",
       "    fig.ondownload(fig, null);\n",
       "}\n",
       "\n",
       "\n",
       "mpl.find_output_cell = function(html_output) {\n",
       "    // Return the cell and output element which can be found *uniquely* in the notebook.\n",
       "    // Note - this is a bit hacky, but it is done because the \"notebook_saving.Notebook\"\n",
       "    // IPython event is triggered only after the cells have been serialised, which for\n",
       "    // our purposes (turning an active figure into a static one), is too late.\n",
       "    var cells = IPython.notebook.get_cells();\n",
       "    var ncells = cells.length;\n",
       "    for (var i=0; i<ncells; i++) {\n",
       "        var cell = cells[i];\n",
       "        if (cell.cell_type === 'code'){\n",
       "            for (var j=0; j<cell.output_area.outputs.length; j++) {\n",
       "                var data = cell.output_area.outputs[j];\n",
       "                if (data.data) {\n",
       "                    // IPython >= 3 moved mimebundle to data attribute of output\n",
       "                    data = data.data;\n",
       "                }\n",
       "                if (data['text/html'] == html_output) {\n",
       "                    return [cell, data, j];\n",
       "                }\n",
       "            }\n",
       "        }\n",
       "    }\n",
       "}\n",
       "\n",
       "// Register the function which deals with the matplotlib target/channel.\n",
       "// The kernel may be null if the page has been refreshed.\n",
       "if (IPython.notebook.kernel != null) {\n",
       "    IPython.notebook.kernel.comm_manager.register_target('matplotlib', mpl.mpl_figure_comm);\n",
       "}\n"
      ],
      "text/plain": [
       "<IPython.core.display.Javascript object>"
      ]
     },
     "metadata": {},
     "output_type": "display_data"
    },
    {
     "data": {
      "text/html": [
       "<div id='45eade4e-bf74-4853-a81b-f776578f1a92'></div>"
      ],
      "text/plain": [
       "<IPython.core.display.HTML object>"
      ]
     },
     "metadata": {},
     "output_type": "display_data"
    },
    {
     "name": "stderr",
     "output_type": "stream",
     "text": [
      "Widget Javascript not detected.  It may not be installed properly. Did you enable the widgetsnbextension? If not, then run \"jupyter nbextension enable --py --sys-prefix widgetsnbextension\"\n",
      "Widget Javascript not detected.  It may not be installed properly. Did you enable the widgetsnbextension? If not, then run \"jupyter nbextension enable --py --sys-prefix widgetsnbextension\"\n",
      "Widget Javascript not detected.  It may not be installed properly. Did you enable the widgetsnbextension? If not, then run \"jupyter nbextension enable --py --sys-prefix widgetsnbextension\"\n"
     ]
    }
   ],
   "source": [
    "#standard boilerplate for Python\n",
    "%matplotlib nbagg\n",
    "import numpy as np\n",
    "import matplotlib.pylab as plt\n",
    "from ipywidgets import widgets\n",
    "from IPython import display\n",
    "from scipy.integrate import odeint\n",
    "import time\n",
    "\n",
    "\n",
    "np.seterr(divide='ignore', invalid='ignore')\n",
    "\n",
    "w = 3\n",
    "p = 100\n",
    "vscale = 0.\n",
    "\n",
    "fig = plt.figure(figsize=(3, 3), dpi=200)\n",
    "ax = fig.add_subplot(111)\n",
    "fig.show()\n",
    "mypos = []\n",
    "k=[]\n",
    "\n",
    "def onclick(event):\n",
    "    global k, ax, mypos, vscale \n",
    "    if k != []:\n",
    "        ax.lines.remove(k[0])\n",
    "        k[1].remove()\n",
    "    k=plt.plot(event.xdata,event.ydata,marker=u\"$\\u2295$\",markersize=8,color='k')\n",
    "    mypos = [event.xdata,event.ydata]\n",
    "    F = calc_force(mypos,0.)\n",
    "    if (vscale == 0.):\n",
    "        vscale = np.linalg.norm(F)\n",
    "    F = F/vscale\n",
    "    k.append(ax.arrow(mypos[0], mypos[1], F[0], F[1], head_width=0.05, head_length=0.1, fc='k', ec='k'))\n",
    "    fig.canvas.draw()\n",
    "    \n",
    "def calc_force(pp,t):\n",
    "    x=pp[0]\n",
    "    y=pp[1]\n",
    "    ex = 0\n",
    "    ey = 0 \n",
    "    for i in range(s_q.shape[0]):\n",
    "        r1 = ((x-s_pos[i,0])**2+(y-s_pos[i,1])**2)**.5\n",
    "        ex += s_q[i]*(x-s_pos[i,0])/r1**3\n",
    "        ey += s_q[i]*(y-s_pos[i,1])/r1**3\n",
    "    return [ex,ey]\n",
    "\n",
    "\n",
    "def movepsource(event):\n",
    "    global k, ax, mypos, s_pos, s_q, p, w\n",
    "    \n",
    "    nx = mypos[0]\n",
    "    ny = mypos[1]\n",
    "    dt = 0.03\n",
    "    if k !=[]:\n",
    "        y=odeint(calc_force,[nx, ny],np.linspace(0.,10.,100))\n",
    "        \n",
    "        for i in range(len(y)):\n",
    "            l=plt.plot(y[i,0],y[i,1],'o')\n",
    "            fig.canvas.draw()\n",
    "            time.sleep(.005)\n",
    "            ax.lines.remove(l[0])\n",
    "            \n",
    "              \n",
    "def plotall(nv):\n",
    "    global fig, ax, s_pos, s_q, k, vscale\n",
    "    k = []\n",
    "    vscale = 0.\n",
    "    ex = np.zeros((p,p))\n",
    "    ey = np.zeros((p,p))\n",
    "    phi = np.zeros((p,p))\n",
    "    yy, xx = np.mgrid[-w:w:p*1j, -w:w:p*1j]\n",
    "    \n",
    "    \n",
    "    if tab.selected_index==0:\n",
    "        s_q = np.array([float(w_strength1.value)])\n",
    "        x_pos = np.zeros(1)\n",
    "        y_pos = np.zeros(1)\n",
    "        s_pos = np.transpose([x_pos,y_pos])\n",
    "        N=1\n",
    "    if tab.selected_index==1:\n",
    "        s_q = np.array([float(w_strength1.value),float(w_strength2.value)])\n",
    "        x_pos = np.array([0.,0.])\n",
    "        y_pos = np.array([w_distance.value/2.,-w_distance.value/2.])\n",
    "        s_pos = np.transpose([x_pos,y_pos])\n",
    "        N=2       \n",
    "    if tab.selected_index==2:\n",
    "        #two lines \n",
    "        N = int(w_nsources.value) #number or source per line\n",
    "        d = w_distance.value #distance between the lines\n",
    "        if (N == 1):\n",
    "            x_pos = np.array([0.])\n",
    "        else:\n",
    "            x_pos = np.linspace(-2.,2,N)\n",
    "        x_pos = np.append(x_pos,x_pos)         \n",
    "        y_pos = d/2.*np.ones(N)\n",
    "        y_pos = np.append(y_pos,-y_pos)\n",
    "        s_pos = np.transpose([x_pos,y_pos])\n",
    "        s_q = np.append(np.ones(N),-np.ones(N))\n",
    "        N=N*2\n",
    "    if tab.selected_index==3:\n",
    "        aphi=np.linspace(0.,np.pi*2.,100,endpoint=False)\n",
    "        s_q = np.ones(100)\n",
    "        x_pos = 1.*np.cos(aphi)\n",
    "        y_pos = 1.*np.sin(aphi)\n",
    "        s_pos = np.transpose([x_pos,y_pos])\n",
    "        N=100       \n",
    "\n",
    "        \n",
    "    #calculate electric field\n",
    "    for i in range(np.size(s_q)):\n",
    "        r1 = ((xx-s_pos[i,0])**2+(yy-s_pos[i,1])**2)**.5\n",
    "        ex += s_q[i]*(xx-s_pos[i,0])/r1**3\n",
    "        ey += s_q[i]*(yy-s_pos[i,1])/r1**3\n",
    "        phi += s_q[i]/r1\n",
    "   \n",
    "\n",
    "    #electric field strength    \n",
    "    eabs = np.sqrt(ex*ex + ey*ey)\n",
    "    \n",
    "    ax.clear()\n",
    "    if w_fieldlines.value:\n",
    "        ax.streamplot(xx, yy, ex, ey, density=[1.2, 1.2],color=np.log(eabs), linewidth=1, cmap='autumn')\n",
    "    \n",
    "    if w_sources.value:\n",
    "        for i in range(N):\n",
    "            if s_q[i] > 0:\n",
    "                ax.plot(x_pos[i],y_pos[i],marker=u\"$\\u2295$\",markersize=12,color='k')\n",
    "            if s_q[i] < 0:\n",
    "                ax.plot(x_pos[i],y_pos[i],marker=u\"$\\u2296$\",markersize=12,color='k')\n",
    "    \n",
    "    if w_potential.value:\n",
    "        ax.contour(xx,yy,phi,np.linspace(-2*N,2*N,10), linewidths = 2, cmap='RdBu_r')\n",
    "        ax.contour(xx,yy,phi,np.linspace(-2*N,2*N,10), linewidths = .3, colors='k')\n",
    "    \n",
    "    if w_arrows.value:\n",
    "        lv= np.where((ex**2+ey**2)>5)\n",
    "        ex[lv]=0.\n",
    "        ey[lv]=0.\n",
    "        ax.quiver(xx[::5,::5], yy[::5,::5], ex[::5,::5], ey[::5,::5])\n",
    "\n",
    "    plt.axes().set_aspect('equal')\n",
    "    plt.xlabel('$x$',fontsize=15)\n",
    "    plt.ylabel('$y$',fontsize=15)\n",
    "    fig.canvas.draw()\n",
    "    \n",
    "w_run = widgets.Button(description='Berechne Feld!')\n",
    "w_movepsource = widgets.Button(description='Bewege Probenladung')\n",
    "w_strength1 = widgets.IntSlider(min=-3,max=3, value=1,description=\"Ladung 1\")\n",
    "w_strength2 = widgets.IntSlider(min=-3,max=3, value=1,description=\"Ladung 2\")\n",
    "w_nsources = widgets.IntSlider(min=1,max=50.,value=1,description='Sources')\n",
    "w_distance = widgets.FloatSlider(min=.1,max=4.,value=1.,description='Distance')\n",
    "w_arrows = widgets.Checkbox(description='Feldvektoren',margin=10,value=True)\n",
    "w_fieldlines = widgets.Checkbox(description='Feldlinien',margin=10,value=False)\n",
    "w_potential = widgets.Checkbox(description='Potential',margin=10,value=False)\n",
    "w_sources = widgets.Checkbox(description='Quellen',margin=10,value=True)\n",
    "w_checks=widgets.HBox([w_arrows, w_fieldlines, w_potential, w_sources])\n",
    "w_sliders=widgets.HBox([w_distance, w_nsources])\n",
    "w_2charges=widgets.VBox([widgets.HBox([w_strength1, w_strength2]),w_distance])\n",
    "config_tabs = ['Einzelladung', 'Zwei Ladungen', 'Dipol/Kondensator', 'Hohlkreis']\n",
    "\n",
    "children = [w_strength1, w_2charges, w_sliders, w_sliders]\n",
    "tab = widgets.Tab()\n",
    "tab.children = children\n",
    "for i in range(len(children)):\n",
    "    tab.set_title(i, config_tabs[i])\n",
    "\n",
    "\n",
    "w_run.on_click(plotall)\n",
    "w_movepsource.on_click(movepsource)\n",
    "\n",
    "\n",
    "\n",
    "display.display(tab)\n",
    "display.display(w_run)\n",
    "display.display(w_checks)\n",
    "#display.display(w_movepsource)\n",
    "\n",
    "\n",
    "fig.canvas.mpl_connect('button_press_event', onclick)\n",
    "\n",
    "plotall(1);"
   ]
  },
  {
   "cell_type": "code",
   "execution_count": 18,
   "metadata": {
    "collapsed": true
   },
   "outputs": [],
   "source": [
    "    global fig, ax, s_pos, s_q, k, vscale\n",
    "    k = []\n",
    "    vscale = 0.\n",
    "    ex = np.zeros((p,p))\n",
    "    ey = np.zeros((p,p))\n",
    "    phi = np.zeros((p,p))\n",
    "    yy, xx = np.mgrid[-w:w:p*1j, -w:w:p*1j]\n",
    "    \n",
    "    #two lines \n",
    "    N = int(w_nsources.value) #number or source per line\n",
    "    d = w_distance.value #distance between the lines\n",
    "\n",
    "    if (N == 1):\n",
    "        x_pos = np.array([0.])\n",
    "    else:\n",
    "        x_pos = np.linspace(-2.,2,N)\n",
    "\n",
    "    x_pos = np.append(x_pos,x_pos)         \n",
    "    y_pos = d/2.*np.ones(N)\n",
    "    y_pos = np.append(y_pos,-y_pos)\n",
    "    s_pos = np.transpose([x_pos,y_pos])\n",
    "    s_q = np.append(np.ones(N),-np.ones(N))\n",
    "\n",
    "    #calculate electric field\n",
    "    for i in range(s_q.shape[0]):\n",
    "        r1 = ((xx-s_pos[i,0])**2+(yy-s_pos[i,1])**2)**.5\n",
    "        ex += s_q[i]*(xx-s_pos[i,0])/r1**3\n",
    "        ey += s_q[i]*(yy-s_pos[i,1])/r1**3\n",
    "        phi += s_q[i]/r1\n",
    "\n"
   ]
  },
  {
   "cell_type": "code",
   "execution_count": 88,
   "metadata": {},
   "outputs": [
    {
     "ename": "IndexError",
     "evalue": "too many indices for array",
     "output_type": "error",
     "traceback": [
      "\u001b[0;31m---------------------------------------------------------------------------\u001b[0m",
      "\u001b[0;31mIndexError\u001b[0m                                Traceback (most recent call last)",
      "\u001b[0;32m<ipython-input-88-164a84f787bf>\u001b[0m in \u001b[0;36m<module>\u001b[0;34m()\u001b[0m\n\u001b[1;32m      1\u001b[0m \u001b[0;32mfor\u001b[0m \u001b[0mi\u001b[0m \u001b[0;32min\u001b[0m \u001b[0mrange\u001b[0m\u001b[0;34m(\u001b[0m\u001b[0mnp\u001b[0m\u001b[0;34m.\u001b[0m\u001b[0msize\u001b[0m\u001b[0;34m(\u001b[0m\u001b[0ms_q\u001b[0m\u001b[0;34m)\u001b[0m\u001b[0;34m)\u001b[0m\u001b[0;34m:\u001b[0m\u001b[0;34m\u001b[0m\u001b[0m\n\u001b[1;32m      2\u001b[0m     \u001b[0mr1\u001b[0m \u001b[0;34m=\u001b[0m \u001b[0;34m(\u001b[0m\u001b[0;34m(\u001b[0m\u001b[0mxx\u001b[0m\u001b[0;34m-\u001b[0m\u001b[0ms_pos\u001b[0m\u001b[0;34m[\u001b[0m\u001b[0mi\u001b[0m\u001b[0;34m,\u001b[0m\u001b[0;36m0\u001b[0m\u001b[0;34m]\u001b[0m\u001b[0;34m)\u001b[0m\u001b[0;34m**\u001b[0m\u001b[0;36m2\u001b[0m\u001b[0;34m+\u001b[0m\u001b[0;34m(\u001b[0m\u001b[0myy\u001b[0m\u001b[0;34m-\u001b[0m\u001b[0ms_pos\u001b[0m\u001b[0;34m[\u001b[0m\u001b[0mi\u001b[0m\u001b[0;34m,\u001b[0m\u001b[0;36m1\u001b[0m\u001b[0;34m]\u001b[0m\u001b[0;34m)\u001b[0m\u001b[0;34m**\u001b[0m\u001b[0;36m2\u001b[0m\u001b[0;34m)\u001b[0m\u001b[0;34m**\u001b[0m\u001b[0;36m.5\u001b[0m\u001b[0;34m\u001b[0m\u001b[0m\n\u001b[0;32m----> 3\u001b[0;31m     \u001b[0mex\u001b[0m \u001b[0;34m+=\u001b[0m \u001b[0ms_q\u001b[0m\u001b[0;34m[\u001b[0m\u001b[0mi\u001b[0m\u001b[0;34m]\u001b[0m\u001b[0;34m*\u001b[0m\u001b[0;34m(\u001b[0m\u001b[0mxx\u001b[0m\u001b[0;34m-\u001b[0m\u001b[0ms_pos\u001b[0m\u001b[0;34m[\u001b[0m\u001b[0mi\u001b[0m\u001b[0;34m,\u001b[0m\u001b[0;36m0\u001b[0m\u001b[0;34m]\u001b[0m\u001b[0;34m)\u001b[0m\u001b[0;34m/\u001b[0m\u001b[0mr1\u001b[0m\u001b[0;34m**\u001b[0m\u001b[0;36m3\u001b[0m\u001b[0;34m\u001b[0m\u001b[0m\n\u001b[0m\u001b[1;32m      4\u001b[0m     \u001b[0mey\u001b[0m \u001b[0;34m+=\u001b[0m \u001b[0ms_q\u001b[0m\u001b[0;34m[\u001b[0m\u001b[0mi\u001b[0m\u001b[0;34m]\u001b[0m\u001b[0;34m*\u001b[0m\u001b[0;34m(\u001b[0m\u001b[0myy\u001b[0m\u001b[0;34m-\u001b[0m\u001b[0ms_pos\u001b[0m\u001b[0;34m[\u001b[0m\u001b[0mi\u001b[0m\u001b[0;34m,\u001b[0m\u001b[0;36m1\u001b[0m\u001b[0;34m]\u001b[0m\u001b[0;34m)\u001b[0m\u001b[0;34m/\u001b[0m\u001b[0mr1\u001b[0m\u001b[0;34m**\u001b[0m\u001b[0;36m3\u001b[0m\u001b[0;34m\u001b[0m\u001b[0m\n\u001b[1;32m      5\u001b[0m     \u001b[0mphi\u001b[0m \u001b[0;34m+=\u001b[0m \u001b[0ms_q\u001b[0m\u001b[0;34m[\u001b[0m\u001b[0mi\u001b[0m\u001b[0;34m]\u001b[0m\u001b[0;34m/\u001b[0m\u001b[0mr1\u001b[0m\u001b[0;34m\u001b[0m\u001b[0m\n",
      "\u001b[0;31mIndexError\u001b[0m: too many indices for array"
     ]
    }
   ],
   "source": [
    "for i in range(np.size(s_q)):\n",
    "    r1 = ((xx-s_pos[i,0])**2+(yy-s_pos[i,1])**2)**.5\n",
    "    ex += s_q[i]*(xx-s_pos[i,0])/r1**3\n",
    "    ey += s_q[i]*(yy-s_pos[i,1])/r1**3\n",
    "    phi += s_q[i]/r1"
   ]
  },
  {
   "cell_type": "code",
   "execution_count": 104,
   "metadata": {
    "hide_input": false
   },
   "outputs": [
    {
     "data": {
      "text/plain": [
       "1"
      ]
     },
     "execution_count": 104,
     "metadata": {},
     "output_type": "execute_result"
    }
   ],
   "source": [
    "N"
   ]
  },
  {
   "cell_type": "code",
   "execution_count": 55,
   "metadata": {
    "collapsed": true
   },
   "outputs": [],
   "source": [
    "n=np.array([1,2,3,4])"
   ]
  },
  {
   "cell_type": "code",
   "execution_count": 6,
   "metadata": {},
   "outputs": [
    {
     "ename": "AttributeError",
     "evalue": "'function' object has no attribute 'remove'",
     "output_type": "error",
     "traceback": [
      "\u001b[0;31m---------------------------------------------------------------------------\u001b[0m",
      "\u001b[0;31mAttributeError\u001b[0m                            Traceback (most recent call last)",
      "\u001b[0;32m<ipython-input-6-e08e626aecce>\u001b[0m in \u001b[0;36m<module>\u001b[0;34m()\u001b[0m\n\u001b[0;32m----> 1\u001b[0;31m \u001b[0max\u001b[0m\u001b[0;34m.\u001b[0m\u001b[0marrow\u001b[0m\u001b[0;34m.\u001b[0m\u001b[0mremove\u001b[0m\u001b[0;34m\u001b[0m\u001b[0m\n\u001b[0m",
      "\u001b[0;31mAttributeError\u001b[0m: 'function' object has no attribute 'remove'"
     ]
    }
   ],
   "source": [
    "ax.arrow.remove"
   ]
  },
  {
   "cell_type": "code",
   "execution_count": 67,
   "metadata": {},
   "outputs": [
    {
     "data": {
      "text/plain": [
       "-2.1485887096774192"
      ]
     },
     "execution_count": 67,
     "metadata": {},
     "output_type": "execute_result"
    }
   ],
   "source": [
    "mypos[-1][0]"
   ]
  },
  {
   "cell_type": "code",
   "execution_count": 76,
   "metadata": {},
   "outputs": [
    {
     "ename": "NameError",
     "evalue": "name 'ex' is not defined",
     "output_type": "error",
     "traceback": [
      "\u001b[0;31m---------------------------------------------------------------------------\u001b[0m",
      "\u001b[0;31mNameError\u001b[0m                                 Traceback (most recent call last)",
      "\u001b[0;32m<ipython-input-76-cdf2c94bcc52>\u001b[0m in \u001b[0;36m<module>\u001b[0;34m()\u001b[0m\n\u001b[0;32m----> 1\u001b[0;31m \u001b[0mex\u001b[0m\u001b[0;34m\u001b[0m\u001b[0m\n\u001b[0m",
      "\u001b[0;31mNameError\u001b[0m: name 'ex' is not defined"
     ]
    }
   ],
   "source": [
    "ex"
   ]
  },
  {
   "cell_type": "code",
   "execution_count": null,
   "metadata": {
    "collapsed": true
   },
   "outputs": [],
   "source": []
  }
 ],
 "metadata": {
  "kernelspec": {
   "display_name": "Python 2",
   "language": "python",
   "name": "python2"
  },
  "language_info": {
   "codemirror_mode": {
    "name": "ipython",
    "version": 2
   },
   "file_extension": ".py",
   "mimetype": "text/x-python",
   "name": "python",
   "nbconvert_exporter": "python",
   "pygments_lexer": "ipython2",
   "version": "2.7.13"
  },
  "widgets": {
   "state": {
    "00c753f58e7c4eaf8e72f9d17fa8604f": {
     "views": [
      {
       "cell_index": 0
      }
     ]
    },
    "029134c0f70148c8a51f730c301550f5": {
     "views": [
      {
       "cell_index": 0
      }
     ]
    },
    "07bcd379826546cca3727a7ff2e79227": {
     "views": [
      {
       "cell_index": 0
      }
     ]
    },
    "1126fe7ef9f84548861db0b7dbd15c3b": {
     "views": [
      {
       "cell_index": 0
      }
     ]
    },
    "13dccf4487b34432be7183120d51c87f": {
     "views": [
      {
       "cell_index": 0
      }
     ]
    },
    "1d8e463376264f5e89ac338cc6e91ca2": {
     "views": [
      {
       "cell_index": 0
      }
     ]
    },
    "23ddaa4d9f234017bae31a6a8e5f67c4": {
     "views": [
      {
       "cell_index": 0
      }
     ]
    },
    "275e308878f44b44ae558bf366a66afd": {
     "views": [
      {
       "cell_index": 0
      }
     ]
    },
    "2d79c99adb254e68bb6a67ecf1cb8f16": {
     "views": [
      {
       "cell_index": 0
      }
     ]
    },
    "2e7e5d99c5d7475196e59ea208f0b5e3": {
     "views": [
      {
       "cell_index": 0
      }
     ]
    },
    "30fb5aee993c4029a31382f035fe4936": {
     "views": [
      {
       "cell_index": 0
      }
     ]
    },
    "3bea4c157c2b45cd875e4f5c69a0aeb9": {
     "views": [
      {
       "cell_index": 0
      }
     ]
    },
    "3c8851d335ec4186adc10f52e51b3a2b": {
     "views": [
      {
       "cell_index": 0
      }
     ]
    },
    "3d0ad17fb9c14b0284ca354c04e12901": {
     "views": [
      {
       "cell_index": 0
      }
     ]
    },
    "408330373f1e4947b8627e603b569a9b": {
     "views": [
      {
       "cell_index": 0
      }
     ]
    },
    "4122a5a6c9ee488dad349a6a7459e42b": {
     "views": [
      {
       "cell_index": 0
      }
     ]
    },
    "43831c686c8347f98a211c959d7a0a3b": {
     "views": [
      {
       "cell_index": 0
      }
     ]
    },
    "4514b6fd3bad4e2aa32f15c9872a8f0a": {
     "views": [
      {
       "cell_index": 0
      }
     ]
    },
    "4ff8387adcb841b58cd17a37124dc0cd": {
     "views": [
      {
       "cell_index": 0
      }
     ]
    },
    "51a5ccad3d9444f68143d0cb75bff153": {
     "views": [
      {
       "cell_index": 0
      }
     ]
    },
    "55c80aaae27748158ddfdf11bd627a02": {
     "views": [
      {
       "cell_index": 0
      }
     ]
    },
    "55eecaf36a874aa28eaa80d70ade1873": {
     "views": [
      {
       "cell_index": 0
      }
     ]
    },
    "5a04993615864313bc383e8f13b505f5": {
     "views": [
      {
       "cell_index": 0
      }
     ]
    },
    "5b659e122d974b2cb011d8901b1c871b": {
     "views": [
      {
       "cell_index": 0
      }
     ]
    },
    "5c714c0ecd1f45d6af029dd6ee94e076": {
     "views": [
      {
       "cell_index": 0
      }
     ]
    },
    "687d33b0a06d4657933d25efdc335391": {
     "views": [
      {
       "cell_index": 0
      }
     ]
    },
    "6b9e4abbc53c49028f950982c5ca8ac1": {
     "views": [
      {
       "cell_index": 0
      }
     ]
    },
    "6d64a6aef3d04bf0a3cefc9828d027c2": {
     "views": [
      {
       "cell_index": 0
      }
     ]
    },
    "6e2218ca44c04c7c9e00a068ebab13c5": {
     "views": [
      {
       "cell_index": 0
      }
     ]
    },
    "70e0e5545aa54a3d81937262ceccbe7c": {
     "views": [
      {
       "cell_index": 0
      }
     ]
    },
    "71b8f12613d04034bba17655d579847a": {
     "views": [
      {
       "cell_index": 0
      }
     ]
    },
    "72cde69610a544a9a9fe5174bcd5738f": {
     "views": [
      {
       "cell_index": 0
      }
     ]
    },
    "72e67607899b4795817f735ecbb7efb3": {
     "views": [
      {
       "cell_index": 0
      }
     ]
    },
    "7445362ac6154c98875442c1f6ab2729": {
     "views": [
      {
       "cell_index": 0
      }
     ]
    },
    "7556579d69014bc6965bc88e797914be": {
     "views": [
      {
       "cell_index": 0
      }
     ]
    },
    "7a57c060f6af49a38b93f7a6737bdf4c": {
     "views": [
      {
       "cell_index": 0
      }
     ]
    },
    "7dee2b33f8e942d18b9bc514762340fe": {
     "views": [
      {
       "cell_index": 0
      }
     ]
    },
    "7fbdeb6341dc4af5aeab22cd4d562b61": {
     "views": [
      {
       "cell_index": 0
      }
     ]
    },
    "844b868c51fa4d5291f813fe52a2c89e": {
     "views": [
      {
       "cell_index": 0
      }
     ]
    },
    "85bd8399d13b40d3a8194ead87ad1883": {
     "views": [
      {
       "cell_index": 0
      }
     ]
    },
    "87311d77b8b54b1ca13ec2e5ee2cadef": {
     "views": [
      {
       "cell_index": 0
      }
     ]
    },
    "878cb0588b584742a73d532a3f30acbd": {
     "views": [
      {
       "cell_index": 0
      }
     ]
    },
    "8a84675ac0634d5d9147cd301b855bf6": {
     "views": [
      {
       "cell_index": 0
      }
     ]
    },
    "8af631468e1a4a35ac7ada3c188c2e75": {
     "views": [
      {
       "cell_index": 0
      }
     ]
    },
    "8ee8e146b626467d9a67dff5537b92cb": {
     "views": [
      {
       "cell_index": 0
      }
     ]
    },
    "9042b8a422e7436a8e35fc9147e7ccfb": {
     "views": [
      {
       "cell_index": 0
      }
     ]
    },
    "934b9c45ab8a40ba8df15c2aa0241dbf": {
     "views": [
      {
       "cell_index": 0
      }
     ]
    },
    "a3cea944183e425f992857de636acc30": {
     "views": [
      {
       "cell_index": 0
      }
     ]
    },
    "a4addebe70954ab7aa0f3d846af9d708": {
     "views": [
      {
       "cell_index": 0
      }
     ]
    },
    "a7ffec951ee34099b762a56f448f64b7": {
     "views": [
      {
       "cell_index": 0
      }
     ]
    },
    "b10305267f134889bc7854cc224d469d": {
     "views": [
      {
       "cell_index": 0
      }
     ]
    },
    "b3311fbfd6cc4ab0acf6dbe93076f724": {
     "views": [
      {
       "cell_index": 0
      }
     ]
    },
    "b7569a38ec9e45f4b7b566bdd783caa2": {
     "views": [
      {
       "cell_index": 0
      }
     ]
    },
    "b90d160dd4904d2492eea134d5227cc9": {
     "views": [
      {
       "cell_index": 0
      }
     ]
    },
    "bc5d7592300c402b960c387de8ee1204": {
     "views": [
      {
       "cell_index": 0
      }
     ]
    },
    "bd07527f2ed845b080aa91326b5371b1": {
     "views": [
      {
       "cell_index": 0
      }
     ]
    },
    "c141972b9d72412eba5fa6410ed61680": {
     "views": [
      {
       "cell_index": 0
      }
     ]
    },
    "c24cbb726f6642a1bedfbe1be6963d26": {
     "views": [
      {
       "cell_index": 0
      }
     ]
    },
    "c3b3e1f44d2c455bbe972dda3fdafa33": {
     "views": [
      {
       "cell_index": 0
      }
     ]
    },
    "ca4a3d2fea47404cb60bc7a366279267": {
     "views": [
      {
       "cell_index": 0
      }
     ]
    },
    "cbd2fc101aeb4cf1b05e033ca154a99b": {
     "views": [
      {
       "cell_index": 0
      }
     ]
    },
    "cd0b2906f0ea45128f1b92f840dac24b": {
     "views": [
      {
       "cell_index": 0
      }
     ]
    },
    "da7632d944494ffe813c5ffda6b7af99": {
     "views": [
      {
       "cell_index": 0
      }
     ]
    },
    "db2e09875a7c4c45a83e3b9dff315add": {
     "views": [
      {
       "cell_index": 0
      }
     ]
    },
    "dd8972e67a7b479c8fbf26ffba5817da": {
     "views": [
      {
       "cell_index": 0
      }
     ]
    },
    "e2fe150675474a40be3e724659699ee4": {
     "views": [
      {
       "cell_index": 0
      }
     ]
    },
    "e8eb0d080824487f80d4e8a79d94cdc9": {
     "views": [
      {
       "cell_index": 0
      }
     ]
    },
    "ea5a351a7845403ca81dbc47c2ba0105": {
     "views": [
      {
       "cell_index": 0
      }
     ]
    },
    "ec530df1fc3f4cdabb5ef911efed8465": {
     "views": [
      {
       "cell_index": 0
      }
     ]
    },
    "ed4ba3a6c1284df1b7f46294d3d27c68": {
     "views": [
      {
       "cell_index": 0
      }
     ]
    },
    "f088c895f0944d418626adc2b61fc82c": {
     "views": [
      {
       "cell_index": 0
      }
     ]
    },
    "f1cd1c82ebb441798a05a0d398031107": {
     "views": [
      {
       "cell_index": 0
      }
     ]
    },
    "f54c174649c1440782d502da4ca52f5a": {
     "views": [
      {
       "cell_index": 0
      }
     ]
    },
    "fc998dd1865b4b689e2606c0d415002a": {
     "views": [
      {
       "cell_index": 0
      }
     ]
    },
    "fe126d1d44c54d32bdfb4226fc19ae6e": {
     "views": [
      {
       "cell_index": 0
      }
     ]
    },
    "fe659e6c20b34617a5f269c8b75b3fb1": {
     "views": [
      {
       "cell_index": 0
      }
     ]
    }
   },
   "version": "1.2.0"
  }
 },
 "nbformat": 4,
 "nbformat_minor": 2
}
