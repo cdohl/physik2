{
 "cells": [
  {
   "cell_type": "markdown",
   "metadata": {},
   "source": [
    "### 20.3 Ein- und Ausschalten von Strömen und Spannungen\n",
    "\n",
    "\n",
    "Eine Spule hat neben seiner Induktivität $L$ auch einen Widerstand $R$. Das Ersatzschaltbild einer Spule besteht daher aus einer Reihenschaltung von einem Widerstand und der Spule. Zum Berechnen der Ströme und Spannungen wenden wir die Maschenregel (Kirchhoffsche Gesetz) für den LR-Schaltkreis an.\n",
    "\n",
    "<img src=\"figures/20.2_1.png\" alt=\"20.2_1\" style=\"width: 250px;\"/>   \n",
    "\n",
    "Die Richtung des Potentials and der Batterie $U_0$ ist entgegen dem Umlaufsinn in der Abbildung. Weiterhin wirkt die induzierte Spannung entgegen dem Strom (Lenz'sche Regel), d.h. beim Einschalten fließt zum Zeitpunkt $t=0$ kein Strom durch die Spule und damit auch durch keine anderen Bauteile.\n",
    "\n",
    "$$\\sum{U_k}=-U_0+U_R-U_{ind}=0$$\n",
    "\n",
    "Eingesetzt ergibt sich für $t\\ge0$:\n",
    "\n",
    "$$R\\,I + L\\frac{\\mathrm{d}I}{\\mathrm{d}t}=U_0\\tag{20.3.1}$$\n",
    "\n",
    "Diese Differentialgleichung kann durch Umstellen und Integrieren gelöst werden:\n",
    "\n",
    "$$\\int_{I=0}^I \\frac{\\mathrm{d}I'}{U_0 - I R}=\\int_0^t\\frac{\\mathrm{d}t'}{L}$$\n",
    "\n",
    "$$-\\frac{1}{R}\\ln\\left(\\frac{U_0-I(t)\\,R}{U_0}\\right)=\\frac{1}{L}$$\n",
    "\n",
    "und nach $I$ aufgelöst:\n",
    "\n",
    "$$I(t)=\\frac{U_0}{R}\\left(1-e^{-t/\\tau}\\right)\\quad,$$\n",
    "wobei $\\tau=L/R$ die Zeitkonstante des $LR$-Schaltkreises ist.\n",
    "\n",
    "Der Ausschaltvorgang zum Zeitpunkt $t=0$ kann auch mit dem Ansatz aus Gleichung (20.3.1) gelöst werden. Dann wird in Gl. (20.3.1) die Spannung $U_0=0$:\n",
    "\n",
    "$$R\\,I + L\\frac{\\mathrm{d}I}{\\mathrm{d}t}=0$$\n",
    "\n",
    "und wir erhalten\n",
    "\n",
    "$$\\int_{I_0}^I \\frac{\\mathrm{d}I'}{I}=-\\int_0^t\\frac{R}{L}\\mathrm{d}t'\\quad .$$\n",
    "\n",
    "und integriert\n",
    "\n",
    "$$\\ln \\frac{I(t)}{I_0} = - \\frac{R}{L} t$$\n",
    "\n",
    "oder\n",
    "\n",
    "$$I(t)=I_0\\,e^{-t/\\tau}\\quad .$$"
   ]
  }
 ],
 "metadata": {
  "kernelspec": {
   "display_name": "Python [conda env:anaconda2]",
   "language": "python",
   "name": "conda-env-anaconda2-py"
  },
  "language_info": {
   "codemirror_mode": {
    "name": "ipython",
    "version": 2
   },
   "file_extension": ".py",
   "mimetype": "text/x-python",
   "name": "python",
   "nbconvert_exporter": "python",
   "pygments_lexer": "ipython2",
   "version": "2.7.14"
  }
 },
 "nbformat": 4,
 "nbformat_minor": 2
}
