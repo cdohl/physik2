{
 "cells": [
  {
   "cell_type": "markdown",
   "metadata": {},
   "source": [
    "### 19.3 Kräfte des Magnetfeldes auf stromdurchflossene Leiter\n",
    "\n",
    "* Stromstärke\n",
    "  $$I=\\frac{\\mathrm{d}Q}{\\mathrm{d}t}$$\n",
    "  \n",
    "  \n",
    "* postive Stromstärke durch positive Ladungen $Q$ mit der Geschwindigkeit \n",
    "  $$\\vec{v}=\\frac{\\mathrm{d}\\vec{r}}{\\mathrm{d}t}$$\n",
    "  \n",
    "* orientierter Leiter der Länge $l$: $\\vec{l}\\,\\parallel\\,\\vec{v}$\n",
    "\n",
    "<img src=\"figures/19.3_1.png\" alt=\"19.3_1\" style=\"width: 200px;\"/>\n",
    "\n",
    "$$\\vec{F}_L=Q\\,\\left[\\vec{v}\\times\\vec{B}\\right]$$\n",
    "\n",
    "$$\\vec{F}_L=I\\,\\left[\\vec{l}\\times\\vec{B}\\right]$$\n"
   ]
  },
  {
   "cell_type": "markdown",
   "metadata": {},
   "source": [
    "#### Lorentz Schaukel\n",
    "\n"
   ]
  },
  {
   "cell_type": "markdown",
   "metadata": {},
   "source": [
    "#### Drehmoment einer Leiterschleife\n",
    "\n"
   ]
  },
  {
   "cell_type": "code",
   "execution_count": null,
   "metadata": {},
   "outputs": [],
   "source": []
  }
 ],
 "metadata": {
  "kernelspec": {
   "display_name": "Python [default]",
   "language": "python",
   "name": "python2"
  },
  "language_info": {
   "codemirror_mode": {
    "name": "ipython",
    "version": 2
   },
   "file_extension": ".py",
   "mimetype": "text/x-python",
   "name": "python",
   "nbconvert_exporter": "python",
   "pygments_lexer": "ipython2",
   "version": "2.7.14"
  }
 },
 "nbformat": 4,
 "nbformat_minor": 2
}
