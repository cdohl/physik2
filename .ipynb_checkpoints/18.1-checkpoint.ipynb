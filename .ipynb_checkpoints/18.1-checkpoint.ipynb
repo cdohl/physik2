{
 "cells": [
  {
   "cell_type": "markdown",
   "metadata": {},
   "source": [
    "## 18. Der Gleichstromkreis\n",
    "\n",
    "### 18.1 Stromstärke\n",
    "\n",
    "* Die Stromstärke $I$ ist die pro Zeiteinheit $\\mathrm{d}t$ transportierte Ladungsmenge $\\mathrm{d}Q$ durch ein zur Stromrichtung senkrechten Querschnitt:\n",
    "\n",
    "$$I = \\frac{\\mathrm{d}Q}{\\mathrm{d}t}\\quad\\quad[J]=1\\mathsf{A}=1\\mathsf{Ampere}$$\n",
    "\n",
    "* existiert in einem Raumbereich eine elektrische Ladungsmenge\n",
    "\n",
    "⇨ Raumladungsdichte \n",
    "\n",
    "$$\\rho_{el}=\\frac{\\mathrm{d}Q}{\\mathrm{d}V}$$\n",
    "\n",
    "bewegt sich diese Ladungsdichte $\\rho_{el}$ mit einer Geschwindigkeit $\\vec{v}$\n",
    "\n",
    "⇨ dann definiert man als Stromdichte\n",
    "\n",
    "$$\\vec{j}=\\rho_{el}\\cdot \\vec{v}$$\n",
    "\n",
    "* Die elektrische Stromstärke $I$ duch das orientierte Flächenelement $\\mathrm{d}A$ berechent man aus dem Integral der infinitesimalen Stromstärken $\\mathrm{d}I=j\\cdot\\mathrm{d}\\vec{A}$\n",
    "\n",
    "$$I=\\int \\vec{j}\\cdot\\mathrm{d}\\vec{A}= \\frac{\\mathrm{d}Q}{\\mathrm{d}t}$$\n",
    "\n",
    "<img src=\"figures/18.1_1.png\" alt=\"18.1_1\" style=\"width: 200px;\"/>\n",
    "\n",
    "* Einspeisung einer Stromstärke $I$ in einen Draht mit veränderlichem Querschnitt:\n",
    "\n",
    "$$I=\\mathrm{konst.}=j_1 \\cdot A_1=j_2 \\cdot A_2$$\n",
    "\n",
    "* Der Strom $I$, der netto aus einem Volumen herausfließt, ist gleich der Abnahme der umfassten Ladungen.\n",
    "\n",
    "$$ I=\\frac{\\mathrm{d}Q}{\\mathrm{d}t}=-\\frac{\\mathrm{d}Q_{umf}}{\\mathrm{d}t}$$\n",
    "\n",
    "* stationäre Ströme\n",
    "\n",
    "$$ \\oint \\vec{j} \\cdot \\mathrm{d}\\vec{A} = 0 $$\n",
    "\n",
    "⇨ es fließen genauso viele Ladungen hinein wie heraus: Gleichströme"
   ]
  },
  {
   "cell_type": "code",
   "execution_count": null,
   "metadata": {},
   "outputs": [],
   "source": []
  }
 ],
 "metadata": {
  "kernelspec": {
   "display_name": "Python [default]",
   "language": "python",
   "name": "python2"
  },
  "language_info": {
   "codemirror_mode": {
    "name": "ipython",
    "version": 2
   },
   "file_extension": ".py",
   "mimetype": "text/x-python",
   "name": "python",
   "nbconvert_exporter": "python",
   "pygments_lexer": "ipython2",
   "version": "2.7.14"
  }
 },
 "nbformat": 4,
 "nbformat_minor": 2
}
