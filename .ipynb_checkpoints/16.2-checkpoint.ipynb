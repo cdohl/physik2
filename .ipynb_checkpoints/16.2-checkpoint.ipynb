{
 "cells": [
  {
   "cell_type": "markdown",
   "metadata": {},
   "source": [
    "#### 16.2 Kräfte zwischen Ladungen (Coloumbgesetz)\n",
    "\n",
    "* Ladungen mit unterschiedlichen Vorzeichen ziehen sich an, mit gleichen Vorzeichen &#8594; Abstoßung\n",
    "\n",
    "* Zwischen zwei Ladungen $Q_1$ und $Q_2$ nimmt die Kraftwirkung mit dem Abstand ab.\n",
    "\n",
    "* Beschreibung durch das Coloumbgesetz\n",
    "\n",
    "Kraft von Ladung $Q_1$ auf Ladung $Q_2$ ausgeübt. Wenn sich Ladung $Q_1$ im Ursprung befindet.\n",
    "\n",
    "$$\\vec{F}_C=\\frac{1}{4\\pi\\epsilon} \\cdot \\frac{Q_1 \\cdot Q_2}{r^2}\\cdot \\vec{e}_r$$\n",
    "\n",
    "$\\vec{e}_r$ verbindet $Q_1$ mit $Q_2$. Der Vektor auf $Q_2$ ist $\\vec{r}=r\\cdot \\vec{e}_r$.\n"
   ]
  },
  {
   "cell_type": "code",
   "execution_count": null,
   "metadata": {},
   "outputs": [],
   "source": []
  }
 ],
 "metadata": {
  "kernelspec": {
   "display_name": "Python 2",
   "language": "python",
   "name": "python2"
  },
  "language_info": {
   "codemirror_mode": {
    "name": "ipython",
    "version": 2
   },
   "file_extension": ".py",
   "mimetype": "text/x-python",
   "name": "python",
   "nbconvert_exporter": "python",
   "pygments_lexer": "ipython2",
   "version": "2.7.14"
  }
 },
 "nbformat": 4,
 "nbformat_minor": 2
}
