{
 "cells": [
  {
   "cell_type": "markdown",
   "metadata": {},
   "source": [
    "### 24.4 Überlagerung von Schwingungen\n",
    "\n",
    "* ungestörte Superposition ⇨ Addition der Schwingung\n",
    "\n",
    "* Ergebnis hängt von der Frequenz, Amplitude und Phasenverschiebung sowie der Schwingungsrichtung ab\n",
    "\n",
    "#### a) gleiche Richtung, gleiche Frequenz $\\omega_0$\n",
    "\n",
    "\\begin{eqnarray}\n",
    "x_1&=&\\hat{x}_1\\,\\sin(\\omega_0\\,t+\\varphi_1)\\\\\n",
    "x_2&=&\\hat{x}_2\\,\\sin(\\omega_0\\,t+\\varphi_2)\n",
    "\\end{eqnarray}\n",
    "\n",
    "$$x_{ges}=x_1+x_2=\\hat{x}\\,\\sin(\\omega_0\\,t +\\varphi)$$\n",
    "\n",
    "$$\\hat{x}=\\sqrt{\\hat{x}_1^2+\\hat{x}_2^2+2\\hat{x}_1\\hat{x}_2\\cos(\\varphi_1-\\varphi_2)}$$\n",
    "\n",
    "$$\\tan\\varphi=\\frac{\\hat{x}_1\\sin\\varphi_1+\\hat{x}_2\\sin\\varphi_2}{\\hat{x}_1\\cos\\varphi_1+\\hat{x}_2\\cos\\varphi_2}$$"
   ]
  },
  {
   "cell_type": "code",
   "execution_count": 3,
   "metadata": {
    "hide_input": true
   },
   "outputs": [
    {
     "data": {
      "application/vnd.jupyter.widget-view+json": {
       "model_id": "9970fc765f704527bcc45aec8d725966",
       "version_major": 2,
       "version_minor": 0
      },
      "text/html": [
       "<p>Failed to display Jupyter Widget of type <code>interactive</code>.</p>\n",
       "<p>\n",
       "  If you're reading this message in the Jupyter Notebook or JupyterLab Notebook, it may mean\n",
       "  that the widgets JavaScript is still loading. If this message persists, it\n",
       "  likely means that the widgets JavaScript library is either not installed or\n",
       "  not enabled. See the <a href=\"https://ipywidgets.readthedocs.io/en/stable/user_install.html\">Jupyter\n",
       "  Widgets Documentation</a> for setup instructions.\n",
       "</p>\n",
       "<p>\n",
       "  If you're reading this message in another frontend (for example, a static\n",
       "  rendering on GitHub or <a href=\"https://nbviewer.jupyter.org/\">NBViewer</a>),\n",
       "  it may mean that your frontend doesn't currently support widgets.\n",
       "</p>\n"
      ],
      "text/plain": [
       "interactive(children=(FloatSlider(value=1.0, description=u'x1', max=1.5), FloatSlider(value=1.0, description=u'x2', max=1.5), FloatSlider(value=0.0, description=u'phi1', max=3.141592653589793), FloatSlider(value=1.0471975511965976, description=u'phi2', max=3.141592653589793), Output()), _dom_classes=('widget-interact',))"
      ]
     },
     "metadata": {},
     "output_type": "display_data"
    }
   ],
   "source": [
    "%matplotlib inline\n",
    "from ipywidgets import *\n",
    "import numpy as np\n",
    "import matplotlib.pyplot as plt\n",
    "\n",
    "t = np.linspace(0, 8 * np.pi,500)\n",
    "omega0=1.\n",
    "T0=2.*np.pi/omega0\n",
    "\n",
    "def update(x1=1., x2=1., phi1=0., phi2=np.pi/3.):\n",
    "    fig = plt.figure(figsize=(7,4))\n",
    "    x1t=x1*np.sin(omega0*t+phi1)\n",
    "    x2t=x2*np.sin(omega0*t+phi2)\n",
    "    #in obiger Zeile braucht es +0j damit die Potenz von einer komplexen Zahl berechnet wird\n",
    "    plt.plot(t/T0,x1t,'r',t/T0,x2t,'g',t/T0,x1t+x2t,'k')\n",
    "    plt.ylim(-3.,3.)\n",
    "    plt.xlabel(r'$t/T_0$',fontsize=15)\n",
    "    plt.ylabel('Amplitude',fontsize=15)\n",
    "    plt.show()\n",
    "\n",
    "interact(update,x1=(0.,1.5), x2=(0.,1.5), phi1=(.0,np.pi), phi2=(.0,np.pi));"
   ]
  },
  {
   "cell_type": "markdown",
   "metadata": {},
   "source": [
    "⇨ maximale Verstärkung für $\\varphi_1 - \\varphi_2 = 0$\n",
    "\n",
    "⇨ vollständige Auslöschung für $\\varphi_1 - \\varphi_2 = \\pi$ und $\\hat{x_1}=\\hat{x_2}$\n"
   ]
  },
  {
   "cell_type": "markdown",
   "metadata": {},
   "source": [
    "#### b) gleiche Richtung, unterschiedliche Frequenz \n",
    "\n",
    "\\begin{eqnarray}\n",
    "x_1&=&\\hat{x}_1\\,\\sin(\\omega_1\\,t)\\\\\n",
    "x_2&=&\\hat{x}_2\\,\\sin(\\omega_2\\,t)\n",
    "\\end{eqnarray}\n",
    "\n",
    "mit $\\omega_1 \\ne \\omega_2$.\n",
    "\n",
    "Spezialfall $\\hat{x}_1=\\hat{x}_2$:\n",
    "\n",
    "\\begin{eqnarray}\n",
    "x_{ges}&=&x_1+x_2\\\\\n",
    "&=&2\\,\\hat{x}\\,\\cos \\left( \\frac{\\omega_1-\\omega_2}{2}\\,t\\right)\\,\\sin \\left( \\frac{\\omega_1+\\omega_2}{2}\\,t\\right)\n",
    "\\end{eqnarray}\n",
    "\n",
    "mit $\\Delta \\omega=\\frac{\\omega_1-\\omega_2}{2}$ und $\\bar{\\omega}=\\frac{\\omega_1+\\omega_2}{2}$\n",
    "\n",
    "$$x_{ges}=2\\,\\hat{x} \\,\\underbrace{\\cos \\left( \\Delta \\omega\\,t\\right)}_\\mbox{langsam oszillierend}\\,\\overbrace{\\sin \\left( \\bar{\\omega}\\,t\\right)}^\\mbox{schnell oszillierend}$$"
   ]
  },
  {
   "cell_type": "code",
   "execution_count": 28,
   "metadata": {
    "hide_input": true
   },
   "outputs": [
    {
     "data": {
      "application/vnd.jupyter.widget-view+json": {
       "model_id": "403a43b13e6242b7b1d03e42198c7590",
       "version_major": 2,
       "version_minor": 0
      },
      "text/html": [
       "<p>Failed to display Jupyter Widget of type <code>interactive</code>.</p>\n",
       "<p>\n",
       "  If you're reading this message in the Jupyter Notebook or JupyterLab Notebook, it may mean\n",
       "  that the widgets JavaScript is still loading. If this message persists, it\n",
       "  likely means that the widgets JavaScript library is either not installed or\n",
       "  not enabled. See the <a href=\"https://ipywidgets.readthedocs.io/en/stable/user_install.html\">Jupyter\n",
       "  Widgets Documentation</a> for setup instructions.\n",
       "</p>\n",
       "<p>\n",
       "  If you're reading this message in another frontend (for example, a static\n",
       "  rendering on GitHub or <a href=\"https://nbviewer.jupyter.org/\">NBViewer</a>),\n",
       "  it may mean that your frontend doesn't currently support widgets.\n",
       "</p>\n"
      ],
      "text/plain": [
       "interactive(children=(FloatSlider(value=2.5, description=u'omega1', max=5.0, min=1.0), FloatSlider(value=3.0, description=u'omega2', max=5.0, min=1.0), Output()), _dom_classes=('widget-interact',))"
      ]
     },
     "metadata": {},
     "output_type": "display_data"
    }
   ],
   "source": [
    "%matplotlib inline\n",
    "from ipywidgets import *\n",
    "import numpy as np\n",
    "import matplotlib.pyplot as plt\n",
    "\n",
    "t = np.linspace(0, 10. * np.pi,500)\n",
    "xa=1.\n",
    "\n",
    "def update(omega1=2.5,omega2=3.0):\n",
    "    if (omega1!=omega2):\n",
    "        Ts=np.abs(np.pi*2./(omega1-omega2))\n",
    "        fig = plt.figure(figsize=(7,4))\n",
    "        x1t=xa*np.sin(omega1*t)\n",
    "        x2t=xa*np.sin(omega2*t)\n",
    "        xslow=2.*xa*np.cos((omega1-omega2)/2.*t)\n",
    "        #in obiger Zeile braucht es +0j damit die Potenz von einer komplexen Zahl berechnet wird\n",
    "        plt.plot(t,x1t+x2t,'k-',t,xslow,'k--',t,-xslow,'k--')\n",
    "        plt.gca().axhline(y=2.*xa, color='k', linestyle='-.' )\n",
    "        plt.ylim(-3.,3.)\n",
    "        plt.xlabel(r'$t$',fontsize=15)\n",
    "        plt.ylabel('Amplitude',fontsize=15)\n",
    "        plt.gca().annotate(\"\",\n",
    "                xy=(0, -2.3), xycoords='data',\n",
    "                xytext=(Ts, -2.3), textcoords='data',\n",
    "                arrowprops=dict(arrowstyle=\"<->\",\n",
    "                                connectionstyle=\"arc3\"),\n",
    "                )\n",
    "        plt.text(Ts/2.,-2.7,r'$T_S$',fontsize=15)\n",
    "        plt.show()\n",
    "\n",
    "interact(update,omega1=(1.,5.), omega2=(1,5.));"
   ]
  },
  {
   "cell_type": "markdown",
   "metadata": {},
   "source": [
    "Schwebungsdauer: $T_S$\n",
    "\n",
    "Modulationsdauer: $T_M=\\frac{2\\pi}{\\Delta\\omega}$\n",
    "\n",
    "und damit ist $T_S=\\frac{T_M}{2}$."
   ]
  }
 ],
 "metadata": {
  "kernelspec": {
   "display_name": "Python [default]",
   "language": "python",
   "name": "python2"
  },
  "language_info": {
   "codemirror_mode": {
    "name": "ipython",
    "version": 2
   },
   "file_extension": ".py",
   "mimetype": "text/x-python",
   "name": "python",
   "nbconvert_exporter": "python",
   "pygments_lexer": "ipython2",
   "version": "2.7.14"
  }
 },
 "nbformat": 4,
 "nbformat_minor": 2
}
