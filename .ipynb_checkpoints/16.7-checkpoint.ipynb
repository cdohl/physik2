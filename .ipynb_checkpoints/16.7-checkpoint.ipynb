{
 "cells": [
  {
   "cell_type": "markdown",
   "metadata": {},
   "source": [
    "### 16.7 Kondensatoren und Kapazität\n",
    "\n",
    "Der Plattenkondensator im Vakuum besteht aus zwei grossen Platten unterschiedlicher Ladung im Abstand $d$. Das elektrische Feld kann aus der Superposition der elektrischen Felder für die positive ($+\\sigma$) and negative Platte ($-\\sigma$) berechnet werden: \n",
    "\n",
    "<img src=\"figures/16.7_1.png\" alt=\"16.7_1\" style=\"width: 400px;\"/>\n",
    "\n",
    "\n",
    "Damit ergibt sich als elektrisches Feld \n",
    "\n",
    "$$\\vec{E} = E \\, \\vec{e}_x = \\frac{\\sigma}{\\epsilon_0}=\\frac{+Q}{A\\cdot\\epsilon_0}$$\n",
    "\n",
    "Homogenes Feld im Inneren des Kondensators mit parallelen Feldlinien:\n",
    "\n",
    "<img src=\"figures/16.7_1a.png\" alt=\"16.7_1a\" style=\"height: 200px;\"/>\n",
    "\n",
    "\n",
    "An den Rändern existiert ein vernachlässigbares Streufeld. James Clark Maxwell hat dieses Streufeld berechnet:\n",
    "\n",
    "<img src=\"figures/16.7_2.png\" alt=\"16.7_2\" style=\"width: 200px;\"/>\n",
    "(Figure 12 from *A Treatise on Electricity and Magnetism*, Vol. 1, 1873)"
   ]
  },
  {
   "cell_type": "code",
   "execution_count": null,
   "metadata": {},
   "outputs": [],
   "source": []
  }
 ],
 "metadata": {
  "kernelspec": {
   "display_name": "Python [default]",
   "language": "python",
   "name": "python2"
  },
  "language_info": {
   "codemirror_mode": {
    "name": "ipython",
    "version": 2
   },
   "file_extension": ".py",
   "mimetype": "text/x-python",
   "name": "python",
   "nbconvert_exporter": "python",
   "pygments_lexer": "ipython2",
   "version": "2.7.14"
  }
 },
 "nbformat": 4,
 "nbformat_minor": 2
}
