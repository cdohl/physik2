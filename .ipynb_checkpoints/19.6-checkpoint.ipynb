{
 "cells": [
  {
   "cell_type": "markdown",
   "metadata": {},
   "source": [
    "### 19.6 Biot-Savart-Gesetz\n",
    "\n",
    "Beim Ampère'schen Gesetz sollte das Integral $\\oint \\vec{B}\\cdot\\mathrm{d}\\vec{s}$ durch Symmetrie leicht zu bestimmen sein. Ähnliches gilt auch für das Gauß'sche Gesetz, beide Gesetze sind zwar fundamental aber nicht einfach für komplexere Geometrien anzuwenden. Anstatt des Gauß'schen Gesetzes können wir die Ladungsverteilung durch Punktladungen approximieren und dann über Superposition das elektrische Feld berechnen. Das Biot-Savart'sche Gesetz erlaubt sehr ähnlich das Magnetfeld $\\mathrm{d}\\vec{B}(\\vec{r})$ von einem kleinen stromdurchflossenen Leiterelement $\\mathrm{d}\\vec{s}$ zu bestimmen.\n",
    "\n",
    "\n",
    "<img src=\"figures/19.6_1.png\" alt=\"19.6_1\" style=\"width: 350px;\"/>   \n",
    "\n",
    "\n",
    "$$\\mathrm{d}\\vec{B} = \\frac{\\mu_0\\, I}{4\\pi} \\frac{\\mathrm{d}\\vec{s}\\times\\vec{e}_r}{r^2}$$\n",
    "\n",
    "\n",
    "Der Betrag des Magnetfeldes $\\mathrm{d}B$ ist folglich\n",
    "\n",
    "\n",
    "$$\\mathrm{d}B=\\frac{\\mu_0\\,I\\,\\mathrm{d}s\\,\\sin \\Theta}{4 \\pi\\,r^2}$$\n",
    "\n",
    "wobei $\\Theta$ der Winkel zwischen $\\mathrm{d}\\vec{s}$ und $\\vec{r}$ ist.\n",
    "\n",
    "Das Magnetfeld am Ort $\\vec{r}$ ergibt sich folglich aus der Summation aller $\\mathrm{d}\\vec{B}$ von allen Leiterelementen. \n",
    "\n",
    "$$\\vec{B}=\\int \\mathrm{d}\\vec{B}$$"
   ]
  },
  {
   "cell_type": "code",
   "execution_count": null,
   "metadata": {},
   "outputs": [],
   "source": []
  }
 ],
 "metadata": {
  "kernelspec": {
   "display_name": "Python [conda env:anaconda2]",
   "language": "python",
   "name": "conda-env-anaconda2-py"
  },
  "language_info": {
   "codemirror_mode": {
    "name": "ipython",
    "version": 2
   },
   "file_extension": ".py",
   "mimetype": "text/x-python",
   "name": "python",
   "nbconvert_exporter": "python",
   "pygments_lexer": "ipython2",
   "version": "2.7.14"
  }
 },
 "nbformat": 4,
 "nbformat_minor": 2
}
