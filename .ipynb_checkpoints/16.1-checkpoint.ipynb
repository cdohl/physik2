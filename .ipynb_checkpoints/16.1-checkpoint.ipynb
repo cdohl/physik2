{
 "cells": [
  {
   "cell_type": "markdown",
   "metadata": {},
   "source": [
    "#### 16.1 Die elektrische Ladung\n",
    "\n",
    "* Eigenschaften von einigen Elementarteilchen (zusätzlich zur Masse)\n",
    "* Ladung is Ursprung der elektromagnetischen Wechselwirkung\n",
    "* zwei Arten von Ladungen (positiv und negativ)\n",
    "* Ladung ist gequantelt\n",
    "  nur ganzahlige Vielfache der Elementarladung\n",
    "\n",
    "$$e = 1.602\\cdot 10^{-19}\\mathrm{A\\, s}$$\n",
    "\n",
    "$$e = 1.602\\cdot 10^{-19}\\mathrm{C}$$\n",
    "\n",
    "$$1\\, \\mathrm{C}=1 \\mathrm{A\\, s}$$\n",
    "\n",
    "* Ladung des Elektrons \n",
    "$$Q_e = -e $$\n",
    "\n",
    "* Ladung des Protons \n",
    "$$Q_e = e $$\n",
    "\n",
    "* Identität nachgewiesen\n",
    "$$\\left|Q_e\\right|=\\left|Q_p\\right|$$\n",
    "\n",
    "* Satz der Ladungserhaltung\n",
    "\n",
    "<center>Die Gesamtladung in einem abgeschlossenen System bleibt erhalten</center>\n",
    "\n",
    "<center>aber ich kann Ladungen trennen.</center>"
   ]
  },
  {
   "cell_type": "code",
   "execution_count": null,
   "metadata": {},
   "outputs": [],
   "source": []
  }
 ],
 "metadata": {
  "kernelspec": {
   "display_name": "Python 2",
   "language": "python",
   "name": "python2"
  },
  "language_info": {
   "codemirror_mode": {
    "name": "ipython",
    "version": 2
   },
   "file_extension": ".py",
   "mimetype": "text/x-python",
   "name": "python",
   "nbconvert_exporter": "python",
   "pygments_lexer": "ipython2",
   "version": "2.7.13"
  }
 },
 "nbformat": 4,
 "nbformat_minor": 2
}
