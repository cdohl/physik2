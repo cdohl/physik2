{
 "cells": [
  {
   "attachments": {},
   "cell_type": "markdown",
   "metadata": {},
   "source": [
    "### 17.2 Elektrische Polarisation der Dielektrika\n",
    "\n",
    "* Einbringen eines Dielektrikums in einen Plattenkondensator ⇨  Spannung sinkt\n",
    "\n",
    "* Ladungen im Dielektrikum werden verschoben\n",
    "\n",
    "<img src=\"figures/17.2_1.png\" alt=\"17.2_1\" style=\"height: 400px;\"/>\n",
    "\n",
    "\n",
    "* Bildung von Oberflächenladungen im Dielektrikum ⇨ Abschirmung des Feldes\n",
    "\n",
    "<img src=\"figures/17.2_2.png\" alt=\"17.2_2\" style=\"height: 300px;\"/>\n",
    "\n",
    "* Spannung:\n",
    "\n",
    "$$U=(l-l')\\cdot E_\\mathrm{Vak.}+l'\\cdot E_\\mathrm{Diel.}$$\n",
    "\n",
    "* Flächenladungsdichte der Polarisationladung\n",
    "\n",
    "$$\\sigma_\\mathrm{pol}=\\frac{Q_\\mathrm{pol}}{A}$$\n"
   ]
  },
  {
   "cell_type": "code",
   "execution_count": null,
   "metadata": {},
   "outputs": [],
   "source": []
  }
 ],
 "metadata": {
  "kernelspec": {
   "display_name": "Python [default]",
   "language": "python",
   "name": "python2"
  },
  "language_info": {
   "codemirror_mode": {
    "name": "ipython",
    "version": 2
   },
   "file_extension": ".py",
   "mimetype": "text/x-python",
   "name": "python",
   "nbconvert_exporter": "python",
   "pygments_lexer": "ipython2",
   "version": "2.7.14"
  }
 },
 "nbformat": 4,
 "nbformat_minor": 2
}
