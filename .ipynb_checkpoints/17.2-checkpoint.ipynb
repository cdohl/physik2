{
 "cells": [
  {
   "cell_type": "markdown",
   "metadata": {},
   "source": [
    "#### 17.2 Elektrische Polarisation der Dielektrika\n",
    "\n",
    "\n",
    "\n",
    "\n",
    "<img src=\"https://upload.wikimedia.org/wikipedia/commons/thumb/d/db/Alu-Elko-Wickel_mit_Mehrfachkontaktierung.jpg/424px-Alu-Elko-Wickel_mit_Mehrfachkontaktierung.jpg\n",
    "\" alt=\"Alu-Elko-Wickel_mit_Mehrfachkontaktierung.jpg/424px-Alu-Elko-Wickel_mit_Mehrfachkontaktierung\" style=\"height: 300px;\"/>\n",
    "<center>Dieser kommerzielle Kondensator besteht aus einer Wicklung der Elektroden um ein Dielektrikum. </center>\n",
    "\n",
    "\n",
    "* Einbringen eines Dielektrikum erhöht die Kapazität\n",
    "\n",
    "$$C=\\epsilon_r C_0$$\n",
    "\n",
    "* Für einen Plattenkondensator \n",
    "\n",
    "$$ C=\\epsilon_r \\epsilon_0 \\frac{A}{d} $$\n",
    "\n",
    "* Definition der Permittivität $\\epsilon=\\epsilon_r \\, \\epsilon_0$\n",
    "\n",
    "* Konstante Spannung\n",
    "\n",
    "<img src=\"figures/17.2_3.png\" alt=\"17.2_3\" style=\"width: 500px;\"/>\n",
    "\n",
    "\n",
    "* Konstante Ladung\n",
    "\n",
    "<img src=\"figures/17.2_4.png\" alt=\"17.2_4\" style=\"width: 500px;\"/>"
   ]
  },
  {
   "cell_type": "markdown",
   "metadata": {},
   "source": [
    "\n",
    "* Einbringen eines Dielektrikums in einen Plattenkondensator ⇨  Spannung sinkt\n",
    "\n",
    "* Ladungen im Dielektrikum werden verschoben\n",
    "\n",
    "<img src=\"figures/17.2_1.png\" alt=\"17.2_1\" style=\"height: 400px;\"/>\n",
    "\n",
    "\n",
    "* Bildung von Oberflächenladungen im Dielektrikum ⇨ Abschirmung des Feldes\n",
    "\n",
    "<img src=\"figures/17.2_2.png\" alt=\"17.2_2\" style=\"width: 300px;\"/>\n",
    "\n",
    "* Das Feld im Dielektrikum ist\n",
    "\n",
    "$$\\vec{E}_\\mathrm{Diel.}=\\vec{E}_\\mathrm{vak}+\\vec{E}_{P}\\quad\\quad \n",
    "\\left|\\vec{E}_{Diel.}\\right|<\\left|\\vec{E}_{vak}\\right|$$\n",
    "\n",
    "\n",
    "* Spannung:\n",
    "\n",
    "$$U=(l-l')\\cdot E_\\mathrm{Vak.}+l'\\cdot E_\\mathrm{Diel.}$$"
   ]
  },
  {
   "cell_type": "markdown",
   "metadata": {},
   "source": [
    "* Flächenladungsdichte der Polarisationladung\n",
    "\n",
    "$$\\sigma_\\mathrm{pol}=\\frac{Q_\\mathrm{pol}}{A}$$\n",
    "\n",
    "A: Querschnittsfläche des Kondensators\n",
    "\n",
    "\n",
    "\n"
   ]
  },
  {
   "cell_type": "code",
   "execution_count": null,
   "metadata": {},
   "outputs": [],
   "source": []
  }
 ],
 "metadata": {
  "kernelspec": {
   "display_name": "Python [default]",
   "language": "python",
   "name": "python2"
  },
  "language_info": {
   "codemirror_mode": {
    "name": "ipython",
    "version": 2
   },
   "file_extension": ".py",
   "mimetype": "text/x-python",
   "name": "python",
   "nbconvert_exporter": "python",
   "pygments_lexer": "ipython2",
   "version": "2.7.14"
  }
 },
 "nbformat": 4,
 "nbformat_minor": 2
}
