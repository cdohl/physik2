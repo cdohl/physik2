{
 "cells": [
  {
   "cell_type": "markdown",
   "metadata": {},
   "source": [
    "### 16.7 Kondensatoren und Kapazität\n",
    "\n",
    "Der Plattenkondensator im Vakuum besteht aus zwei grossen Platten unterschiedlicher Ladung im Abstand $d$. Das elektrische Feld kann aus der Superposition der elektrischen Felder für die positive ($+\\sigma$) and negative Platte ($-\\sigma$) berechnet werden: \n",
    "\n",
    "<img src=\"figures/16.7_1.png\" alt=\"16.7_1\" style=\"width: 400px;\"/>\n",
    "\n",
    "\n",
    "Damit ergibt sich als elektrisches Feld \n",
    "\n",
    "$$\\vec{E} = E \\, \\vec{e}_x = \\frac{\\sigma}{\\epsilon_0}=\\frac{+Q}{A\\cdot\\epsilon_0}$$\n",
    "\n",
    "Homogenes Feld im Inneren des Kondensators mit parallelen Feldlinien:\n",
    "\n",
    "<img src=\"figures/16.7_1a.png\" alt=\"16.7_1a\" style=\"height: 200px;\"/>\n",
    "\n",
    "\n",
    "An den Rändern existiert ein vernachlässigbares Streufeld. James Clark Maxwell hat dieses Streufeld berechnet:\n",
    "\n",
    "<img src=\"figures/16.7_2.png\" alt=\"16.7_2\" style=\"width: 200px;\"/>\n",
    "(Figure 12 from *A Treatise on Electricity and Magnetism*, Vol. 1, 1873)"
   ]
  },
  {
   "cell_type": "markdown",
   "metadata": {},
   "source": [
    "* Berechnung der Spannung zwischen den Kondensatorplatten mit\n",
    "\n",
    "$$U=-\\int_{\\vec{r}_A}^{\\vec{r}_B} \\vec{E} \\cdot \\mathrm{d}\\vec{r} $$\n",
    "\n",
    "ergibt für $\\vec{r}_A=\\vec{0}$ und $\\vec{r}_A=d\\,\\vec{e}_x$\n",
    "\n",
    "$$U=-\\int_0^d \\frac{\\sigma}{\\epsilon_0}  \\mathrm{d}x= -\\frac{\\sigma \\, d}{\\epsilon_0} = -\\frac{Q \\, d}{\\epsilon_0 \\, A}$$\n",
    "\n",
    "* Wenn $Q=\\mathrm{konst.}$ (z.B. Kondensator wird von der Spannungsquelle getrennt), dann nimmt mit wachsendem Abstand $d$ die Spannung $U$ zu.\n",
    "\n",
    "* Wenn $U=\\mathrm{konst.}$ (z.B. angeklemmte Spannungsquelle), dann muss $Q$ sinken, wenn $d$ zunimmt.\n",
    "\n",
    "* Die Kapazität eines Kondensators im Vakuum sagt aus wieviel Ladung ich pro Spannung aufbringen kann:\n",
    "\n",
    "$$ C_0 = \\frac{|Q|}{|U|}$$\n",
    "\n",
    "* Für den Plattenkondensator gilt: \n",
    "\n",
    "$$ C_0 = \\frac{\\epsilon_0 \\, A}{d} $$\n",
    "\n",
    "Die Einheit von $[C_0]=\\mathrm{\\frac{A \\cdot s}{V}}= 1\\,\\mathrm{F}$ wobei F für Farad steht.\n"
   ]
  },
  {
   "cell_type": "markdown",
   "metadata": {},
   "source": [
    "* Serienschaltung oder Reihenschaltung von Kondensatoren\n",
    "\n",
    "SKIZZE\n",
    "\n",
    "$$ U= U_{ges}=U_1 + U_2 $$\n",
    "\n",
    "$$ Q_1= Q_2 = Q $$\n",
    "\n",
    "Die Gesamtkapazität: $C_{ges}= \\frac{Q}{U_{ges}}$. \n",
    "\n",
    "\n",
    "$$ U_1= \\frac{Q}{C_1} \\quad \\quad U_2=\\frac{Q}{C_2}$$\n",
    "$$C_{ges}=\\frac{C_1 \\, C_2}{C_1 + C_2}$$\n",
    "\n",
    "oder allgemein für $i$ Kondensatoren\n",
    "\n",
    "$$\\frac{1}{C_{ges}}=\\sum_{i=1}^N \\frac{1}{C_i} $$"
   ]
  },
  {
   "cell_type": "markdown",
   "metadata": {},
   "source": [
    "* Parallelschaltung von Kondensatoren\n",
    "\n",
    "SKIZZE\n",
    "\n",
    "$$ U= U_1 = U_2 $$\n",
    "\n",
    "$$ Q_1 \\neq Q_2\\quad \\quad Q_1=C_1 \\, U\\quad Q_2=C_2 \\, U$$\n",
    "\n",
    "Die Gesamtkapazität: \n",
    "\n",
    "$$C_{ges}= \\frac{Q_{ges}}{U}=\\frac{Q_1+Q_2}{U}$$. \n",
    "\n",
    "\n",
    "\n",
    "$$C_{ges}=C_1 + C_2$$\n",
    "\n",
    "oder allgemein für $i$ Kondensatoren\n",
    "\n",
    "$$C_{ges}=\\sum_{i=1}^N C_i $$"
   ]
  }
 ],
 "metadata": {
  "kernelspec": {
   "display_name": "Python [default]",
   "language": "python",
   "name": "python2"
  },
  "language_info": {
   "codemirror_mode": {
    "name": "ipython",
    "version": 2
   },
   "file_extension": ".py",
   "mimetype": "text/x-python",
   "name": "python",
   "nbconvert_exporter": "python",
   "pygments_lexer": "ipython2",
   "version": "2.7.14"
  }
 },
 "nbformat": 4,
 "nbformat_minor": 2
}
