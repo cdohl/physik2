{
 "cells": [
  {
   "cell_type": "markdown",
   "metadata": {},
   "source": [
    "### 24.2 Gedämpfte Schwingungen\n",
    "\n",
    "* Schwingkreis\n",
    "\n",
    "  <img src=\"figures/24.2_1.png\" alt=\"24.2_1\" style=\"width: 250px;\"/>\n",
    "\n",
    "  $$U_C(t=0)=U_0$$\n",
    "  \n",
    "  $$U_C+U_L+U_R = 0 $$\n",
    "  \n",
    "  $$\\frac{1}{C} \\int I\\,\\mathrm{d}t + L\\cdot \\frac{\\mathrm{d}I}{\\mathrm{d}t} + I\\cdot R = 0$$\n",
    "  \n",
    "  Differenzieren nach $t$\n",
    "  \n",
    "  $$\\frac{1}{C}\\cdot I + L\\cdot \\ddot{I}+ R\\cdot\\dot{I} = 0$$\n",
    "\n",
    "  und durch $L$ teilen\n",
    "  \n",
    "  $$\\ddot{I} + \\underbrace{\\frac{R}{L}}_{2\\,\\delta=\\frac{R}{L}}\\cdot\\dot{I} + \\underbrace{\\frac{1}{L\\cdot C}}_{\\omega_0^2=\\frac{1}{L\\cdot C}}\\cdot I = 0$$ \n",
    "  \n",
    "  \n",
    "  <div class=\"alert alert-info\">\n",
    "  **Allgemeine harmonische gedämpfte DGl.:**\n",
    "  $$\\ddot{I} + 2\\,\\delta\\,\\dot{I} + \\omega_0^2\\, I = 0$$ \n",
    "  </div>\n",
    "  \n",
    "  \n",
    "* Federschwingung mit Reibung:\n",
    "\n",
    "  Kugel in einer Flüssigkeit mit Stoke'scher Reibung\n",
    "  \n",
    "  $$\\vec{F}_{Reib.}=-6\\,\\pi\\,\\eta\\,R\\,\\dot{x}\\,\\vec{e}_x$$\n",
    "  \n",
    "  Summe aller Kräfte resultiert in Beschleunigung:\n",
    "  \n",
    "  $$\\sum_{i=1}^n \\vec{F}_i=\\vec{F}_{Feder}+\\vec{F}_{Reib.}=m\\,\\ddot{x}\\,\\vec{e}_x$$\n",
    "  \n",
    "  $$-k\\,x\\,\\vec{e}_x-6\\,\\pi\\,\\eta\\,R\\,\\dot{x}\\,\\vec{e}_x=m\\,\\ddot{x}\\,\\vec{e}_x$$\n",
    "  \n",
    "  Mit $\\vec{e}_x$ multipliziert und durch $m$ geteilt:\n",
    "  \n",
    "  $$\\ddot{x}+\\frac{6\\,\\pi\\,\\eta\\,R}{m}\\,\\dot{x}+\\frac{k}{m}\\,x = 0$$\n",
    "  \n",
    "  mit $2\\delta=\\frac{6\\,\\pi\\,\\eta\\,R}{m}$ und $\\frac{k}{m}=\\omega_0^2$ erhalten wir wieder die allgemeine harmonische gedämpfte DGl:\n",
    "  \n",
    "  <div class=\"alert alert-info\">\n",
    "  $$\\ddot{x} + 2\\,\\delta\\,\\dot{x} + \\omega_0^2\\, x = 0$$ \n",
    "  </div>\n",
    "  \n",
    "\n",
    "* Lösen der DGl.:\n",
    "  \n",
    "  ⇨ Ansatz\n",
    "  \n",
    "  \\begin{eqnarray}\n",
    "  x(t)&=&A\\cdot e^{\\lambda\\,t}\\\\\n",
    "  \\dot{x}(t)&=&A\\cdot\\lambda\\, e^{\\lambda\\,t}\\\\\n",
    "  \\ddot{x}(t)&=&A\\cdot\\lambda^2\\, e^{\\lambda\\,t}\n",
    "  \\end{eqnarray}\n",
    "  \n",
    "  ⇨ Einsetzen in DGl und Ausklammern\n",
    "  \n",
    "  $$A\\cdot e^{\\lambda\\,t}\\cdot\\underbrace{\\left[\\lambda^2+2\\delta\\lambda+\\omega_0^2\\right]}_0=0$$\n",
    "  \n",
    "  Nur wenn der Ausdruck in der Klammer Null ist, ist der Ansatz erfüllt:\n",
    "  \n",
    "  $$\\lambda^2+2\\delta\\lambda+\\omega_0^2=0$$\n",
    "  ⇨\n",
    "  \\begin{eqnarray}\n",
    "  \\lambda_1=-\\delta+\\sqrt{\\delta^2-\\omega_0^2}\\\\\n",
    "  \\lambda_2=-\\delta-\\sqrt{\\delta^2-\\omega_0^2}\\\\\n",
    "  \\end{eqnarray}\n",
    "  \n",
    "  <div class=\"alert alert-info\">\n",
    "  **Gesamtlösung:**\n",
    "  $$\n",
    "  x(t)= A_1\\,e^{-\\delta\\,t}\\,e^{+\\sqrt{\\delta^2-\\omega_0^2}\\,\\cdot t}\n",
    "      + A_2\\,e^{-\\delta\\,t}\\,e^{-\\sqrt{\\delta^2-\\omega_0^2}\\,\\cdot t}$$\n",
    "   </div>\n",
    "\n",
    "\n",
    "* Unterscheidung in drei Fälle in Abhängigkeit von $\\delta$ und $\\omega_0$\n",
    "\n",
    "  * wenn $\\delta<\\omega_0\\quad \\rightarrow$ Schwingfall (schwache Dämpfung)\n",
    "  * wenn $\\delta=\\omega_0\\quad \\rightarrow$ aperiodischer Grenzfall\n",
    "  * wenn $\\delta>\\omega_0\\quad \\rightarrow$ Kriechfall (starke Dämpfung)\n",
    "  \n",
    "  "
   ]
  },
  {
   "cell_type": "code",
   "execution_count": 11,
   "metadata": {
    "hide_input": false
   },
   "outputs": [
    {
     "data": {
      "application/vnd.jupyter.widget-view+json": {
       "model_id": "b49ce4237e86408d87a787080210ce9a",
       "version_major": 2,
       "version_minor": 0
      },
      "text/html": [
       "<p>Failed to display Jupyter Widget of type <code>interactive</code>.</p>\n",
       "<p>\n",
       "  If you're reading this message in the Jupyter Notebook or JupyterLab Notebook, it may mean\n",
       "  that the widgets JavaScript is still loading. If this message persists, it\n",
       "  likely means that the widgets JavaScript library is either not installed or\n",
       "  not enabled. See the <a href=\"https://ipywidgets.readthedocs.io/en/stable/user_install.html\">Jupyter\n",
       "  Widgets Documentation</a> for setup instructions.\n",
       "</p>\n",
       "<p>\n",
       "  If you're reading this message in another frontend (for example, a static\n",
       "  rendering on GitHub or <a href=\"https://nbviewer.jupyter.org/\">NBViewer</a>),\n",
       "  it may mean that your frontend doesn't currently support widgets.\n",
       "</p>\n"
      ],
      "text/plain": [
       "interactive(children=(FloatSlider(value=1.0, description=u'x0', max=1.0), FloatSlider(value=1.0, description=u'omega0', max=3.0, min=0.5), FloatSlider(value=0.5, description=u'delta', max=3.0, min=0.1), Output()), _dom_classes=('widget-interact',))"
      ]
     },
     "metadata": {},
     "output_type": "display_data"
    }
   ],
   "source": [
    "%matplotlib inline\n",
    "from ipywidgets import *\n",
    "import numpy as np\n",
    "import matplotlib.pyplot as plt\n",
    "\n",
    "t = np.linspace(0, 4 * np.pi,500)\n",
    "\n",
    "\n",
    "def update(x0=1., omega0 = 1., delta = .5):\n",
    "    T0=2.*np.pi/omega0\n",
    "    fig = plt.figure(figsize=(7,4))\n",
    "    x=x0/2.*np.exp(-delta*t)*np.exp((delta**2-omega0**2+0j)**.5*t)+\\\n",
    "      x0/2.*np.exp(-delta*t)*np.exp(-(delta**2-omega0**2+0j)**.5*t)\n",
    "    #in obiger Zeile braucht es +0j damit die Potenz von einer komplexen Zahl berechnet wird\n",
    "    plt.plot(t/T0,x)\n",
    "    plt.ylim(-1.,1.)\n",
    "    plt.xlabel(r'$t/T_0$',fontsize=15)\n",
    "    plt.ylabel('Amplitude',fontsize=15)\n",
    "    plt.show()\n",
    "\n",
    "interact(update,x0=(0.,1.), omega0=(.5,3.),delta=(.1,3.));"
   ]
  },
  {
   "cell_type": "code",
   "execution_count": null,
   "metadata": {},
   "outputs": [],
   "source": []
  }
 ],
 "metadata": {
  "kernelspec": {
   "display_name": "Python [default]",
   "language": "python",
   "name": "python2"
  },
  "language_info": {
   "codemirror_mode": {
    "name": "ipython",
    "version": 2
   },
   "file_extension": ".py",
   "mimetype": "text/x-python",
   "name": "python",
   "nbconvert_exporter": "python",
   "pygments_lexer": "ipython2",
   "version": "2.7.14"
  }
 },
 "nbformat": 4,
 "nbformat_minor": 2
}
