{
 "cells": [
  {
   "cell_type": "markdown",
   "metadata": {},
   "source": [
    "### 18.4 Laden eines Kondensators\n",
    "\n",
    "<img src=\"figures/18.4_1.png\" alt=\"18.4_1\" style=\"width: 300px;\"/>\n",
    "\n",
    "Wir fragen nach der Spannung und den Strom am Kondensator wenn der Schalter zum Zeitpunkt $t=0$ umgelegt wird:\n",
    "\n",
    "\\begin{eqnarray}\n",
    "U_C(t)&=&?\\\\\n",
    "I(t)&=&?\n",
    "\\end{eqnarray}\n",
    "\n",
    "Maschenregel:\n",
    "$$U_{01}=I\\, R_1 +U_C\\tag{18.4.0}$$\n",
    "\n",
    "wobei die Spannung am Kondensator durch die Ladung $Q$ gegeben ist:\n",
    "\n",
    "$$U_C=\\frac{Q}{C}$$\n",
    "und somit\n",
    "\n",
    "$$U_{01}=I\\, R_1 + \\frac{Q}{C}\\tag{18.4.1}$$\n",
    "\n",
    "Wir müssen also die Ladung die auf den Kondensator aufgebracht wird bestimmen. Dazu differenzieren wir Gleichung (18.4.1) nach der Zeit.\n",
    "\n",
    "$$\\frac{\\mathrm{d}}{\\mathrm{d}t}\\left(U_{01}\\right)=\n",
    "\\frac{\\mathrm{d}}{\\mathrm{d}t}\\left(I\\, R_1\\right)+\n",
    "\\frac{\\mathrm{d}}{\\mathrm{d}t}\\left(\\frac{Q}{C}\\right)$$\n",
    "\n",
    "$U_{01}$, $R_1$ und $C$ sind zeitlich konstant, darum\n",
    "\n",
    "$$0=R_1\\, \\frac{\\mathrm{d}I}{\\mathrm{d}t} + \\frac{1}{C}\\frac{\\mathrm{d}Q}{\\mathrm{d}t}\\tag{18.4.2}$$\n",
    "\n",
    "Nach Definition ist $\\mathrm{d}Q/\\mathrm{d}t=I$, und daher ergibt sich aus Gl. (18.4.2)\n",
    "\n",
    "$$I=-R_1 C\\, \\frac{\\mathrm{d}I}{\\mathrm{d}t}\\tag{18.4.3}\\quad.$$\n",
    "\n",
    "Die Differentialgleichung (18.4.3) kann durch Trennung der Variablen gelöst werden. Vorher benennen wir das Produkt $\\tau=R_1 C$. $\\tau$ wird Zeitkonstante genannt.\n",
    "\n",
    "\\begin{eqnarray}\n",
    "\\frac{\\mathrm{d}{I}}{I} = -\\frac{1}{\\tau}\\mathrm{d}t\\\\\n",
    "\\int_{I(t=0)}^{I(t)}\\frac{\\mathrm{d}{I'}}{I'} = \\int_0^t -\\frac{1}{\\tau}\\mathrm{d}t'\\\\\n",
    "\\ln\\left(\\frac{I(t)}{I(t=0)}\\right) = - \\frac{t}{\\tau} \\tag{18.4.4}\n",
    "\\end{eqnarray}\n",
    "\n",
    "Auflösen nach $I(t)$:\n",
    "\n",
    "$$I(t) = I(t=0)\\, \\exp\\left(-\\frac{t}{\\tau}\\right)\\tag{18.4.5}$$\n",
    "\n",
    "Anfangsbedingungen: $t=0 \\quad \\rightarrow \\quad U_C=0$\n",
    "\n",
    "Eingesetzt in Gl. (18.4.0) gibt\n",
    "\n",
    "$$I(t=0)=\\frac{U_{01}}{R_1}$$\n",
    "\n",
    "und damit wird Gl. (18.4.5)\n",
    "\n",
    "$$I(t) =  \\frac{U_{01}}{R_1}\\, \\exp\\left(-\\frac{t}{\\tau}\\right)$$\n",
    "\n",
    "Für $t\\rightarrow\\infty$ verschwindet $I(t\\rightarrow\\infty)=0$.\n",
    "\n",
    "Wegen Gl. (18.4.1) ist $U_C=U_{01}-I(t) \\, R_1$\n",
    "\n",
    "$$U_C(t)=U_{01}\\,\\left[1-\\exp\\left(-\\frac{t}{\\tau}\\right)\\right]$$\n",
    "\n",
    "Und die Spannung am Kondensator nähert sich für $t\\rightarrow\\infty$ an die Batteriespannung $U_{01}$ an, $U_C(t\\rightarrow\\infty)=U_{01}$."
   ]
  },
  {
   "cell_type": "markdown",
   "metadata": {},
   "source": [
    "----\n",
    "Man kann Differentialgleichungen auch direkt mit dem Rechner lösen. Hier machen wir das am Beispiel der Gleichung (18.4.3) \n",
    "\n",
    "$$\n",
    "\\frac{\\mathrm{d}I(t)}{\\mathrm{d}t}=-\\frac{1}{R_1 C}I(t)\n",
    "$$\n",
    "\n",
    "Im untenstehenden Programm wird die Gleichung in der Funktion definiert\n",
    "```python\n",
    "def Icharge(y,t):```\n",
    "\n",
    "und mit dem Befehl\n",
    "```python\n",
    "I = odeint(Icharge,I0,t)```\n",
    "integriert.\n"
   ]
  },
  {
   "cell_type": "code",
   "execution_count": 1,
   "metadata": {
    "hide_input": true
   },
   "outputs": [
    {
     "data": {
      "image/png": "[encoded data removed]",
      "text/plain": [
       "<matplotlib.figure.Figure at 0x110280b90>"
      ]
     },
     "metadata": {},
     "output_type": "display_data"
    }
   ],
   "source": [
    "%matplotlib inline\n",
    "import numpy as np \n",
    "from scipy.integrate import odeint\n",
    "import matplotlib.pyplot as plt\n",
    "import matplotlib as mpl\n",
    "mpl.rcParams['font.size'] = 15\n",
    "\n",
    "global kind, Ubatt, R1, C\n",
    "\n",
    "def Icharge(y,t):\n",
    "    global kind, Ubatt, R1, C\n",
    "    I = y\n",
    "    dIdt = -I/(R1*C) #see Eq. (18.4.3)\n",
    "    return dIdt\n",
    "\n",
    "R1 = 1e5    #Ohm\n",
    "C = 1e-6    #Farad\n",
    "Ubatt = 50. #Volt\n",
    "\n",
    "# initial condition\n",
    "I0 = Ubatt/R1\n",
    "\n",
    "# time points\n",
    "t = np.linspace(0.,5.*R1*C)\n",
    "\n",
    "# solve ODE\n",
    "I = odeint(Icharge,I0,t)    \n",
    "\n",
    "fig, ax1 = plt.subplots()\n",
    "\n",
    "ax2 = ax1.twinx()\n",
    "ax1.plot(t,I/I0, 'g-')\n",
    "ax2.plot(t,(Ubatt-I*R1)/Ubatt, 'b-')\n",
    "\n",
    "ax1.set_xlabel('Zeit (s)')\n",
    "ax1.set_ylabel(u'$I(t)/I_0$', color='g')\n",
    "ax2.set_ylabel(u'$U_C/U_{10}$', color='b')\n",
    "\n",
    "plt.show()"
   ]
  }
 ],
 "metadata": {
  "kernelspec": {
   "display_name": "Python [default]",
   "language": "python",
   "name": "python2"
  },
  "language_info": {
   "codemirror_mode": {
    "name": "ipython",
    "version": 2
   },
   "file_extension": ".py",
   "mimetype": "text/x-python",
   "name": "python",
   "nbconvert_exporter": "python",
   "pygments_lexer": "ipython2",
   "version": "2.7.14"
  }
 },
 "nbformat": 4,
 "nbformat_minor": 2
}
