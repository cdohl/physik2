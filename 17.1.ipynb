{
 "cells": [
  {
   "cell_type": "markdown",
   "metadata": {},
   "source": [
    "## 17. Elektrisches Feld in Isolatoren (Dielektrika)\n",
    "\n",
    "### 17.1 Beschreibung des Effektes\n",
    "\n",
    "* vor dem Einbringen des Dielektrikums\n",
    "\n",
    "$$Q_0 = C_0 \\cdot U_0 $$\n",
    "\n",
    "* bei abgeklemmter Spannungsquelle\n",
    "\n",
    "⇨ Einbringen des Materials\n",
    "\n",
    "$$Q_0 = Q_\\mathrm{Diel.}$$\n",
    "\n",
    "$$ U_\\mathrm{Diel.} < U_0$$\n",
    "\n",
    "\n",
    "\n",
    "relative Dielektrizitätszahl $\\epsilon_r = \\frac{U_0}{U_\\mathrm{Diel.}}$\n",
    "\n",
    "$$U_\\mathrm{Diel.}=\\frac{U_0}{\\epsilon_r}$$\n",
    "\n",
    "$$C_\\mathrm{Diel.}=\\frac{Q_0}{U_\\mathrm{Diel.}}=\\underbrace{\\frac{Q_0}{U_0}}_{C_0}\\cdot\\epsilon_r$$\n",
    "\n",
    "$$C_\\mathrm{Diel.}=\\epsilon_r\\cdot C_0$$\n",
    "\n",
    "$$C_\\mathrm{Diel.}=\\frac{\\epsilon_0\\cdot\\epsilon_r\\cdot A}{d}$$\n",
    "\n",
    "* für das Vakuum gilt: $\\epsilon_r=1$\n",
    "\n",
    "* Wenn die Spannung beim Einbringen eines Dielektrikums sinkt muss die Feldstärke $\\vec{E}$ sinken.\n"
   ]
  }
 ],
 "metadata": {
  "kernelspec": {
   "display_name": "Python [default]",
   "language": "python",
   "name": "python2"
  },
  "language_info": {
   "codemirror_mode": {
    "name": "ipython",
    "version": 2
   },
   "file_extension": ".py",
   "mimetype": "text/x-python",
   "name": "python",
   "nbconvert_exporter": "python",
   "pygments_lexer": "ipython2",
   "version": "2.7.14"
  }
 },
 "nbformat": 4,
 "nbformat_minor": 2
}
