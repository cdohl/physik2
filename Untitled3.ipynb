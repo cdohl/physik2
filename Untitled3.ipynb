{
 "cells": [
  {
   "cell_type": "code",
   "execution_count": 50,
   "metadata": {},
   "outputs": [],
   "source": [
    "import mechanize\n",
    "import urllib2\n",
    "\n",
    "def internet_on():\n",
    "    try:\n",
    "        urllib2.urlopen('http://google.com', timeout=1)\n",
    "        return True\n",
    "    except urllib2.URLError as err: \n",
    "        br = mechanize.Browser()\n",
    "        br.open(\"https://clearpass.entega-medianet.de/guest/guest_register_HotSpot-HSE-Medianet-Campus-BV_1_login.php\")\n",
    "        br.select_form(nr=0)\n",
    "        br.form['user']= 'abc@def'\n",
    "        br.form['password']= '123'\n",
    "        req = br.submit()\n",
    "        print req.read()\n",
    "        return False\n",
    "    "
   ]
  },
  {
   "cell_type": "code",
   "execution_count": null,
   "metadata": {},
   "outputs": [],
   "source": []
  }
 ],
 "metadata": {
  "kernelspec": {
   "display_name": "Python [default]",
   "language": "python",
   "name": "python2"
  },
  "language_info": {
   "codemirror_mode": {
    "name": "ipython",
    "version": 2
   },
   "file_extension": ".py",
   "mimetype": "text/x-python",
   "name": "python",
   "nbconvert_exporter": "python",
   "pygments_lexer": "ipython2",
   "version": "2.7.14"
  }
 },
 "nbformat": 4,
 "nbformat_minor": 2
}
