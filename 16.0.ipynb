{
 "cells": [
  {
   "cell_type": "markdown",
   "metadata": {},
   "source": [
    "#### 16.0 Einleitung\n",
    "\n",
    "* Was ist Elektrizität? [Link zur Geschichte der Elektrizität](https://en.wikipedia.org/wiki/History_of_electromagnetic_theory)  \n",
    "\n",
    "\n",
    "Skizze des Atoms<br> <br> <br> <br>\n",
    "\n",
    "* Modernes Bild vom Atom\n",
    "\n",
    "    * Kern, p$^{+}$ und n, $m_p=m_n=1.7\\,10^{-27}\\,$kg \n",
    "\n",
    "    * Hülle, gefüllt mit e, $m_e=\\frac{1}{1800}m_p$ \n",
    "\n",
    "* Elektron $\\eta\\lambda\\epsilon\\kappa\\tau\\rho\\omicron\\nu$ ist griechisch und heisst Bernstein\n",
    "* Benjamin Franklin (und Christian Gottlieb Kratzenstein) beschrieben Elektrizität mit einem Fluss von Ladungen. Konvention, Fluss von positiver Ladung, zu viel Ladung + , zu wenig Ladung - . "
   ]
  },
  {
   "cell_type": "code",
   "execution_count": null,
   "metadata": {},
   "outputs": [],
   "source": []
  }
 ],
 "metadata": {
  "kernelspec": {
   "display_name": "Python [default]",
   "language": "python",
   "name": "python2"
  },
  "language_info": {
   "codemirror_mode": {
    "name": "ipython",
    "version": 2
   },
   "file_extension": ".py",
   "mimetype": "text/x-python",
   "name": "python",
   "nbconvert_exporter": "python",
   "pygments_lexer": "ipython2",
   "version": "2.7.14"
  }
 },
 "nbformat": 4,
 "nbformat_minor": 2
}
