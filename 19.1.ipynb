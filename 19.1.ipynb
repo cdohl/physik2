{
 "cells": [
  {
   "cell_type": "markdown",
   "metadata": {},
   "source": [
    "## 19. Das magnetische Feld der Dipole und Gleichströme\n",
    "\n",
    "### 19.1 Permanentmagnete, magnetische Dipole\n",
    "\n",
    "* griechisches Alterum\n",
    "  * bestimmte Materialien ziehen Eisen an\n",
    "  * Landschaft \"Magnissia\"\n",
    "  * Permanentmagnete\n",
    "  * Ausrichtung im Magnetfeld der Erde (Kraftwirkung)\n",
    "  \n",
    "* Verlauf der magnetischen Feldlinien\n",
    "\n",
    "  * außerhalb des Materials von Nord nach Süd\n",
    "  \n",
    "  <img src=\"figures/19.1_1.png\" alt=\"19.1_1\" style=\"width: 300px;\"/>\n",
    "\n",
    "\n",
    "  * innerhalb des Materials von Süd nach Nord\n",
    "\n",
    "\n",
    "* die magnetischen Feldlinien enden nie, sie sind in sich geschlossen\n",
    "\n",
    "\n",
    "* es gibt keinen magnetischen Ladungen (Monopole)\n",
    "  \n",
    "  ⇨ immer magnetische Dipole\n",
    "  \n",
    "  ⇨ Nord- und Südpol treten immer paarweise auf\n",
    "  "
   ]
  },
  {
   "cell_type": "markdown",
   "metadata": {},
   "source": [
    "* Zwei Größen beschreiben das Magnetfeld:\n",
    "\n",
    "$\\vec{H}$ ist die magnetische Feldstärke  in Einheiten $$[\\vec{H}]=1\\mathsf{\\frac{A}{m}}$$\n",
    "\n",
    "$\\vec{B}$ ist die magnetische Flussdichte (magnetische Induktion) in Einheiten $$[\\vec{B}]=1\\mathsf{\\frac{V\\cdot s}{m^2}}=1\\mathsf{T}$$\n",
    "Wobei $\\mathsf{T}$ für Tesla steht.\n",
    "\n",
    "* Im Vakuum gilt die Materialgleichung\n",
    "\n",
    "$$\\vec{B}=\\mu_0 \\vec{H}$$\n",
    "\n",
    "wobei $\\mu_0$ die magnetische Feldkonstante ist\n",
    "\n",
    "$$\\mu_0=4\\pi \\cdot 10^{-7}\\,\\mathsf{\\frac{V\\,s}{A\\,m}}$$"
   ]
  },
  {
   "cell_type": "markdown",
   "metadata": {},
   "source": [
    "* Messung des Magnetfeldes mit einem Probedipol (es gibt keinen magnetischen Monopol).\n",
    "\n",
    "  * Die Dipolstärke wird mit dem magnetischen Moment $\\vec{m}$ angegeben.\n",
    "  \n",
    "   <img src=\"figures/19.1_2.png\" alt=\"19.1_2\" style=\"width: 150px;\"/>\n",
    "   \n",
    "  * Das Drehmoment bestimmt dann die magnetische Induktion.\n",
    "  \n",
    "  $$\\vec{M}=\\vec{m}\\times \\vec{B}$$\n",
    "  \n",
    "  * Wenn $\\vec{m} \\parallel \\vec{B}$ verschwindet das Drehmoment, d.h. die Kompassnadel richtet sich tangential zum Magnetfeld aus.\n",
    "  \n",
    "  \n",
    "  "
   ]
  }
 ],
 "metadata": {
  "kernelspec": {
   "display_name": "Python [default]",
   "language": "python",
   "name": "python2"
  },
  "language_info": {
   "codemirror_mode": {
    "name": "ipython",
    "version": 2
   },
   "file_extension": ".py",
   "mimetype": "text/x-python",
   "name": "python",
   "nbconvert_exporter": "python",
   "pygments_lexer": "ipython2",
   "version": "2.7.14"
  }
 },
 "nbformat": 4,
 "nbformat_minor": 2
}
