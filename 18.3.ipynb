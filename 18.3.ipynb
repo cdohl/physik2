{
 "cells": [
  {
   "cell_type": "markdown",
   "metadata": {},
   "source": [
    "### 18.3 Die Kirchhoffschen Regeln\n",
    "\n",
    "* Arbeit und Leistung elektrischer Gleichströme\n",
    "\n",
    "$$I(t)=I=\\mathrm{konst.}$$\n",
    "$$Q=\\int I \\,\\mathrm{d}t = I \\cdot t$$\n",
    "$$W=Q\\cdot U= U \\cdot I \\cdot t$$\n",
    "$$P_{el}=\\frac{\\mathrm{d}W}{\\mathrm{d}t}$$\n",
    "Wenn $I$ konstant ist\n",
    "$$P_{el}=\\frac{W}{t}=U\\cdot I$$\n",
    "⇨ Ohmscher Widerstand:\n",
    "$$P_{el}=\\frac{U^2}{R}=I^2\\cdot R$$\n"
   ]
  },
  {
   "cell_type": "markdown",
   "metadata": {},
   "source": [
    "### Kirchhoffschen Sätze\n",
    "  * Kontinuitätsgleichung (Erhaltung der Ladung) ⇨ *Knotensatz*\n",
    "  * $\\vec{E}$-Feld ist verknüpft mit Potentialdifferenzen/Spannugen ⇨ *Maschensatz*   "
   ]
  },
  {
   "cell_type": "markdown",
   "metadata": {},
   "source": [
    "#### 1. Knotensatz\n",
    "\n",
    "<img src=\"figures/18.3_1.png\" alt=\"18.3_1\" style=\"width: 200px;\"/>\n",
    "\n",
    "Die Summe aller vorzeichenbehafteten Ströme ist 0.\n",
    "$$\\sum_k I_k = 0$$\n",
    "\n",
    "Bsp.: $(I_1+I_2)-(I_3+I_4)=0$"
   ]
  },
  {
   "cell_type": "markdown",
   "metadata": {},
   "source": [
    "#### 2. Maschensatz\n",
    "\n",
    "<img src=\"figures/18.3_2.png\" alt=\"18.3_2\" style=\"width: 300px;\"/>\n",
    "\n",
    "Die Summe aller vorzeichenbehafteten Spannungsabfälle in einer Masche ist 0.\n",
    "\n",
    "$$\\sum_k U_k = 0$$\n",
    "\n",
    "Bsp.: $U_1+U_2+U_3=0$\n",
    "\n",
    "Dear Maschenssatz kommt aus der Erhaltung der Energi in einem elektrischen Feld:\n",
    "\n",
    "$$\\oint E \\cdot \\,\\mathrm{d}\\vec{r} = 0$$"
   ]
  },
  {
   "cell_type": "code",
   "execution_count": null,
   "metadata": {},
   "outputs": [],
   "source": []
  }
 ],
 "metadata": {
  "kernelspec": {
   "display_name": "Python [default]",
   "language": "python",
   "name": "python2"
  },
  "language_info": {
   "codemirror_mode": {
    "name": "ipython",
    "version": 2
   },
   "file_extension": ".py",
   "mimetype": "text/x-python",
   "name": "python",
   "nbconvert_exporter": "python",
   "pygments_lexer": "ipython2",
   "version": "2.7.14"
  }
 },
 "nbformat": 4,
 "nbformat_minor": 2
}
