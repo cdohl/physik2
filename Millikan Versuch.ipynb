{
 "cells": [
  {
   "cell_type": "markdown",
   "metadata": {},
   "source": [
    "## Millikan's Öltröpfchen Versuch\n",
    "\n",
    "Details gibt es auf [Wikipedia](https://en.wikipedia.org/wiki/Oil_drop_experiment)\n",
    "\n",
    "<img src=\"figures/Millikan's_setup_for_the_oil_drop_experiment.jpg\" alt=\"Millikan's_setup_for_the_oil_drop_experiment\" style=\"width: 400px;\"/>\n",
    "\n",
    "\n",
    "<img src=\"figures/Simplified_scheme_of_Millikan’s_oil-drop_experiment.svg\" alt=\"Simplified_scheme_of_Millikan’s_oil-drop_experiment\" style=\"width: 400px;\"/>\n",
    "\n",
    "Die Kräfte die auf das Öltröpfchen wirken, sind die Schwerkraft $\\vec{F}_G$, die Widerstandskraft $\\vec{F}_W$ und die Coloumbkraft $\\vec{F}_C$ im Plattenkondensator. Aus der konstanten Geschwindigkeit kann die Ladungsmenge auf dem Öltröpfchen gemessen werden. Diese Ladung ist immer ein Vielfaches von $e^-$!\n",
    "\n",
    "<img src=\"figures/Milikan Kraefte.png\" alt=\"Milikan Kraefte\" style=\"width: 400px;\"/>\n",
    "\n"
   ]
  }
 ],
 "metadata": {
  "kernelspec": {
   "display_name": "Python [default]",
   "language": "python",
   "name": "python2"
  },
  "language_info": {
   "codemirror_mode": {
    "name": "ipython",
    "version": 2
   },
   "file_extension": ".py",
   "mimetype": "text/x-python",
   "name": "python",
   "nbconvert_exporter": "python",
   "pygments_lexer": "ipython2",
   "version": "2.7.14"
  }
 },
 "nbformat": 4,
 "nbformat_minor": 2
}
