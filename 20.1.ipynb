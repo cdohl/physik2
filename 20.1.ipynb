{
 "cells": [
  {
   "cell_type": "markdown",
   "metadata": {},
   "source": [
    "## 20. Elektromagnetische Induktion\n",
    "### 20.1 Das Faradaysche Induktionsgesetz\n",
    "\n",
    "* Was passiert in einer Leiterschlafe, wenn wir $\\Phi$ zeitlich ändern ⇨ \n",
    "$$\\frac{\\mathrm{d}\\Phi}{\\mathrm{d}t}\\neq 0$$\n",
    "\n",
    "* Änderung von $\\Phi$ bedeutet:\n",
    "  * Änderung von $\\vec{B}$\n",
    "  * Änderung von $\\vec{A}$\n",
    "  * Änderung des Winkels zwischen $\\vec{B}$ und $\\vec{A}$. \n",
    "\n",
    "* Experiment: Spannung an einer Leiterschleife bei\n",
    "$$\\frac{\\mathrm{d}\\Phi}{\\mathrm{d}t}\\neq 0 $$\n",
    "⇨ Induktionsspannung $U_{ind}$\n",
    "\n",
    "* $U_{ind}$ hängt von der Änderungsgeschwindigkeit von $\\Phi$ ab.\n",
    " \n",
    " ⇨ zeitliche Änderung von $\\Phi$ erzeugt eine Induktionsspannung.\n",
    " \n",
    "* Faraday'sches Induktionsgesetz\n",
    "\n",
    "$$U_{ind} = - \\frac{\\mathrm{d}\\Phi}{\\mathrm{d}t}$$\n",
    "\n",
    "\n",
    "<b>Experimente zeigen:</b>\n",
    "\n",
    "Eine induzierte Spannung verursacht einen Strom, dessen Magnetfeld der ursprünglichen Änderung des Flusses entgegen gerichtet ist.\n",
    "\n",
    "Das ist die *Lenz'sche Regel*."
   ]
  },
  {
   "cell_type": "markdown",
   "metadata": {},
   "source": [
    "* In ausgedehnten, metallischen Körpern erzeugen veränderliche $\\vec{B}$-Felder\n",
    " \n",
    " ⇨ Wirbelströme\n",
    " * Antrieb (Arago-Scheibe)\n",
    " * Induktionsherd\n",
    " * Induktionsöfen\n",
    " * Wirbelstrombremse\n",
    "\n",
    "* Unterdrückung von Wirbelströmen\n",
    "\n",
    " ⇨ geschlitze Geometrien\n"
   ]
  },
  {
   "cell_type": "code",
   "execution_count": null,
   "metadata": {},
   "outputs": [],
   "source": []
  }
 ],
 "metadata": {
  "kernelspec": {
   "display_name": "Python [conda env:anaconda2]",
   "language": "python",
   "name": "conda-env-anaconda2-py"
  },
  "language_info": {
   "codemirror_mode": {
    "name": "ipython",
    "version": 2
   },
   "file_extension": ".py",
   "mimetype": "text/x-python",
   "name": "python",
   "nbconvert_exporter": "python",
   "pygments_lexer": "ipython2",
   "version": "2.7.14"
  }
 },
 "nbformat": 4,
 "nbformat_minor": 2
}
