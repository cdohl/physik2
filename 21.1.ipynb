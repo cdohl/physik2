{
 "cells": [
  {
   "cell_type": "markdown",
   "metadata": {},
   "source": [
    "## 21 Magnetfelder in magnetischen Materialien\n",
    "### 21.1 Hysterese\n",
    "\n",
    "* Das Feld einer langen Spule is proportional zum Strom.\n",
    "\n",
    "$$B_0=\\mu_0\\, n\\,I$$\n",
    "\n",
    "* Fügen wir ein Eisenkern oder ein anderes ferromagnetische Material in die Spule, wächst die magnetische Flußdichte $B$ erheblich an.\n",
    "\n",
    "* Das Gesamtfeld besteht aus zwei Terme\n",
    "\n",
    "$$\\vec{B}=\\vec{B}_0 +\\vec{B}_M$$\n",
    "\n",
    "  wobei $\\vec{B}_M$ für das zusätzliche Feld steht, und $\\vec{B}_0$ das Feld im Vakuum (also ohne den Eisenkern). Für ferromagnetische Materialien $\\vec{B}_M\\gg\\vec{B}_0$.\n",
    "  \n",
    "\n",
    "* Gesamtmagnetfeld $B$ mit Eisenkern als Funktion des äußeren Magnetfeldes $B_0$, das vom Strom $I$ erzeugt wird\n",
    "\n",
    "<img src=\"figures/21.1_1.png\" alt=\"21.1_1\" style=\"width: 250px;\"/>\n",
    "\n",
    "  Wenn das Magnetfeld $B_0$ zunimmt, richten sich Domänen nach und nach aus, bis bei Punkt $b$ das Material sich der *Sättigung* nähert.\n",
    "\n",
    "* Wenn der Strom und damit das Magnetfeld $B_0$ auf Null verringert wird, bleiben die Domänen teilweise erhalten und ein Magnetfeld $B$ bleibt erhalten (Punkt c in Abbildung unten).\n",
    "\n",
    "<img src=\"figures/21.1_2.png\" alt=\"21.1_2\" style=\"width: 250px;\"/>\n",
    "\n",
    "  Wird die Stromrichtung umgekehrt erreicht man $B=0$ am Punkt d. Und nimmt er in umgekehrter Richtung weiter zu nähert man sich einem zweiten Sättigungswert an (Punkt e). Die Schleife wird geschlossen über das Magnetfeld bei verschwindendem Magnetfeld $B_0$ (Punkt f) und dem Gesamtmagnetfeld $B$ am Punkt g.\n",
    "  \n",
    "* Startet man von $B=0$ am Punkt a kommt man nicht wieder zu dem Punkt a zurück. Diese Verhalten heisst *Hysterese*. Die Kurve bcdefg wird *Hystereseschleife* genannt. \n",
    "\n",
    "* Für einen permanenten Magneten soll die Strecke $\\overline{ac}$ und $\\overline{af}$ möglichst lang sein. Die Strecke wird *Remanenz* genannt.\n",
    "\n",
    "* Entmagnetisierung eines ferroelektrischen Materials wird durch wiederholte Umkehrung des Magentisierungsstromes bei Verringerung seines Betrages erreicht, s. Abbildung unten.\n",
    "\n",
    "<img src=\"figures/21.1_3.png\" alt=\"21.1_3\" style=\"width: 250px;\"/>\n"
   ]
  }
 ],
 "metadata": {
  "kernelspec": {
   "display_name": "Python [conda env:anaconda2]",
   "language": "python",
   "name": "conda-env-anaconda2-py"
  },
  "language_info": {
   "codemirror_mode": {
    "name": "ipython",
    "version": 2
   },
   "file_extension": ".py",
   "mimetype": "text/x-python",
   "name": "python",
   "nbconvert_exporter": "python",
   "pygments_lexer": "ipython2",
   "version": "2.7.14"
  }
 },
 "nbformat": 4,
 "nbformat_minor": 2
}
