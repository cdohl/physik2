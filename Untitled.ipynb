{
 "cells": [
  {
   "cell_type": "markdown",
   "metadata": {},
   "source": [
    "Gauss'sche Gesetz für elektrische Felder\n",
    "\n",
    "$$\\oint \\vec{E} \\cdot \\mathrm{d}\\vec{A} = \\frac{Q_{umg}}{\\epsilon_0}$$\n",
    "\n",
    "\n",
    "Faraday'sche Induktionsgesetz\n",
    "$$U_{ind} =\\oint \\vec{E}\\cdot\\mathrm{d}\\vec{l}= - \\frac{\\mathrm{d}\\Phi}{\\mathrm{d}t}$$"
   ]
  },
  {
   "cell_type": "code",
   "execution_count": null,
   "metadata": {},
   "outputs": [],
   "source": []
  }
 ],
 "metadata": {
  "kernelspec": {
   "display_name": "Python [default]",
   "language": "python",
   "name": "python2"
  },
  "language_info": {
   "codemirror_mode": {
    "name": "ipython",
    "version": 2
   },
   "file_extension": ".py",
   "mimetype": "text/x-python",
   "name": "python",
   "nbconvert_exporter": "python",
   "pygments_lexer": "ipython2",
   "version": "2.7.14"
  }
 },
 "nbformat": 4,
 "nbformat_minor": 2
}
