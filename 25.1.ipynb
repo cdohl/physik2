{
 "cells": [
  {
   "cell_type": "markdown",
   "metadata": {},
   "source": [
    "## 25 Allgemeine Wellenlehre\n",
    "### 25.1 Eindimensionale Wellenausbreitung: Darstellung und Wellengleichung\n",
    "\n",
    "\n",
    "* Welle: Eine sich räumlich ausbreitende Veränderung (Störung) oder Schwingung einer orts- **und** zeitabhängigen physikalischen Größe\n",
    "\n",
    "  $$u=u(t,\\vec{r})\\quad \\vec{r}\\,\\,\\,\\mathrm{: Ortskoordinate}$$\n",
    "  \n",
    "* Für die Ausbreitung z.B. entlang der $x$-Richtung\n",
    "\n",
    "  $$u=u(t,x)$$\n",
    "  \n",
    "* Die Welle transportiert keine Masse, Teilchen sind im zeitlichen Mittel ortsfest.\n",
    "\n",
    "* Kopplung der Schwinger führt zur Ausbreitung des Störung (Transport von Energie)\n",
    "  \n",
    "  ⇨ Ausbreitungsgeschwindigkeit ist die Phasengeschwindigkeit $c$\n",
    "  \n",
    "* Wir unterscheiden zwischen Transversalwellen und Longitudinalwellen\n",
    "\n",
    "* Transversalwellen:\n",
    "  * Schwingung erfolgt senkrecht zur Ausbreitungsrichtung\n",
    "  * Bsp.: Seilwellen, Wasserwellen, elektromagnetische Wellen\n",
    "  \n",
    "* Longitudinalwellen:\n",
    "  * Schwingung parallel zur Ausbreitungsrichtung\n",
    "  * Bsp.: Feder, Schallwellen, Stäbe bei longitudinaler Erregung\n",
    "  \n",
    "* harmonische Welle entlang der positiven $x$-Richtung\n",
    "\n",
    "  $$u(t,x) = \\hat{u} \\, \\sin\\underbrace{\\left[\\omega\\left(t-\\frac{x}{c}\\right)+\\varphi_0\\right]}_{\\mathrm{Phase}\\,\\varphi}$$\n",
    "\n",
    "  * Die Phase $\\varphi$ beschreibt den Auslenkungszustand der physikalischen Größe.\n",
    "  * Wenn die Phase $\\varphi$ konstant ist muss\n",
    "  \n",
    "    $$t-\\frac{x}{c}=\\mathrm{konst.}$$ \n",
    "  \n",
    "    sein. Das Minuszeichen gilt für die Ausbreitung in positive $x$-Richtung.\n",
    "    \n",
    "* harmonische Welle entlang der negativen $x$-Richtung\n",
    "\n",
    "  $$ t+\\frac{x}{c}=\\mathrm{konst.}$$\n",
    "  \n",
    "  ⇨ \n",
    "  \n",
    "  $$u(t,x) = \\hat{u} \\, \\sin\\left[\\omega\\left(t+\\frac{x}{c}\\right)+\\varphi_0\\right]$$\n",
    "  \n",
    "  "
   ]
  },
  {
   "cell_type": "markdown",
   "metadata": {},
   "source": [
    "* Schwingung eines Teilchens am Ort $x_0$"
   ]
  },
  {
   "cell_type": "code",
   "execution_count": 2,
   "metadata": {
    "hide_input": true
   },
   "outputs": [
    {
     "data": {
      "application/vnd.jupyter.widget-view+json": {
       "model_id": "37056bdfd83a46dc961bf296b58409bd",
       "version_major": 2,
       "version_minor": 0
      },
      "text/html": [
       "<p>Failed to display Jupyter Widget of type <code>interactive</code>.</p>\n",
       "<p>\n",
       "  If you're reading this message in the Jupyter Notebook or JupyterLab Notebook, it may mean\n",
       "  that the widgets JavaScript is still loading. If this message persists, it\n",
       "  likely means that the widgets JavaScript library is either not installed or\n",
       "  not enabled. See the <a href=\"https://ipywidgets.readthedocs.io/en/stable/user_install.html\">Jupyter\n",
       "  Widgets Documentation</a> for setup instructions.\n",
       "</p>\n",
       "<p>\n",
       "  If you're reading this message in another frontend (for example, a static\n",
       "  rendering on GitHub or <a href=\"https://nbviewer.jupyter.org/\">NBViewer</a>),\n",
       "  it may mean that your frontend doesn't currently support widgets.\n",
       "</p>\n"
      ],
      "text/plain": [
       "interactive(children=(FloatSlider(value=0.0, description=u'x0', max=1.0, min=-1.0), FloatSlider(value=1.0, description=u'omega', max=2.0, min=0.2), FloatSlider(value=0.0, description=u'phi0', max=1.6, min=-1.6), Output()), _dom_classes=('widget-interact',))"
      ]
     },
     "metadata": {},
     "output_type": "display_data"
    }
   ],
   "source": [
    "%matplotlib inline\n",
    "from ipywidgets import *\n",
    "import numpy as np\n",
    "import matplotlib.pyplot as plt\n",
    "\n",
    "\n",
    "def arrowed_spines(fig, ax):\n",
    "\n",
    "    xmin, xmax = ax.get_xlim() \n",
    "    ymin, ymax = ax.get_ylim()\n",
    "\n",
    "    # removing the default axis on all sides:\n",
    "    for side in ['bottom','right','top','left']:\n",
    "        ax.spines[side].set_visible(False)\n",
    "\n",
    "    # removing the axis ticks\n",
    "    plt.xticks([]) # labels \n",
    "    plt.yticks([])\n",
    "    ax.xaxis.set_ticks_position('none') # tick markers\n",
    "    ax.yaxis.set_ticks_position('none')\n",
    "\n",
    "    # get width and height of axes object to compute \n",
    "    # matching arrowhead length and width\n",
    "    dps = fig.dpi_scale_trans.inverted()\n",
    "    bbox = ax.get_window_extent().transformed(dps)\n",
    "    width, height = bbox.width, bbox.height\n",
    "\n",
    "    # manual arrowhead width and length\n",
    "    hw = 1./20.*(ymax-ymin) \n",
    "    hl = 1./20.*(xmax-xmin)\n",
    "    lw = 1. # axis line width\n",
    "    ohg = 0.3 # arrow overhang\n",
    "\n",
    "    # compute matching arrowhead length and width\n",
    "    yhw = hw/(ymax-ymin)*(xmax-xmin)* height/width \n",
    "    yhl = hl/(xmax-xmin)*(ymax-ymin)* width/height\n",
    "\n",
    "    # draw x and y axis\n",
    "    ax.arrow(xmin, 0, xmax-xmin, 0., fc='k', ec='k', lw = lw, \n",
    "             head_width=hw, head_length=hl, overhang = ohg, \n",
    "             length_includes_head= True, clip_on = False) \n",
    "\n",
    "    ax.arrow(0, ymin, 0., ymax-ymin, fc='k', ec='k', lw = lw, \n",
    "             head_width=yhw, head_length=yhl, overhang = ohg, \n",
    "             length_includes_head= True, clip_on = False)\n",
    "\n",
    "\n",
    "c=1.\n",
    "def update(x0=0., omega=1., phi0=0):\n",
    "    t = np.linspace(0, 6 * np.pi,500)\n",
    "    T=2.*np.pi/omega\n",
    "    u=np.sin(omega*(t-x0/c)+phi0)\n",
    "    \n",
    "    fig = plt.figure(figsize=(9,4))\n",
    "    \n",
    "    plt.plot(t/T,u)\n",
    "    plt.xlabel(r'Zeit $(t/T)$',fontsize=15)\n",
    "    plt.ylabel(r'Amplitude',fontsize=15)\n",
    "    arrowed_spines(fig, plt.gca())\n",
    "    if omega>=0.5:\n",
    "        lx1=((np.pi/2.-phi0)/omega+x0/c)/T\n",
    "        lx2=((5*np.pi/2.-phi0)/omega+x0/c)/T\n",
    "        plt.plot([lx1,lx1],[1,-1],'k','-.')\n",
    "        plt.plot([lx2,lx2],[1,-1],'k','-.')\n",
    "        plt.text((lx1+(lx2-lx1)/2.),-.42,r'$T$',fontsize=15)\n",
    "        plt.annotate(s='', xy=(lx2,-0.5), xytext=(lx1,-0.5), arrowprops=dict(arrowstyle='<->'))\n",
    "    plt.show()\n",
    "\n",
    "interact(update,x0=(-1.,1.), omega=(0.2,2.), phi0=(-1.6,1.6));"
   ]
  },
  {
   "cell_type": "markdown",
   "metadata": {
    "hide_input": true
   },
   "source": [
    "  Periodendauer ⇨ zeitliche Periodizität\n",
    "  $$ \\omega = \\frac{2\\pi}{T} $$"
   ]
  },
  {
   "cell_type": "markdown",
   "metadata": {},
   "source": [
    "\n",
    "----\n",
    "* Momentanbild einer Welle zum Zeitpunkt $t=t_0$\n",
    "  ⇨ $u(t_0,x)$"
   ]
  },
  {
   "cell_type": "code",
   "execution_count": 3,
   "metadata": {
    "hide_input": true,
    "scrolled": false
   },
   "outputs": [
    {
     "data": {
      "application/vnd.jupyter.widget-view+json": {
       "model_id": "6b1c9b65b84a41d6a3aced88299aa1d0",
       "version_major": 2,
       "version_minor": 0
      },
      "text/html": [
       "<p>Failed to display Jupyter Widget of type <code>interactive</code>.</p>\n",
       "<p>\n",
       "  If you're reading this message in the Jupyter Notebook or JupyterLab Notebook, it may mean\n",
       "  that the widgets JavaScript is still loading. If this message persists, it\n",
       "  likely means that the widgets JavaScript library is either not installed or\n",
       "  not enabled. See the <a href=\"https://ipywidgets.readthedocs.io/en/stable/user_install.html\">Jupyter\n",
       "  Widgets Documentation</a> for setup instructions.\n",
       "</p>\n",
       "<p>\n",
       "  If you're reading this message in another frontend (for example, a static\n",
       "  rendering on GitHub or <a href=\"https://nbviewer.jupyter.org/\">NBViewer</a>),\n",
       "  it may mean that your frontend doesn't currently support widgets.\n",
       "</p>\n"
      ],
      "text/plain": [
       "interactive(children=(FloatSlider(value=0.0, description=u't0', max=3.0, min=-1.0), FloatSlider(value=1.0, description=u'omega', max=2.0, min=0.2), FloatSlider(value=0.0, description=u'phi0', max=1.6, min=-1.6), Output()), _dom_classes=('widget-interact',))"
      ]
     },
     "metadata": {},
     "output_type": "display_data"
    }
   ],
   "source": [
    "%matplotlib inline\n",
    "from ipywidgets import *\n",
    "import numpy as np\n",
    "import matplotlib.pyplot as plt\n",
    "\n",
    "\n",
    "c=1.\n",
    "def update(t0=0., omega=1., phi0=0):\n",
    "    x = np.linspace(0, 6 * np.pi,500)\n",
    "    l = 2*np.pi*c/omega\n",
    "    u=np.sin(omega*(t0-x/c)+phi0)\n",
    "    \n",
    "    fig = plt.figure(figsize=(9,4))\n",
    "    \n",
    "    plt.plot(x/l,u,'r')\n",
    "    plt.xlabel(r'Ort $(x/\\lambda)$',fontsize=15)\n",
    "    plt.ylabel(r'Amplitude',fontsize=15)\n",
    "    arrowed_spines(fig, plt.gca())\n",
    "    if omega>=0.5:\n",
    "        lx1=c*((np.pi/2.+phi0)/omega+t0)/l\n",
    "        lx2=c*((+5*np.pi/2.+phi0)/omega+t0)/l\n",
    "        plt.plot([lx1,lx1],[1,-1],'k','-.')\n",
    "        plt.plot([lx2,lx2],[1,-1],'k','-.')\n",
    "        plt.text((lx1+(lx2-lx1)/2.),-.42,r'$\\lambda$',fontsize=15)\n",
    "        plt.annotate(s='', xy=(lx2,-0.5), xytext=(lx1,-0.5), arrowprops=dict(arrowstyle='<->'))\n",
    "    plt.show()\n",
    "\n",
    "interact(update,t0=(-1.,3.), omega=(0.2,2.), phi0=(-1.6,1.6));"
   ]
  },
  {
   "cell_type": "markdown",
   "metadata": {},
   "source": [
    "  Wellenlänge  ⇨ räumliche Periodizität\n",
    "  \n",
    "  ⇨ Wellenzahl: \n",
    "  $$k=\\frac{2\\pi}{\\lambda}$$"
   ]
  },
  {
   "cell_type": "markdown",
   "metadata": {},
   "source": [
    "* Zusammenhang zur Phasengeschwindigkeit\n",
    "\n",
    "  $$c=\\frac{\\lambda}{T}=\\frac{2\\,\\pi}{T}\\cdot \\frac{\\lambda}{2\\,\\pi}=\\omega \\cdot \\frac{1}{k}$$\n",
    "  \n",
    "  \n",
    "  ⇨$$c=\\frac{\\omega}{k}$$\n",
    "  \n",
    "  Einsetzen in die Wellengleichung\n",
    "  \n",
    "  ⇨\n",
    "  \\begin{eqnarray}\n",
    "  u(t,x)&=&\\hat{u}\\,\\sin\\left(\\omega\\, t-k\\, x +\\varphi_0\\right)\\\\\n",
    "  &=& \\hat{u} ,\\sin\\left(\\frac{2\\pi}{T}\\, t-\\frac{2\\pi}{\\lambda}\\, x +\\varphi_0\\right)\n",
    "  \\end{eqnarray}"
   ]
  },
  {
   "cell_type": "markdown",
   "metadata": {},
   "source": [
    "* Allgemeine Wellen-DGl.\n",
    "  \\begin{eqnarray}\n",
    "  \\frac{\\partial^2\\,u}{\\partial\\, x^2}&=&-\\hat{u}\\,k^2\\,\\sin\\left(\\omega t - kx -\\varphi_0\\right)\\\\\n",
    "    \\frac{\\partial^2\\,u}{\\partial\\, t^2}&=&-\\hat{u}\\,\\omega^2\\,\\sin\\left(\\omega t - kx -\\varphi_0\\right)\n",
    "  \\end{eqnarray}\n",
    "  \n",
    "  Einsetzen der 2. Ableitungen ineinander:\n",
    "  \n",
    "  \\begin{eqnarray}\n",
    "  \\frac{1}{\\omega^2}\\,\\frac{\\partial^2\\,u}{\\partial\\, t^2}&=&\n",
    "  \\frac{1}{k^2}\\frac{\\partial^2\\,u}{\\partial\\, x^2}\\\\\n",
    "   \\frac{k^2}{\\omega^2}\\,\\frac{\\partial^2\\,u}{\\partial\\, t^2}&=&\n",
    "  \\frac{\\partial^2\\,u}{\\partial\\, x^2}\n",
    "  \\end{eqnarray}\n",
    "  \n",
    "  <div class=\"alert alert-success\">\n",
    "  **Allgemeine 1-dimensionale Wellengleichung**\n",
    "  $$\\frac{1}{c^2}\\,\\frac{\\partial^2\\,u}{\\partial\\, t^2}=\n",
    "  \\frac{\\partial^2\\,u}{\\partial\\, x^2}$$\n",
    "  </div>\n",
    "  ⇨ $c$ ist eine Materialeigenschaft\n",
    " "
   ]
  }
 ],
 "metadata": {
  "kernelspec": {
   "display_name": "Python [default]",
   "language": "python",
   "name": "python2"
  },
  "language_info": {
   "codemirror_mode": {
    "name": "ipython",
    "version": 2
   },
   "file_extension": ".py",
   "mimetype": "text/x-python",
   "name": "python",
   "nbconvert_exporter": "python",
   "pygments_lexer": "ipython2",
   "version": "2.7.14"
  }
 },
 "nbformat": 4,
 "nbformat_minor": 2
}
