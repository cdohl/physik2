{
 "cells": [
  {
   "cell_type": "markdown",
   "metadata": {},
   "source": [
    "### 21.2 Paramagnetismus und Diamagnetismus\n",
    "\n",
    "* Alle Materialien sind (bis zu einem gewissen Grad) magnetisch.\n",
    "\n",
    "* Nichtferromagnetische Materialien sind entweder \n",
    "  * paramagnetisch mit $\\mu>\\mu_0$\n",
    "  * diamagnetisch mit $\\mu<\\mu_0$\n",
    "  \n",
    "* Die Permabilitätszahl (relative Permeabilität) \n",
    "\n",
    "$$\\mu_r=\\frac{\\mu}{\\mu_0}$$\n",
    "\n",
    "* Magnetische Suszeptibiliät $\\chi_m$\n",
    "$$\\chi_m=\\mu_r -1$$\n",
    "\n",
    "  * paramagnetisch $\\mu_r>1$ und $\\chi_m>0$\n",
    "  * diamagnetisch $\\mu_r<1$ und $\\chi_m<0$\n",
    "  \n",
    "* Paramagnetismus\n",
    "  * Moleküle oder Ionen tragen ein permanentes magnetisches Dipolmoment\n",
    "  * Ohne Magnetfeld willkürliche Ausrichtung von Dipolen. Im Magnetfeld wird ein Drehimpuls ausgeübt und die Dipole richten sich vorzugsweise zum Feld aus.\n",
    "  * Magnetisierung\n",
    " $$ \\vec{M}=\\frac{\\vec{m}}{V}$$ \n",
    "   wobei $\\vec{m}$ das magnetische Dipolmoment des Materials ist und $V$ das Volumen.\n",
    "\n",
    "* Diamagnetische Materialien\n",
    "  * $\\mu<\\mu_0$-Materialien bestehen aus Molekülen ohne permanentes magnetisches Dipolmoment.\n",
    "  * Durch Anlegen eines Magnetfeld werden Dipole erzeugt, die sich entgegen der Feldrichtung ausrichten und damit das Gesamtmagnetfeld veringern.\n",
    "  * Alle Materialien zeigen Diamagnetismus, ist aber generell schwächer und wird vom Para- und Ferromagnetismus meist überlagert. \n",
    " "
   ]
  },
  {
   "cell_type": "markdown",
   "metadata": {
    "slideshow": {
     "slide_type": "slide"
    }
   },
   "source": [
    "Bei genügend starken Magnetfeldern kann auch der schwache Diamagentismus von Wasser benutzt werden. Hier wird beispielsweise ein Frosch levitiert. Dieses Experiment wurde von Prof Geim durchgeführt. Er hat den IG Nobelpreis (Frosch) und den Nobelpreis (Graphene) in Physik gewonnen. "
   ]
  },
  {
   "cell_type": "code",
   "execution_count": 3,
   "metadata": {
    "hide_input": true,
    "scrolled": true
   },
   "outputs": [
    {
     "data": {
      "image/jpeg": "[encoded data removed]",
      "text/html": [
       "\n",
       "        <iframe\n",
       "            width=\"600\"\n",
       "            height=\"300\"\n",
       "            src=\"https://www.youtube.com/embed/A1vyB-O5i6E\"\n",
       "            frameborder=\"0\"\n",
       "            allowfullscreen\n",
       "        ></iframe>\n",
       "        "
      ],
      "text/plain": [
       "<IPython.lib.display.YouTubeVideo at 0x10f6a9e10>"
      ]
     },
     "execution_count": 3,
     "metadata": {},
     "output_type": "execute_result"
    }
   ],
   "source": [
    "from IPython.display import YouTubeVideo\n",
    "YouTubeVideo('A1vyB-O5i6E',width=600)"
   ]
  }
 ],
 "metadata": {
  "kernelspec": {
   "display_name": "Python [conda env:anaconda2]",
   "language": "python",
   "name": "conda-env-anaconda2-py"
  },
  "language_info": {
   "codemirror_mode": {
    "name": "ipython",
    "version": 2
   },
   "file_extension": ".py",
   "mimetype": "text/x-python",
   "name": "python",
   "nbconvert_exporter": "python",
   "pygments_lexer": "ipython2",
   "version": "2.7.14"
  }
 },
 "nbformat": 4,
 "nbformat_minor": 2
}
