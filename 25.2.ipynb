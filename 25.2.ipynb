{
 "cells": [
  {
   "cell_type": "markdown",
   "metadata": {},
   "source": [
    "### 25.2 Energietransport und Intensität\n",
    "\n",
    "* Ausgangspunkt: Momentanbild einer Seilwelle\n",
    "\n",
    "  $$u(x,t)=\\hat{u}\\sin (\\omega t - k x - \\varphi_0)$$"
   ]
  },
  {
   "cell_type": "code",
   "execution_count": 10,
   "metadata": {
    "hide_input": true
   },
   "outputs": [
    {
     "data": {
      "image/png": "[encoded data removed]",
      "text/plain": [
       "<matplotlib.figure.Figure at 0x104004c90>"
      ]
     },
     "metadata": {},
     "output_type": "display_data"
    }
   ],
   "source": [
    "%matplotlib inline\n",
    "from ipywidgets import *\n",
    "import numpy as np\n",
    "import matplotlib.pyplot as plt\n",
    "\n",
    "\n",
    "def arrowed_spines(fig, ax):\n",
    "\n",
    "    xmin, xmax = ax.get_xlim() \n",
    "    ymin, ymax = ax.get_ylim()\n",
    "\n",
    "    # removing the default axis on all sides:\n",
    "    for side in ['bottom','right','top','left']:\n",
    "        ax.spines[side].set_visible(False)\n",
    "\n",
    "    # removing the axis ticks\n",
    "    plt.xticks([]) # labels \n",
    "    plt.yticks([])\n",
    "    ax.xaxis.set_ticks_position('none') # tick markers\n",
    "    ax.yaxis.set_ticks_position('none')\n",
    "\n",
    "    # get width and height of axes object to compute \n",
    "    # matching arrowhead length and width\n",
    "    dps = fig.dpi_scale_trans.inverted()\n",
    "    bbox = ax.get_window_extent().transformed(dps)\n",
    "    width, height = bbox.width, bbox.height\n",
    "\n",
    "    # manual arrowhead width and length\n",
    "    hw = 1./20.*(ymax-ymin) \n",
    "    hl = 1./20.*(xmax-xmin)\n",
    "    lw = 1. # axis line width\n",
    "    ohg = 0.3 # arrow overhang\n",
    "\n",
    "    # compute matching arrowhead length and width\n",
    "    yhw = hw/(ymax-ymin)*(xmax-xmin)* height/width \n",
    "    yhl = hl/(xmax-xmin)*(ymax-ymin)* width/height\n",
    "\n",
    "    # draw x and y axis\n",
    "    ax.arrow(xmin, 0, xmax-xmin, 0., fc='k', ec='k', lw = lw, \n",
    "             head_width=hw, head_length=hl, overhang = ohg, \n",
    "             length_includes_head= True, clip_on = False) \n",
    "\n",
    "    ax.arrow(0, ymin, 0., ymax-ymin, fc='k', ec='k', lw = lw, \n",
    "             head_width=yhw, head_length=yhl, overhang = ohg, \n",
    "             length_includes_head= True, clip_on = False)\n",
    "\n",
    "\n",
    "c=1.\n",
    "t0=0.\n",
    "omega=1.\n",
    "phi0=0.\n",
    "x = np.linspace(0, 4 * np.pi,500)\n",
    "l = 2*np.pi*c/omega\n",
    "u=-np.sin(omega*(t0-x/c)+phi0)\n",
    "\n",
    "fig = plt.figure(figsize=(9,4))\n",
    "\n",
    "plt.plot(x,u,'r')\n",
    "plt.plot(l/4.,1.,'ro')\n",
    "plt.plot(l/2.,0.,'ro') \n",
    "plt.xlabel(r'Ort $(x)$',fontsize=15)\n",
    "plt.ylabel(r'$u(t_0,x)$',fontsize=15)\n",
    "arrowed_spines(fig, plt.gca())\n",
    "plt.text(l/4+.1*l,1.,r'(1)',fontsize=15)\n",
    "plt.text(l/2+.1*l,0.1,r'(2)',fontsize=15)\n",
    "plt.show()"
   ]
  },
  {
   "cell_type": "markdown",
   "metadata": {},
   "source": [
    "(1) keine kinetische Energie $E_{kin}=0$ und maximale potentielle Energie\n",
    "\n",
    "(2) $E_{pot}=0$ und maximale kinetische Energie\n",
    "\n",
    "* Mittelung über eine volle Periode $T$\n",
    "\n",
    "  $$\\overline{E_{ges}}=\\overline{E_{kin}}+\\overline{E_{pot}}$$\n",
    "  \n",
    "  ⇨ $\\overline{E_{kin}}=\\overline{E_{pot}}$\n",
    "  \n",
    "* ein kleines Massenelement $\\mathrm{d}m$:\n",
    "\n",
    "  $$\\mathrm{d} E_{kin} = \\frac{\\mathrm{d}m}{2}\\cdot \\dot{u}^2 \\quad \\mathrm{mit}\\quad \\dot{u}=\\omega \\hat{u}\\cos (\\omega t - k x +\\varphi_0)$$\n",
    "  \n",
    "  $$\\mathrm{d} \\overline{E_{kin}}=\\frac{1}{T}\\int_0^T \\mathrm{d} E_{kin}$$\n",
    "  \n",
    "  für $\\mathrm{d}m=\\rho \\cdot \\mathrm{d}V$\n",
    "  \n",
    "  $$\\mathrm{d} \\overline{E_{kin}} = \\frac{1}{2} \\cdot \\frac{1}{2}\\, \\underbrace{\\rho\\,\\mathrm{d}V}_{\\mathrm{d}m}\\,\\hat{u}^2\\,\\omega^2$$\n",
    "  \n",
    "  $$\\overline{E_{ges}}=2 \\overline{E_{kin}}\\quad \\mathrm{da}\\quad  \\overline{E_{kin}}=\\overline{E_{pot}}$$\n",
    "  \n",
    "  $$\\overline{E_{ges}}=\\frac{1}{2} \\rho \\, \\mathrm{d}V \\, \\hat{u}^2 \\, \\omega^2$$\n",
    "  \n",
    "  Die Energiedichte (Energie pro Volumen):\n",
    "  \n",
    "  $$\\frac{\\overline{E_{ges}}}{\\mathrm{d}V}=W=\\frac{1}{2} \\rho \\, \\hat{u}^2 \\, \\omega^2$$\n",
    "  \n",
    "  Einheit: $$\\left[\\mathsf{W}\\right]=\\mathsf{\\frac{J}{m^3}=\\frac{W s}{m^3}}$$"
   ]
  },
  {
   "cell_type": "markdown",
   "metadata": {},
   "source": [
    "* Übertragung der Energie mit der Geschwindigkeit $c$\n",
    "  ⇨ Energiestromdichte oder Intensität der Welle\n",
    "  \n",
    "  $$J = W \\, c = \\frac{1}{2} \\rho \\, \\hat{u}^2\\, \\omega^2 \\, c$$\n",
    "  \n",
    "  Die Intensität kann auch als eine Leistung pro Fläche beschrieben werden.\n",
    "  \n",
    "  $$J=\\frac{P}{A}$$\n",
    "  \n",
    "   Einheit: $$\\mathsf{\\left[J\\right]=\\frac{W}{m^2}}$$"
   ]
  }
 ],
 "metadata": {
  "kernelspec": {
   "display_name": "Python [default]",
   "language": "python",
   "name": "python2"
  },
  "language_info": {
   "codemirror_mode": {
    "name": "ipython",
    "version": 2
   },
   "file_extension": ".py",
   "mimetype": "text/x-python",
   "name": "python",
   "nbconvert_exporter": "python",
   "pygments_lexer": "ipython2",
   "version": "2.7.14"
  }
 },
 "nbformat": 4,
 "nbformat_minor": 2
}
