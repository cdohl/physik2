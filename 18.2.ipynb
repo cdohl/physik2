{
 "cells": [
  {
   "cell_type": "markdown",
   "metadata": {},
   "source": [
    "### 18.2 Differentieller Widerstand und Ohmsches Gesetz\n",
    "\n",
    "* Verknüpfung von Spannung und Stromstärke\n",
    "\n",
    "allgemein ⇨ differentieller Widerstand (Steigungsdreieck)\n",
    "\n",
    "* Am Beispiel einer Diode:\n",
    "\n",
    "$$ I_D = I_S \\left( e^{\\frac{U_D}{U_T}} - 1 \\right) $$\n",
    "\n",
    "hier ist $I_S$ der Sättigungssperrstrom, und $U_T\\approx 25\\,\\mathrm{mV}$ die Temperaturspannung\n"
   ]
  },
  {
   "cell_type": "code",
   "execution_count": 1,
   "metadata": {
    "hide_input": true
   },
   "outputs": [
    {
     "data": {
      "image/png": "[encoded data removed]",
      "text/plain": [
       "<matplotlib.figure.Figure at 0x110b14ed0>"
      ]
     },
     "metadata": {},
     "output_type": "display_data"
    }
   ],
   "source": [
    "%matplotlib inline\n",
    "%config InlineBackend.close_figures=False \n",
    "\n",
    "import ipywidgets as widgets\n",
    "import matplotlib.pyplot as plt\n",
    "import matplotlib as mpl\n",
    "import numpy as np\n",
    "mpl.rcParams['font.size'] = 15\n",
    "\n",
    "Ud = np.linspace(0., 1., 1000)\n",
    "UT = 25e-3\n",
    "Is = 1e-12\n",
    "\n",
    "def update_plot(Ic, dI):\n",
    "    plt.ioff()\n",
    "    plt.figure(1, figsize=(6, 4))\n",
    "    ax=plt.gca()\n",
    "    ax.clear()\n",
    "    #mI = np.linspace(Ic-0.1,Ic+0.1,100)\n",
    "    Id = Is*(np.exp(Ud/UT)-1.)\n",
    "    #U1 = UT*np.log((Ic-dI)/Is+1.)\n",
    "    #U2 = UT*np.log((Ic+dI)/Is+1.)\n",
    "    #Uc = UT*np.log((Ic)/Is+1.)\n",
    "    #m = UT/Is/(Ic/Is+1.)\n",
    "    #plt.plot((Ic-dI, Ic+dI), (U1, U1), 'k-.')\n",
    "    #plt.plot((Ic+dI, Ic+dI), (U1, U2), 'k-.')\n",
    "    ax.plot(Ud, Id)\n",
    "    #ax.plot(Ic,Uc,'ko')\n",
    "    #ax.plot(mI,m*(mI-Ic)+Uc,'k')\n",
    "    #ax.text(Ic, U1-0.005,\"$\\Delta I$\")\n",
    "    #ax.text(Ic+dI+0.03,U1+(U2-U1)/2.,\"$\\Delta U$\")\n",
    "    ax.set_ylim(0,1.6)\n",
    "    ax.set_ylabel('Strom $I_D$ (A)')\n",
    "    ax.set_xlabel('Spannung $U_D$ (V)')\n",
    "    plt.show()\n",
    "\n",
    "update_plot(1,1)\n",
    "#Ic = widgets.FloatSlider(min=.2, max=.9, value=.4, step=0.02, description='I')\n",
    "#dI = widgets.FloatSlider(min=.02, max=.2, value=.1, step = 0.01, description='$\\Delta I$')\n",
    "\n",
    "#widgets.interactive(update_plot, Ic=Ic, dI=dI)"
   ]
  },
  {
   "cell_type": "markdown",
   "metadata": {
    "hide_input": true
   },
   "source": [
    "oder nach $U_D$ aufgelöst \n",
    "$$U_D = \\frac{U_T}{I_S} \\left[\\ln\\left(\\frac{1}{\\frac{I_D}{I_S}+1}\\right)\\right]$$"
   ]
  },
  {
   "cell_type": "code",
   "execution_count": 1,
   "metadata": {
    "hide_input": true,
    "scrolled": false
   },
   "outputs": [
    {
     "data": {
      "application/vnd.jupyter.widget-view+json": {
       "model_id": "48f11162e71248068bf6b242e49a360f",
       "version_major": 2,
       "version_minor": 0
      },
      "text/plain": [
       "aW50ZXJhY3RpdmUoY2hpbGRyZW49KEZsb2F0U2xpZGVyKHZhbHVlPTAuNCwgZGVzY3JpcHRpb249dSdJJywgbWF4PTAuOSwgbWluPTAuMjUsIHN0ZXA9MC4wMiksIEZsb2F0U2xpZGVyKHZhbHXigKY=\n"
      ]
     },
     "metadata": {},
     "output_type": "display_data"
    }
   ],
   "source": [
    "%matplotlib inline\n",
    "%config InlineBackend.close_figures=False \n",
    "\n",
    "import ipywidgets as widgets\n",
    "import matplotlib.pyplot as plt\n",
    "import matplotlib as mpl\n",
    "import numpy as np\n",
    "mpl.rcParams['font.size'] = 15\n",
    "\n",
    "Id = np.linspace(0.25, 1., 1000)\n",
    "UT = 25e-3\n",
    "Is = 1e-12\n",
    "#dI = .1\n",
    "#fig.suptitle(\"Coloumbgesetz in einer Dimension\")\n",
    "\n",
    "def update_plot(Ic, dI):\n",
    "    plt.ioff()\n",
    "    plt.figure(1, figsize=(6, 4))\n",
    "    ax=plt.gca()\n",
    "    ax.clear()\n",
    "    mI = np.linspace(Ic-0.1,Ic+0.1,100)\n",
    "    Ud = UT*np.log(Id/Is+1.)\n",
    "    U1 = UT*np.log((Ic-dI)/Is+1.)\n",
    "    U2 = UT*np.log((Ic+dI)/Is+1.)\n",
    "    Uc = UT*np.log((Ic)/Is+1.)\n",
    "    m = UT/Is/(Ic/Is+1.)\n",
    "    plt.plot((Ic-dI, Ic+dI), (U1, U1), 'k-.')\n",
    "    plt.plot((Ic+dI, Ic+dI), (U1, U2), 'k-.')\n",
    "    ax.plot(Id, Ud)\n",
    "    ax.plot(Ic,Uc,'ko')\n",
    "    ax.plot(mI,m*(mI-Ic)+Uc,'k')\n",
    "    ax.text(Ic, U1-0.005,\"$\\Delta I$\")\n",
    "    ax.text(Ic+dI+0.03,U1+(U2-U1)/2.,\"$\\Delta U$\")\n",
    "    ax.set_xlabel('Strom $I_D$ (A)')\n",
    "    ax.set_ylabel('Spannung $U_D$ (V)')\n",
    "    plt.show()\n",
    "\n",
    "\n",
    "Ic = widgets.FloatSlider(min=.25, max=.9, value=.4, step=0.02, description='I')\n",
    "dI = widgets.FloatSlider(min=.02, max=.2, value=.1, step = 0.01, description='$\\Delta I$')\n",
    "\n",
    "widgets.interactive(update_plot, Ic=Ic, dI=dI)"
   ]
  },
  {
   "cell_type": "markdown",
   "metadata": {},
   "source": [
    "* Der differentielle Widerstand $R_D$ ist definiert als Tangente an der U-I-Kurve in jedem Punkt\n",
    "\n",
    "$$R_D=\\lim_{\\Delta I\\rightarrow 0}\\frac{\\Delta U}{\\Delta I} = \\frac{\\mathrm{d}U}{\\mathrm{d}I}$$\n",
    "\n",
    "* Spezialfall ist das $R_D=\\mathrm{konst.}$ ⇨  $R_D=R$ wobei $R$ der Ohmsche Widerstand ist.\n",
    "\n",
    "* Für metallische Leiter bei konstanter Temperatur\n",
    "\n",
    "$$R = \\frac{U}{I}\\quad\\quad [R]=\\Omega=\\mathsf{Ohm}$$ oder\n",
    "$$U = R \\cdot I $$\n",
    "\n",
    "* Definition des spezifischen elektrischen Widerstands\n",
    "\n",
    "$$\\rho =\\frac{R \\cdot A}{l}$$\n",
    "\n",
    "wobei $l$ die Länge des Leiters und $A$ der Querschnitt des Leiters ist.\n",
    "\n",
    "* Leitfähigkeit: $$\\kappa = \\frac{1}{\\rho}$$"
   ]
  }
 ],
 "metadata": {
  "kernelspec": {
   "display_name": "Python [default]",
   "language": "python",
   "name": "python2"
  },
  "language_info": {
   "codemirror_mode": {
    "name": "ipython",
    "version": 2
   },
   "file_extension": ".py",
   "mimetype": "text/x-python",
   "name": "python",
   "nbconvert_exporter": "python",
   "pygments_lexer": "ipython2",
   "version": "2.7.14"
  }
 },
 "nbformat": 4,
 "nbformat_minor": 2
}
