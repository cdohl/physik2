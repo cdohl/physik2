{
 "cells": [
  {
   "cell_type": "markdown",
   "metadata": {},
   "source": [
    "### 16.5 Elektrische Ladungen auf Leitern, Influenz\n",
    "\n",
    "* Influenz:\n",
    "  * Wird ein metallischer Leiter in ein elektrisches Feld gebracht, dann erscheinen auf seinen Oberflächen Ladungen\n",
    "  * Ladungstrennung durch Influenz\n",
    "  * Elektrophor\n",
    "  * Wimshurstmaschine\n",
    "  * Kelvingenerator\n",
    "* Inhomogenitäten der Ladungverteilung werden im Inneren von metallischen Körpern nur kurze Zeit existieren können ⇨ elektrostatische Kräfte führen zum Ladungsausgleich\n",
    "* Ladungsverteilung an der Oberfläche\n",
    "\n",
    "<img src=\"figures/16.5_1.png\" alt=\"16.5_1\" style=\"width: 300px;\"/>\n",
    "\n",
    "  * Feld $\\vec{E}_\\parallel$ parallel zur Oberfläche Null!\n",
    "  * elektrische Feldstärke besitzt nur eine Komponente senkrecht (normal) zur Oberfläche $\\vec{E}_\\bot \\neq 0$"
   ]
  }
 ],
 "metadata": {
  "kernelspec": {
   "display_name": "Python [default]",
   "language": "python",
   "name": "python2"
  },
  "language_info": {
   "codemirror_mode": {
    "name": "ipython",
    "version": 2
   },
   "file_extension": ".py",
   "mimetype": "text/x-python",
   "name": "python",
   "nbconvert_exporter": "python",
   "pygments_lexer": "ipython2",
   "version": "2.7.14"
  }
 },
 "nbformat": 4,
 "nbformat_minor": 2
}
